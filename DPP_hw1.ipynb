{
 "cells": [
  {
   "cell_type": "code",
   "execution_count": null,
   "id": "2a1baab4-7132-4823-8b2f-98be57cdf247",
   "metadata": {},
   "outputs": [],
   "source": []
  },
  {
   "cell_type": "code",
   "execution_count": 1,
   "id": "d8527806-24f6-43e1-a3ad-d70496fa55a5",
   "metadata": {
    "tags": []
   },
   "outputs": [
    {
     "data": {
      "text/plain": [
       "'C:\\\\Users\\\\easyy\\\\Py_try'"
      ]
     },
     "execution_count": 1,
     "metadata": {},
     "output_type": "execute_result"
    }
   ],
   "source": [
    "import os\n",
    "os.getcwd()"
   ]
  },
  {
   "cell_type": "code",
   "execution_count": 2,
   "id": "fcbf04aa-d4fc-40e3-8f80-ece121c8debc",
   "metadata": {},
   "outputs": [],
   "source": [
    "# 함수( 인수 ) VS 객체.메소드( 파라미터 ) "
   ]
  },
  {
   "cell_type": "code",
   "execution_count": 3,
   "id": "98d5e91e-00ed-4343-b03f-4c46139625d3",
   "metadata": {},
   "outputs": [],
   "source": [
    "#특수값; ' 문자형 '으로 처리해야함을 주의!!\n",
    "#(참고!) True False; 대소문자도 주의!!\n",
    "#NULL: 자리X, 존재하지 않는 value\n",
    "\n",
    "#NA: 자리O, 알지 못하는 (결측치)사용불가한 value\n",
    "#NaN: (수학적으로 정의불가능해)사용불가한 numeric value"
   ]
  },
  {
   "cell_type": "code",
   "execution_count": 4,
   "id": "2d3616c2-288a-44b9-9059-ec3885c2a1dd",
   "metadata": {},
   "outputs": [],
   "source": [
    "#axis(2차원 이상: dataframe..)\n",
    "#=0: idx_name 살아있는 [열벡터] 단위로 →\n",
    "#=1: col_name 살아있는 [행벡터] 단위로 ↓"
   ]
  },
  {
   "cell_type": "code",
   "execution_count": 5,
   "id": "00f0683a-c97d-4da0-8a43-e0639b6c53fe",
   "metadata": {
    "tags": []
   },
   "outputs": [],
   "source": [
    "import numpy as np\n",
    "import pandas as pd"
   ]
  },
  {
   "cell_type": "markdown",
   "id": "20d8c620-e4c8-45a4-ad08-dda058f3f500",
   "metadata": {
    "tags": []
   },
   "source": [
    "### ▣ Dataframe 생성; dataset형식"
   ]
  },
  {
   "cell_type": "markdown",
   "id": "b60f34e5-c601-4802-b58a-801a622a9802",
   "metadata": {},
   "source": [
    "##### (1) array"
   ]
  },
  {
   "cell_type": "code",
   "execution_count": 6,
   "id": "d3116c19-ca4f-4a33-b4fa-2c936a8e483d",
   "metadata": {
    "tags": []
   },
   "outputs": [
    {
     "name": "stdout",
     "output_type": "stream",
     "text": [
      "   A  B  C\n",
      "1  1  2  3\n",
      "2  4  5  6\n"
     ]
    }
   ],
   "source": [
    "ary=np.array([[1,2,3],[4,5,6]])\n",
    "ary_df=pd.DataFrame(data=ary,index=range(1,3),columns=['A','B','C'])\n",
    "print(ary_df)"
   ]
  },
  {
   "cell_type": "markdown",
   "id": "a2b9458e-8abe-4f8c-8769-246f1d9a50e0",
   "metadata": {},
   "source": [
    "##### (2) dictionary"
   ]
  },
  {
   "cell_type": "code",
   "execution_count": 7,
   "id": "dce464eb-cb81-4d6c-9bd0-9d3192528ae5",
   "metadata": {},
   "outputs": [
    {
     "name": "stdout",
     "output_type": "stream",
     "text": [
      "   A  B  C\n",
      "0  1  2  3\n",
      "1  4  5  6\n"
     ]
    }
   ],
   "source": [
    "dict={'A':['1','4'],'B':['2','5'],'C':['3','6']}\n",
    "dict_df=pd.DataFrame(data=dict)\n",
    "print(dict_df)"
   ]
  },
  {
   "cell_type": "markdown",
   "id": "e8fa09f6-b183-4b01-8ac0-8f3a8f3b36ec",
   "metadata": {},
   "source": [
    "##### (3) series: 1개의 열"
   ]
  },
  {
   "cell_type": "code",
   "execution_count": 8,
   "id": "40c4baa5-0348-47f3-9c4f-fa544a8fa876",
   "metadata": {
    "tags": []
   },
   "outputs": [
    {
     "name": "stdout",
     "output_type": "stream",
     "text": [
      "UK           London\n",
      "India     New Delhi\n",
      "US       Washington\n",
      "dtype: object\n"
     ]
    }
   ],
   "source": [
    "sis={'UK':'London','India':'New Delhi','US':'Washington'}\n",
    "sis_df=pd.Series(sis)\n",
    "print(sis_df)"
   ]
  },
  {
   "cell_type": "markdown",
   "id": "ecff2546-da03-46b8-849b-514b185bc4e9",
   "metadata": {},
   "source": [
    "##### (4) 외부파일"
   ]
  },
  {
   "cell_type": "code",
   "execution_count": 9,
   "id": "a3db5da8-0538-42c5-9a29-7b9d7e82af16",
   "metadata": {
    "tags": []
   },
   "outputs": [
    {
     "name": "stdout",
     "output_type": "stream",
     "text": [
      "    mpg  cylinders  displacement horsepower  weight  acceleration  model year  \\\n",
      "0  18.0          8         307.0        130    3504          12.0          70   \n",
      "1  15.0          8         350.0        165    3693          11.5          70   \n",
      "2  18.0          8         318.0        150    3436          11.0          70   \n",
      "3  16.0          8         304.0        150    3433          12.0          70   \n",
      "4  17.0          8         302.0        140    3449          10.5          70   \n",
      "5  15.0          8         429.0        198    4341          10.0          70   \n",
      "6  14.0          8         454.0        220    4354           9.0          70   \n",
      "\n",
      "   origin                   car name  \n",
      "0       1  chevrolet chevelle malibu  \n",
      "1       1          buick skylark 320  \n",
      "2       1         plymouth satellite  \n",
      "3       1              amc rebel sst  \n",
      "4       1                ford torino  \n",
      "5       1           ford galaxie 500  \n",
      "6       1           chevrolet impala  \n"
     ]
    }
   ],
   "source": [
    "csv_df=pd.read_csv('auto-mpg.csv',sep=',')\n",
    "print(csv_df.head(7))"
   ]
  },
  {
   "cell_type": "markdown",
   "id": "a7235a73-9113-4fde-bbb4-66095e281312",
   "metadata": {
    "tags": []
   },
   "source": [
    "### ▣ Dataframe 탐색"
   ]
  },
  {
   "cell_type": "code",
   "execution_count": 10,
   "id": "e6e57177-0d19-447e-b283-a78e72ce4b01",
   "metadata": {
    "tags": []
   },
   "outputs": [
    {
     "name": "stdout",
     "output_type": "stream",
     "text": [
      "<class 'pandas.core.frame.DataFrame'>\n",
      "RangeIndex: 398 entries, 0 to 397\n",
      "Data columns (total 9 columns):\n",
      " #   Column        Non-Null Count  Dtype  \n",
      "---  ------        --------------  -----  \n",
      " 0   mpg           398 non-null    float64\n",
      " 1   cylinders     398 non-null    int64  \n",
      " 2   displacement  398 non-null    float64\n",
      " 3   horsepower    398 non-null    object \n",
      " 4   weight        398 non-null    int64  \n",
      " 5   acceleration  398 non-null    float64\n",
      " 6   model year    398 non-null    int64  \n",
      " 7   origin        398 non-null    int64  \n",
      " 8   car name      398 non-null    object \n",
      "dtypes: float64(3), int64(4), object(2)\n",
      "memory usage: 28.1+ KB\n"
     ]
    }
   ],
   "source": [
    "csv_df.info() #instance수, column명, 각 자료형, null개수"
   ]
  },
  {
   "cell_type": "code",
   "execution_count": 11,
   "id": "77872391-32a2-4dc9-b196-3df0f3ca0219",
   "metadata": {
    "tags": []
   },
   "outputs": [
    {
     "name": "stdout",
     "output_type": "stream",
     "text": [
      "(398, 9)\n",
      "398\n",
      "9\n"
     ]
    }
   ],
   "source": [
    "print(csv_df.shape) #( index 수 , column 수 )\n",
    "print(len(csv_df.index)) #index 수\n",
    "print(len(csv_df.columns)) #column 수"
   ]
  },
  {
   "cell_type": "code",
   "execution_count": 12,
   "id": "740b8c3c-d778-4889-85bd-fe4afb09c761",
   "metadata": {
    "tags": []
   },
   "outputs": [
    {
     "name": "stdout",
     "output_type": "stream",
     "text": [
      "RangeIndex(start=1, stop=3, step=1)\n",
      "Index(['A', 'B', 'C'], dtype='object')\n"
     ]
    }
   ],
   "source": [
    "print(ary_df.index) #index명\n",
    "print(ary_df.columns) #column명"
   ]
  },
  {
   "cell_type": "code",
   "execution_count": 13,
   "id": "907db7f0-e789-4832-a621-ad40586c6cca",
   "metadata": {},
   "outputs": [
    {
     "name": "stdout",
     "output_type": "stream",
     "text": [
      "<class 'pandas.core.frame.DataFrame'>\n"
     ]
    }
   ],
   "source": [
    "print(type(ary_df)) #자료형"
   ]
  },
  {
   "cell_type": "code",
   "execution_count": 14,
   "id": "fbfbef5d-2e01-4db6-ae4c-9c48836d1c80",
   "metadata": {
    "tags": []
   },
   "outputs": [
    {
     "name": "stdout",
     "output_type": "stream",
     "text": [
      "      mpg  cylinders  displacement horsepower  weight\n",
      "0    18.0          8         307.0        130    3504\n",
      "1    15.0          8         350.0        165    3693\n",
      "..    ...        ...           ...        ...     ...\n",
      "396  28.0          4         120.0         79    2625\n",
      "397  31.0          4         119.0         82    2720\n",
      "\n",
      "[398 rows x 5 columns]\n"
     ]
    }
   ],
   "source": [
    "pd.options.display.max_rows=20 #최대 표시 행수\n",
    "pd.set_option('display.min_rows',5) #최소 표시 행수\n",
    "print(csv_df.iloc[:,0:5])"
   ]
  },
  {
   "cell_type": "code",
   "execution_count": 15,
   "id": "81a37301-9945-4f51-892f-89a5cd2f2489",
   "metadata": {
    "tags": []
   },
   "outputs": [
    {
     "name": "stdout",
     "output_type": "stream",
     "text": [
      "['A', 'B', 'C', 'T', '_AXIS_LEN', '_AXIS_ORDERS', '_AXIS_TO_AXIS_NUMBER', '_HANDLED_TYPES', '__abs__', '__add__', '__and__', '__annotations__', '__array__', '__array_priority__', '__array_ufunc__', '__bool__', '__class__', '__contains__', '__copy__', '__dataframe__']\n"
     ]
    }
   ],
   "source": [
    "print(dir(ary_df)[:20]) #변수와 메서드"
   ]
  },
  {
   "cell_type": "code",
   "execution_count": 16,
   "id": "fa30b233-6f8a-4fb3-934a-a94e598c355c",
   "metadata": {
    "tags": []
   },
   "outputs": [
    {
     "name": "stdout",
     "output_type": "stream",
     "text": [
      "   1  2\n",
      "A  1  4\n",
      "B  2  5\n",
      "C  3  6\n"
     ]
    }
   ],
   "source": [
    "print(ary_df.T) #전치행렬"
   ]
  },
  {
   "cell_type": "code",
   "execution_count": 17,
   "id": "3d1f33d6-5236-4f80-ad17-a6eca6c7c4f2",
   "metadata": {
    "tags": []
   },
   "outputs": [
    {
     "name": "stdout",
     "output_type": "stream",
     "text": [
      "mpg             398\n",
      "cylinders       398\n",
      "displacement    398\n",
      "horsepower      398\n",
      "weight          398\n",
      "acceleration    398\n",
      "model year      398\n",
      "origin          398\n",
      "car name        398\n",
      "dtype: int64\n"
     ]
    }
   ],
   "source": [
    "print(csv_df.count()) #데이터의 개수"
   ]
  },
  {
   "cell_type": "markdown",
   "id": "a3df5862-1843-430f-8407-31f68066d670",
   "metadata": {
    "tags": []
   },
   "source": [
    "#### # 통계; ddof=1: 표본 자유도 반영"
   ]
  },
  {
   "cell_type": "code",
   "execution_count": 18,
   "id": "8b41f4cd-113c-49f4-9b76-552d06df363f",
   "metadata": {
    "tags": []
   },
   "outputs": [
    {
     "data": {
      "text/plain": [
       "mpg               46.6\n",
       "cylinders          8.0\n",
       "displacement     455.0\n",
       "weight          5140.0\n",
       "acceleration      24.8\n",
       "model year        82.0\n",
       "origin             3.0\n",
       "dtype: float64"
      ]
     },
     "execution_count": 18,
     "metadata": {},
     "output_type": "execute_result"
    }
   ],
   "source": [
    "# numeric data만 살려놓기\n",
    "csv_df_numeric=csv_df.drop(['horsepower','car name'],axis=1)\n",
    "csv_df_numeric.max(axis=0)"
   ]
  },
  {
   "cell_type": "code",
   "execution_count": 19,
   "id": "edc69f1d-4a62-49cf-858b-a0776fc4dfb9",
   "metadata": {
    "tags": []
   },
   "outputs": [
    {
     "data": {
      "text/html": [
       "<div>\n",
       "<style scoped>\n",
       "    .dataframe tbody tr th:only-of-type {\n",
       "        vertical-align: middle;\n",
       "    }\n",
       "\n",
       "    .dataframe tbody tr th {\n",
       "        vertical-align: top;\n",
       "    }\n",
       "\n",
       "    .dataframe thead th {\n",
       "        text-align: right;\n",
       "    }\n",
       "</style>\n",
       "<table border=\"1\" class=\"dataframe\">\n",
       "  <thead>\n",
       "    <tr style=\"text-align: right;\">\n",
       "      <th></th>\n",
       "      <th>mpg</th>\n",
       "      <th>cylinders</th>\n",
       "      <th>displacement</th>\n",
       "      <th>weight</th>\n",
       "      <th>acceleration</th>\n",
       "      <th>model year</th>\n",
       "      <th>origin</th>\n",
       "    </tr>\n",
       "  </thead>\n",
       "  <tbody>\n",
       "    <tr>\n",
       "      <th>count</th>\n",
       "      <td>398.000000</td>\n",
       "      <td>398.000000</td>\n",
       "      <td>398.000000</td>\n",
       "      <td>398.000000</td>\n",
       "      <td>398.000000</td>\n",
       "      <td>398.000000</td>\n",
       "      <td>398.000000</td>\n",
       "    </tr>\n",
       "    <tr>\n",
       "      <th>mean</th>\n",
       "      <td>23.514573</td>\n",
       "      <td>5.454774</td>\n",
       "      <td>193.425879</td>\n",
       "      <td>2970.424623</td>\n",
       "      <td>15.568090</td>\n",
       "      <td>76.010050</td>\n",
       "      <td>1.572864</td>\n",
       "    </tr>\n",
       "    <tr>\n",
       "      <th>std</th>\n",
       "      <td>7.815984</td>\n",
       "      <td>1.701004</td>\n",
       "      <td>104.269838</td>\n",
       "      <td>846.841774</td>\n",
       "      <td>2.757689</td>\n",
       "      <td>3.697627</td>\n",
       "      <td>0.802055</td>\n",
       "    </tr>\n",
       "    <tr>\n",
       "      <th>min</th>\n",
       "      <td>9.000000</td>\n",
       "      <td>3.000000</td>\n",
       "      <td>68.000000</td>\n",
       "      <td>1613.000000</td>\n",
       "      <td>8.000000</td>\n",
       "      <td>70.000000</td>\n",
       "      <td>1.000000</td>\n",
       "    </tr>\n",
       "    <tr>\n",
       "      <th>25%</th>\n",
       "      <td>17.500000</td>\n",
       "      <td>4.000000</td>\n",
       "      <td>104.250000</td>\n",
       "      <td>2223.750000</td>\n",
       "      <td>13.825000</td>\n",
       "      <td>73.000000</td>\n",
       "      <td>1.000000</td>\n",
       "    </tr>\n",
       "    <tr>\n",
       "      <th>50%</th>\n",
       "      <td>23.000000</td>\n",
       "      <td>4.000000</td>\n",
       "      <td>148.500000</td>\n",
       "      <td>2803.500000</td>\n",
       "      <td>15.500000</td>\n",
       "      <td>76.000000</td>\n",
       "      <td>1.000000</td>\n",
       "    </tr>\n",
       "    <tr>\n",
       "      <th>75%</th>\n",
       "      <td>29.000000</td>\n",
       "      <td>8.000000</td>\n",
       "      <td>262.000000</td>\n",
       "      <td>3608.000000</td>\n",
       "      <td>17.175000</td>\n",
       "      <td>79.000000</td>\n",
       "      <td>2.000000</td>\n",
       "    </tr>\n",
       "    <tr>\n",
       "      <th>max</th>\n",
       "      <td>46.600000</td>\n",
       "      <td>8.000000</td>\n",
       "      <td>455.000000</td>\n",
       "      <td>5140.000000</td>\n",
       "      <td>24.800000</td>\n",
       "      <td>82.000000</td>\n",
       "      <td>3.000000</td>\n",
       "    </tr>\n",
       "  </tbody>\n",
       "</table>\n",
       "</div>"
      ],
      "text/plain": [
       "              mpg   cylinders  displacement       weight  acceleration  \\\n",
       "count  398.000000  398.000000    398.000000   398.000000    398.000000   \n",
       "mean    23.514573    5.454774    193.425879  2970.424623     15.568090   \n",
       "std      7.815984    1.701004    104.269838   846.841774      2.757689   \n",
       "min      9.000000    3.000000     68.000000  1613.000000      8.000000   \n",
       "25%     17.500000    4.000000    104.250000  2223.750000     13.825000   \n",
       "50%     23.000000    4.000000    148.500000  2803.500000     15.500000   \n",
       "75%     29.000000    8.000000    262.000000  3608.000000     17.175000   \n",
       "max     46.600000    8.000000    455.000000  5140.000000     24.800000   \n",
       "\n",
       "       model year      origin  \n",
       "count  398.000000  398.000000  \n",
       "mean    76.010050    1.572864  \n",
       "std      3.697627    0.802055  \n",
       "min     70.000000    1.000000  \n",
       "25%     73.000000    1.000000  \n",
       "50%     76.000000    1.000000  \n",
       "75%     79.000000    2.000000  \n",
       "max     82.000000    3.000000  "
      ]
     },
     "execution_count": 19,
     "metadata": {},
     "output_type": "execute_result"
    }
   ],
   "source": [
    "#기술통계량 요약\n",
    "csv_df_numeric.describe()"
   ]
  },
  {
   "cell_type": "code",
   "execution_count": 20,
   "id": "4ff898c3-cbd1-447e-b18f-d17cba15157f",
   "metadata": {
    "tags": []
   },
   "outputs": [
    {
     "data": {
      "text/html": [
       "<div>\n",
       "<style scoped>\n",
       "    .dataframe tbody tr th:only-of-type {\n",
       "        vertical-align: middle;\n",
       "    }\n",
       "\n",
       "    .dataframe tbody tr th {\n",
       "        vertical-align: top;\n",
       "    }\n",
       "\n",
       "    .dataframe thead th {\n",
       "        text-align: right;\n",
       "    }\n",
       "</style>\n",
       "<table border=\"1\" class=\"dataframe\">\n",
       "  <thead>\n",
       "    <tr style=\"text-align: right;\">\n",
       "      <th></th>\n",
       "      <th>mpg</th>\n",
       "      <th>cylinders</th>\n",
       "      <th>displacement</th>\n",
       "      <th>weight</th>\n",
       "      <th>acceleration</th>\n",
       "      <th>model year</th>\n",
       "      <th>origin</th>\n",
       "    </tr>\n",
       "  </thead>\n",
       "  <tbody>\n",
       "    <tr>\n",
       "      <th>mpg</th>\n",
       "      <td>1.000000</td>\n",
       "      <td>-0.775396</td>\n",
       "      <td>-0.804203</td>\n",
       "      <td>-0.831741</td>\n",
       "      <td>0.420289</td>\n",
       "      <td>0.579267</td>\n",
       "      <td>0.563450</td>\n",
       "    </tr>\n",
       "    <tr>\n",
       "      <th>cylinders</th>\n",
       "      <td>-0.775396</td>\n",
       "      <td>1.000000</td>\n",
       "      <td>0.950721</td>\n",
       "      <td>0.896017</td>\n",
       "      <td>-0.505419</td>\n",
       "      <td>-0.348746</td>\n",
       "      <td>-0.562543</td>\n",
       "    </tr>\n",
       "    <tr>\n",
       "      <th>displacement</th>\n",
       "      <td>-0.804203</td>\n",
       "      <td>0.950721</td>\n",
       "      <td>1.000000</td>\n",
       "      <td>0.932824</td>\n",
       "      <td>-0.543684</td>\n",
       "      <td>-0.370164</td>\n",
       "      <td>-0.609409</td>\n",
       "    </tr>\n",
       "    <tr>\n",
       "      <th>weight</th>\n",
       "      <td>-0.831741</td>\n",
       "      <td>0.896017</td>\n",
       "      <td>0.932824</td>\n",
       "      <td>1.000000</td>\n",
       "      <td>-0.417457</td>\n",
       "      <td>-0.306564</td>\n",
       "      <td>-0.581024</td>\n",
       "    </tr>\n",
       "    <tr>\n",
       "      <th>acceleration</th>\n",
       "      <td>0.420289</td>\n",
       "      <td>-0.505419</td>\n",
       "      <td>-0.543684</td>\n",
       "      <td>-0.417457</td>\n",
       "      <td>1.000000</td>\n",
       "      <td>0.288137</td>\n",
       "      <td>0.205873</td>\n",
       "    </tr>\n",
       "    <tr>\n",
       "      <th>model year</th>\n",
       "      <td>0.579267</td>\n",
       "      <td>-0.348746</td>\n",
       "      <td>-0.370164</td>\n",
       "      <td>-0.306564</td>\n",
       "      <td>0.288137</td>\n",
       "      <td>1.000000</td>\n",
       "      <td>0.180662</td>\n",
       "    </tr>\n",
       "    <tr>\n",
       "      <th>origin</th>\n",
       "      <td>0.563450</td>\n",
       "      <td>-0.562543</td>\n",
       "      <td>-0.609409</td>\n",
       "      <td>-0.581024</td>\n",
       "      <td>0.205873</td>\n",
       "      <td>0.180662</td>\n",
       "      <td>1.000000</td>\n",
       "    </tr>\n",
       "  </tbody>\n",
       "</table>\n",
       "</div>"
      ],
      "text/plain": [
       "                   mpg  cylinders  displacement    weight  acceleration  \\\n",
       "mpg           1.000000  -0.775396     -0.804203 -0.831741      0.420289   \n",
       "cylinders    -0.775396   1.000000      0.950721  0.896017     -0.505419   \n",
       "displacement -0.804203   0.950721      1.000000  0.932824     -0.543684   \n",
       "weight       -0.831741   0.896017      0.932824  1.000000     -0.417457   \n",
       "acceleration  0.420289  -0.505419     -0.543684 -0.417457      1.000000   \n",
       "model year    0.579267  -0.348746     -0.370164 -0.306564      0.288137   \n",
       "origin        0.563450  -0.562543     -0.609409 -0.581024      0.205873   \n",
       "\n",
       "              model year    origin  \n",
       "mpg             0.579267  0.563450  \n",
       "cylinders      -0.348746 -0.562543  \n",
       "displacement   -0.370164 -0.609409  \n",
       "weight         -0.306564 -0.581024  \n",
       "acceleration    0.288137  0.205873  \n",
       "model year      1.000000  0.180662  \n",
       "origin          0.180662  1.000000  "
      ]
     },
     "execution_count": 20,
     "metadata": {},
     "output_type": "execute_result"
    }
   ],
   "source": [
    "#상관계수\n",
    "csv_df_numeric.corr()"
   ]
  },
  {
   "cell_type": "code",
   "execution_count": 21,
   "id": "612b82de-2749-4b86-975f-08d412ab2b00",
   "metadata": {
    "tags": []
   },
   "outputs": [
    {
     "data": {
      "text/html": [
       "<div>\n",
       "<style scoped>\n",
       "    .dataframe tbody tr th:only-of-type {\n",
       "        vertical-align: middle;\n",
       "    }\n",
       "\n",
       "    .dataframe tbody tr th {\n",
       "        vertical-align: top;\n",
       "    }\n",
       "\n",
       "    .dataframe thead th {\n",
       "        text-align: right;\n",
       "    }\n",
       "</style>\n",
       "<table border=\"1\" class=\"dataframe\">\n",
       "  <thead>\n",
       "    <tr style=\"text-align: right;\">\n",
       "      <th></th>\n",
       "      <th>mpg</th>\n",
       "      <th>cylinders</th>\n",
       "      <th>displacement</th>\n",
       "      <th>horsepower</th>\n",
       "      <th>weight</th>\n",
       "      <th>acceleration</th>\n",
       "      <th>model year</th>\n",
       "      <th>origin</th>\n",
       "      <th>car name</th>\n",
       "    </tr>\n",
       "  </thead>\n",
       "  <tbody>\n",
       "    <tr>\n",
       "      <th>26</th>\n",
       "      <td>10.0</td>\n",
       "      <td>8</td>\n",
       "      <td>307.0</td>\n",
       "      <td>200</td>\n",
       "      <td>4376</td>\n",
       "      <td>15.0</td>\n",
       "      <td>70</td>\n",
       "      <td>1</td>\n",
       "      <td>chevy c20</td>\n",
       "    </tr>\n",
       "    <tr>\n",
       "      <th>265</th>\n",
       "      <td>17.5</td>\n",
       "      <td>8</td>\n",
       "      <td>318.0</td>\n",
       "      <td>140</td>\n",
       "      <td>4080</td>\n",
       "      <td>13.7</td>\n",
       "      <td>78</td>\n",
       "      <td>1</td>\n",
       "      <td>dodge magnum xe</td>\n",
       "    </tr>\n",
       "    <tr>\n",
       "      <th>...</th>\n",
       "      <td>...</td>\n",
       "      <td>...</td>\n",
       "      <td>...</td>\n",
       "      <td>...</td>\n",
       "      <td>...</td>\n",
       "      <td>...</td>\n",
       "      <td>...</td>\n",
       "      <td>...</td>\n",
       "      <td>...</td>\n",
       "    </tr>\n",
       "    <tr>\n",
       "      <th>305</th>\n",
       "      <td>28.4</td>\n",
       "      <td>4</td>\n",
       "      <td>151.0</td>\n",
       "      <td>90</td>\n",
       "      <td>2670</td>\n",
       "      <td>16.0</td>\n",
       "      <td>79</td>\n",
       "      <td>1</td>\n",
       "      <td>buick skylark limited</td>\n",
       "    </tr>\n",
       "    <tr>\n",
       "      <th>11</th>\n",
       "      <td>14.0</td>\n",
       "      <td>8</td>\n",
       "      <td>340.0</td>\n",
       "      <td>160</td>\n",
       "      <td>3609</td>\n",
       "      <td>8.0</td>\n",
       "      <td>70</td>\n",
       "      <td>1</td>\n",
       "      <td>plymouth 'cuda 340</td>\n",
       "    </tr>\n",
       "  </tbody>\n",
       "</table>\n",
       "<p>40 rows × 9 columns</p>\n",
       "</div>"
      ],
      "text/plain": [
       "      mpg  cylinders  displacement horsepower  weight  acceleration  \\\n",
       "26   10.0          8         307.0        200    4376          15.0   \n",
       "265  17.5          8         318.0        140    4080          13.7   \n",
       "..    ...        ...           ...        ...     ...           ...   \n",
       "305  28.4          4         151.0         90    2670          16.0   \n",
       "11   14.0          8         340.0        160    3609           8.0   \n",
       "\n",
       "     model year  origin               car name  \n",
       "26           70       1              chevy c20  \n",
       "265          78       1        dodge magnum xe  \n",
       "..          ...     ...                    ...  \n",
       "305          79       1  buick skylark limited  \n",
       "11           70       1     plymouth 'cuda 340  \n",
       "\n",
       "[40 rows x 9 columns]"
      ]
     },
     "execution_count": 21,
     "metadata": {},
     "output_type": "execute_result"
    }
   ],
   "source": [
    "#샘플링; 표본의 수, 중복추출, random_state 등을 따로 지정할 수 있다..\n",
    "csv_df.sample(frac=0.1)"
   ]
  },
  {
   "cell_type": "markdown",
   "id": "9a3442e7-e58b-4e97-8bcc-85f84eebee13",
   "metadata": {
    "tags": []
   },
   "source": [
    "### ▣ Dataframe 수정"
   ]
  },
  {
   "cell_type": "markdown",
   "id": "0b0c6434-83f3-494a-aaf2-68de7190223b",
   "metadata": {
    "tags": []
   },
   "source": [
    "#### (1) 행/열 추가 및 대체: [ idx/col_name(자료형무관) ]"
   ]
  },
  {
   "cell_type": "code",
   "execution_count": 22,
   "id": "b9124023-a185-479e-885a-07ef748c5fe3",
   "metadata": {
    "tags": []
   },
   "outputs": [
    {
     "name": "stdout",
     "output_type": "stream",
     "text": [
      "   A  B  C   4\n",
      "0  1  2  3  11\n",
      "1  4  5  6  12\n",
      "2  7  8  9  13\n",
      "3  7  8  9  10\n"
     ]
    }
   ],
   "source": [
    "#row: .loc[ idx_name(numeric OR char) ]\n",
    "#col: [ col_name(numeric OR char) ]\n",
    "df=pd.DataFrame({'A':['1','4'],'B':['2','5'],'C':['3','6']})\n",
    "df.loc[2]=[7,8,9]\n",
    "df[4]=[11,12,13]\n",
    "df.loc['3']=range(7,11)\n",
    "print(df)"
   ]
  },
  {
   "cell_type": "code",
   "execution_count": 23,
   "id": "a45a41df-091a-4616-9c0f-8f783b137d81",
   "metadata": {
    "tags": []
   },
   "outputs": [
    {
     "data": {
      "text/html": [
       "<div>\n",
       "<style scoped>\n",
       "    .dataframe tbody tr th:only-of-type {\n",
       "        vertical-align: middle;\n",
       "    }\n",
       "\n",
       "    .dataframe tbody tr th {\n",
       "        vertical-align: top;\n",
       "    }\n",
       "\n",
       "    .dataframe thead th {\n",
       "        text-align: right;\n",
       "    }\n",
       "</style>\n",
       "<table border=\"1\" class=\"dataframe\">\n",
       "  <thead>\n",
       "    <tr style=\"text-align: right;\">\n",
       "      <th></th>\n",
       "      <th>aaa</th>\n",
       "      <th>bb</th>\n",
       "      <th>C</th>\n",
       "      <th>4</th>\n",
       "    </tr>\n",
       "  </thead>\n",
       "  <tbody>\n",
       "    <tr>\n",
       "      <th>0</th>\n",
       "      <td>1</td>\n",
       "      <td>2</td>\n",
       "      <td>3</td>\n",
       "      <td>11</td>\n",
       "    </tr>\n",
       "    <tr>\n",
       "      <th>1</th>\n",
       "      <td>4</td>\n",
       "      <td>5</td>\n",
       "      <td>6</td>\n",
       "      <td>12</td>\n",
       "    </tr>\n",
       "    <tr>\n",
       "      <th>2</th>\n",
       "      <td>7</td>\n",
       "      <td>8</td>\n",
       "      <td>9</td>\n",
       "      <td>13</td>\n",
       "    </tr>\n",
       "    <tr>\n",
       "      <th>3</th>\n",
       "      <td>7</td>\n",
       "      <td>8</td>\n",
       "      <td>9</td>\n",
       "      <td>10</td>\n",
       "    </tr>\n",
       "  </tbody>\n",
       "</table>\n",
       "</div>"
      ],
      "text/plain": [
       "  aaa bb  C   4\n",
       "0   1  2  3  11\n",
       "1   4  5  6  12\n",
       "2   7  8  9  13\n",
       "3   7  8  9  10"
      ]
     },
     "execution_count": 23,
     "metadata": {},
     "output_type": "execute_result"
    }
   ],
   "source": [
    "# col_name 대체\n",
    "# .rename( columns = { ' key ' : 'value' } ); 수정본으로 저장X\n",
    "df.rename(columns={'A':'aaa','B':'bb'})"
   ]
  },
  {
   "cell_type": "code",
   "execution_count": 24,
   "id": "79357e7c-ee01-4d89-8a09-695b648a7e72",
   "metadata": {
    "tags": []
   },
   "outputs": [
    {
     "name": "stdout",
     "output_type": "stream",
     "text": [
      "   A  B  C   4 A_plus_B\n",
      "0  1  2  3  11       12\n",
      "1  4  5  6  12       45\n",
      "2  7  8  9  13       15\n",
      "3  7  8  9  10       15\n"
     ]
    }
   ],
   "source": [
    "# col 추가\n",
    "# .assign( 새로운 col_name =  ); 주의!! 새로운col_name은 문자형X, 수정본으로 저장X \n",
    "print(df.assign(A_plus_B=df['A']+df.B))"
   ]
  },
  {
   "cell_type": "code",
   "execution_count": 25,
   "id": "eea83f0b-a754-491f-9986-1b8c36bb7556",
   "metadata": {},
   "outputs": [
    {
     "name": "stdout",
     "output_type": "stream",
     "text": [
      "   A  B  C   D   4\n",
      "0  1  2  3  11  11\n",
      "1  4  5  6  11  12\n",
      "2  7  8  9  11  13\n",
      "3  7  8  9  11  10\n"
     ]
    }
   ],
   "source": [
    "# col 삽입; 삽입되는 행의 오른쪽에 있는 행들 한 칸씩 오른쪽으로 이동~\n",
    "# .insert( loc= col_abs idx , column = '새로운 col_name' , value =  ); 수정본으로 저장\n",
    "df.insert(loc=3,column='D',value=11)\n",
    "print(df)"
   ]
  },
  {
   "cell_type": "markdown",
   "id": "728e6f64-5e0b-42d2-936c-717f08a560e9",
   "metadata": {
    "tags": []
   },
   "source": [
    "#### # 값 대체; 위치 OR 값 을 특정"
   ]
  },
  {
   "cell_type": "code",
   "execution_count": 26,
   "id": "5e5fe040-a473-457e-a2ac-bb1c25e9cc71",
   "metadata": {},
   "outputs": [
    {
     "name": "stdout",
     "output_type": "stream",
     "text": [
      "   A  B  C   D   4 (2, D)\n",
      "0  1  2  3  11  11     NA\n",
      "1  4  5  6  11  12     NA\n",
      "2  7  8  9  10  13     NA\n",
      "3  7  8  9  11  10     NA\n"
     ]
    }
   ],
   "source": [
    "# 특정 위치(원소)에 있는 값 대체\n",
    "#'(4) 슬라이싱'을 참고하면 행/열 모두에 지정가능한 것은 .loc OR .iloc이다. [ ]은 불가!!\n",
    "df[2,'D']='NA'     #잘못된 에시)) (2,'D') 튜플형으로 인식해 새로운 col추가\n",
    "df.loc[2,'D']=10  \n",
    "print(df)"
   ]
  },
  {
   "cell_type": "code",
   "execution_count": 27,
   "id": "a3518379-3385-4a70-91b7-d64f9721af00",
   "metadata": {
    "tags": []
   },
   "outputs": [
    {
     "data": {
      "text/html": [
       "<div>\n",
       "<style scoped>\n",
       "    .dataframe tbody tr th:only-of-type {\n",
       "        vertical-align: middle;\n",
       "    }\n",
       "\n",
       "    .dataframe tbody tr th {\n",
       "        vertical-align: top;\n",
       "    }\n",
       "\n",
       "    .dataframe thead th {\n",
       "        text-align: right;\n",
       "    }\n",
       "</style>\n",
       "<table border=\"1\" class=\"dataframe\">\n",
       "  <thead>\n",
       "    <tr style=\"text-align: right;\">\n",
       "      <th></th>\n",
       "      <th>A</th>\n",
       "      <th>B</th>\n",
       "      <th>C</th>\n",
       "      <th>D</th>\n",
       "      <th>4</th>\n",
       "      <th>(2, D)</th>\n",
       "    </tr>\n",
       "  </thead>\n",
       "  <tbody>\n",
       "    <tr>\n",
       "      <th>0</th>\n",
       "      <td>1</td>\n",
       "      <td>2</td>\n",
       "      <td>3</td>\n",
       "      <td>11</td>\n",
       "      <td>11</td>\n",
       "      <td>NA</td>\n",
       "    </tr>\n",
       "    <tr>\n",
       "      <th>1</th>\n",
       "      <td>4</td>\n",
       "      <td>5</td>\n",
       "      <td>6</td>\n",
       "      <td>11</td>\n",
       "      <td>12</td>\n",
       "      <td>NA</td>\n",
       "    </tr>\n",
       "    <tr>\n",
       "      <th>2</th>\n",
       "      <td>7</td>\n",
       "      <td>8</td>\n",
       "      <td>9</td>\n",
       "      <td>10</td>\n",
       "      <td>11</td>\n",
       "      <td>NA</td>\n",
       "    </tr>\n",
       "    <tr>\n",
       "      <th>3</th>\n",
       "      <td>7</td>\n",
       "      <td>8</td>\n",
       "      <td>9</td>\n",
       "      <td>11</td>\n",
       "      <td>10</td>\n",
       "      <td>NA</td>\n",
       "    </tr>\n",
       "  </tbody>\n",
       "</table>\n",
       "</div>"
      ],
      "text/plain": [
       "   A  B  C   D   4 (2, D)\n",
       "0  1  2  3  11  11     NA\n",
       "1  4  5  6  11  12     NA\n",
       "2  7  8  9  10  11     NA\n",
       "3  7  8  9  11  10     NA"
      ]
     },
     "execution_count": 27,
     "metadata": {},
     "output_type": "execute_result"
    }
   ],
   "source": [
    "# index관련 정보 모를 때... 값 대체\n",
    "# .replace( { col_name : before_value } , after_value ); 수정본으로 저장X\n",
    "df.replace({4:13},11)"
   ]
  },
  {
   "cell_type": "code",
   "execution_count": 28,
   "id": "1668ff6d-9c53-4dd2-b0b5-38c851987185",
   "metadata": {},
   "outputs": [
    {
     "data": {
      "text/html": [
       "<div>\n",
       "<style scoped>\n",
       "    .dataframe tbody tr th:only-of-type {\n",
       "        vertical-align: middle;\n",
       "    }\n",
       "\n",
       "    .dataframe tbody tr th {\n",
       "        vertical-align: top;\n",
       "    }\n",
       "\n",
       "    .dataframe thead th {\n",
       "        text-align: right;\n",
       "    }\n",
       "</style>\n",
       "<table border=\"1\" class=\"dataframe\">\n",
       "  <thead>\n",
       "    <tr style=\"text-align: right;\">\n",
       "      <th></th>\n",
       "      <th>A</th>\n",
       "      <th>B</th>\n",
       "      <th>C</th>\n",
       "      <th>D</th>\n",
       "      <th>4</th>\n",
       "      <th>(2, D)</th>\n",
       "    </tr>\n",
       "  </thead>\n",
       "  <tbody>\n",
       "    <tr>\n",
       "      <th>0</th>\n",
       "      <td>1</td>\n",
       "      <td>2</td>\n",
       "      <td>3</td>\n",
       "      <td>11</td>\n",
       "      <td>11</td>\n",
       "      <td>100</td>\n",
       "    </tr>\n",
       "    <tr>\n",
       "      <th>1</th>\n",
       "      <td>4</td>\n",
       "      <td>5</td>\n",
       "      <td>6</td>\n",
       "      <td>11</td>\n",
       "      <td>12</td>\n",
       "      <td>100</td>\n",
       "    </tr>\n",
       "    <tr>\n",
       "      <th>2</th>\n",
       "      <td>7</td>\n",
       "      <td>8</td>\n",
       "      <td>9</td>\n",
       "      <td>10</td>\n",
       "      <td>13</td>\n",
       "      <td>100</td>\n",
       "    </tr>\n",
       "    <tr>\n",
       "      <th>3</th>\n",
       "      <td>7</td>\n",
       "      <td>8</td>\n",
       "      <td>9</td>\n",
       "      <td>11</td>\n",
       "      <td>10</td>\n",
       "      <td>100</td>\n",
       "    </tr>\n",
       "  </tbody>\n",
       "</table>\n",
       "</div>"
      ],
      "text/plain": [
       "   A  B  C   D   4  (2, D)\n",
       "0  1  2  3  11  11     100\n",
       "1  4  5  6  11  12     100\n",
       "2  7  8  9  10  13     100\n",
       "3  7  8  9  11  10     100"
      ]
     },
     "execution_count": 28,
     "metadata": {},
     "output_type": "execute_result"
    }
   ],
   "source": [
    "# 특정값을 대체\n",
    "# .replace( before_value , after_value ); 수정본으로 저장X!!\n",
    "df.replace('NA',100)"
   ]
  },
  {
   "cell_type": "markdown",
   "id": "296b9b79-1b22-42e7-a013-4a1ecedc35e6",
   "metadata": {
    "tags": []
   },
   "source": [
    "#### (2) 행/열 삭제; axis∝[차원]안쪽으로, inplace: 삭제본으로 저장"
   ]
  },
  {
   "cell_type": "code",
   "execution_count": 29,
   "id": "df55fa27-35cd-447d-be90-dccf246466d6",
   "metadata": {
    "tags": []
   },
   "outputs": [
    {
     "name": "stdout",
     "output_type": "stream",
     "text": [
      "Index(['A', 'B', 'C', 'D', 4, (2, 'D')], dtype='object')\n",
      "Index([0, 1, 2, '3'], dtype='object')\n"
     ]
    }
   ],
   "source": [
    "print(df.columns)\n",
    "print(df.index)"
   ]
  },
  {
   "cell_type": "code",
   "execution_count": 30,
   "id": "89290849-a795-44ac-8972-f256a2bdf590",
   "metadata": {
    "tags": []
   },
   "outputs": [
    {
     "name": "stdout",
     "output_type": "stream",
     "text": [
      "   A  B  C   4\n",
      "0  1  2  3  11\n",
      "1  4  5  6  12\n"
     ]
    }
   ],
   "source": [
    "df.drop(['D',(2,'D')],axis=1,inplace=True)\n",
    "df.drop([2,'3'],axis=0,inplace=True)\n",
    "print(df)"
   ]
  },
  {
   "cell_type": "markdown",
   "id": "4b316739-1e90-4ec4-b07a-96621052b050",
   "metadata": {
    "tags": []
   },
   "source": [
    "#### (3) 인덱싱; 기준 행/열 개수 ⇒ 반환자료형: Series(無col) OR DataFrame(多)"
   ]
  },
  {
   "cell_type": "code",
   "execution_count": 31,
   "id": "80ade626-7118-4ae1-89da-39b74059a450",
   "metadata": {
    "tags": []
   },
   "outputs": [
    {
     "name": "stdout",
     "output_type": "stream",
     "text": [
      "      mpg  weight\n",
      "0    18.0    3504\n",
      "1    15.0    3693\n",
      "..    ...     ...\n",
      "396  28.0    2625\n",
      "397  31.0    2720\n",
      "\n",
      "[398 rows x 2 columns]\n"
     ]
    },
    {
     "data": {
      "text/plain": [
       "pandas.core.frame.DataFrame"
      ]
     },
     "execution_count": 31,
     "metadata": {},
     "output_type": "execute_result"
    }
   ],
   "source": [
    "#col_인덱싱: [ 'col_name' ]\n",
    "print(csv_df[['mpg','weight']])\n",
    "type(csv_df[['mpg','weight']])"
   ]
  },
  {
   "cell_type": "code",
   "execution_count": 32,
   "id": "a29eef8e-5ce1-4484-ba6c-33bc5f6c126b",
   "metadata": {
    "tags": []
   },
   "outputs": [
    {
     "name": "stdout",
     "output_type": "stream",
     "text": [
      "0      18.0\n",
      "1      15.0\n",
      "       ... \n",
      "396    28.0\n",
      "397    31.0\n",
      "Name: mpg, Length: 398, dtype: float64\n"
     ]
    },
    {
     "data": {
      "text/plain": [
       "pandas.core.series.Series"
      ]
     },
     "execution_count": 32,
     "metadata": {},
     "output_type": "execute_result"
    }
   ],
   "source": [
    "print(csv_df['mpg'])\n",
    "type(csv_df['mpg'])"
   ]
  },
  {
   "cell_type": "code",
   "execution_count": 33,
   "id": "09751dc8-0f76-49b3-a3ac-729e80b45227",
   "metadata": {
    "tags": []
   },
   "outputs": [
    {
     "name": "stdout",
     "output_type": "stream",
     "text": [
      "0      18.0\n",
      "1      15.0\n",
      "       ... \n",
      "396    28.0\n",
      "397    31.0\n",
      "Name: mpg, Length: 398, dtype: float64\n"
     ]
    },
    {
     "data": {
      "text/plain": [
       "pandas.core.series.Series"
      ]
     },
     "execution_count": 33,
     "metadata": {},
     "output_type": "execute_result"
    }
   ],
   "source": [
    "#col_(only1)지정: .col_name\n",
    "print(csv_df.mpg)\n",
    "type(csv_df.mpg)"
   ]
  },
  {
   "cell_type": "code",
   "execution_count": 34,
   "id": "81f163a2-f5cd-4f5a-8225-dab789962e29",
   "metadata": {
    "tags": []
   },
   "outputs": [
    {
     "name": "stdout",
     "output_type": "stream",
     "text": [
      "0      18.0\n",
      "1      15.0\n",
      "       ... \n",
      "396    28.0\n",
      "397    31.0\n",
      "Name: mpg, Length: 398, dtype: float64\n"
     ]
    }
   ],
   "source": [
    "#col_인덱싱: .iloc[ : , col_abs idx(슬라이싱) ]\n",
    "print(csv_df.iloc[:,0])"
   ]
  },
  {
   "cell_type": "code",
   "execution_count": 35,
   "id": "53e90413-3506-4b3b-9d0d-5cd4d45dbe97",
   "metadata": {
    "tags": []
   },
   "outputs": [
    {
     "name": "stdout",
     "output_type": "stream",
     "text": [
      "A    1\n",
      "B    2\n",
      "C    3\n",
      "Name: 1, dtype: int32\n"
     ]
    },
    {
     "data": {
      "text/plain": [
       "pandas.core.series.Series"
      ]
     },
     "execution_count": 35,
     "metadata": {},
     "output_type": "execute_result"
    }
   ],
   "source": [
    "#row_인덱싱: .loc[ 'idx_name' ]\n",
    "print(ary_df.loc[1])\n",
    "type(ary_df.loc[1])"
   ]
  },
  {
   "cell_type": "code",
   "execution_count": 36,
   "id": "e8df3831-d73d-4b6a-975c-96045e469741",
   "metadata": {
    "tags": []
   },
   "outputs": [
    {
     "name": "stdout",
     "output_type": "stream",
     "text": [
      "   A  B  C\n",
      "1  1  2  3\n",
      "2  4  5  6\n"
     ]
    },
    {
     "data": {
      "text/plain": [
       "pandas.core.frame.DataFrame"
      ]
     },
     "execution_count": 36,
     "metadata": {},
     "output_type": "execute_result"
    }
   ],
   "source": [
    "print(ary_df.loc[[1,2]])\n",
    "type(ary_df.loc[[1,2]])"
   ]
  },
  {
   "cell_type": "code",
   "execution_count": 37,
   "id": "ada6487e-3f01-43d2-92b2-91dc8f24fb68",
   "metadata": {
    "tags": []
   },
   "outputs": [
    {
     "name": "stdout",
     "output_type": "stream",
     "text": [
      "A    1\n",
      "B    2\n",
      "C    3\n",
      "Name: 1, dtype: int32\n"
     ]
    }
   ],
   "source": [
    "#row_인덱싱: .iloc[ row_abs idx ]\n",
    "print(ary_df.iloc[0])"
   ]
  },
  {
   "cell_type": "markdown",
   "id": "17976625-1c80-47b3-b1d0-064f7b43a2e6",
   "metadata": {
    "tags": []
   },
   "source": [
    "#### (4) 슬라이싱: 화살표 방향대로 탐색; row(→) col(↓)\n",
    " :[ row' (, col') ] ; [ ] OR .loc OR .iloc"
   ]
  },
  {
   "cell_type": "code",
   "execution_count": 38,
   "id": "7581601a-f4e2-46bd-855c-91bda6d93458",
   "metadata": {},
   "outputs": [],
   "source": [
    "# [ col_bool_condition ] = col조건 만족하는 row(객체)가 나옴\n",
    "#.loc[ row/col_name ]; start : end(얘만 다름 주의!!)\n",
    "#.iloc[ row/col_abs idx ]; start : except_start\n",
    "#(참고하되 권장X!) [ row_abs idx ]; start : except_start"
   ]
  },
  {
   "cell_type": "code",
   "execution_count": 39,
   "id": "53b8acd9-e679-435e-a339-51dfe6323e74",
   "metadata": {
    "tags": []
   },
   "outputs": [
    {
     "data": {
      "text/plain": [
       "[3, 6, 9]"
      ]
     },
     "execution_count": 39,
     "metadata": {},
     "output_type": "execute_result"
    }
   ],
   "source": [
    "#range( start , except_start , step )\n",
    "list(range(3,10,3))"
   ]
  },
  {
   "cell_type": "code",
   "execution_count": 40,
   "id": "65f86ec1-9440-4ed0-be80-7fe80fa5208b",
   "metadata": {
    "tags": []
   },
   "outputs": [
    {
     "data": {
      "text/plain": [
       "[3, 6]"
      ]
     },
     "execution_count": 40,
     "metadata": {},
     "output_type": "execute_result"
    }
   ],
   "source": [
    "#list_슬라이싱: [ start : except_start ]\n",
    "list(range(3,10,3))[:2]"
   ]
  },
  {
   "cell_type": "code",
   "execution_count": 41,
   "id": "bb16ad35-7edf-4681-8b84-1e29050cc035",
   "metadata": {
    "tags": []
   },
   "outputs": [
    {
     "name": "stdout",
     "output_type": "stream",
     "text": [
      "   A  B  C\n",
      "1  1  2  3\n",
      "2  4  5  6\n"
     ]
    }
   ],
   "source": [
    "#슬라이싱 [ ] 안에서 col에 대해 생략가능!!\n",
    "print(ary_df.loc[1:2])"
   ]
  },
  {
   "cell_type": "code",
   "execution_count": 42,
   "id": "62d226c2-15ed-4017-9a22-12f4f7bfb1d9",
   "metadata": {
    "tags": []
   },
   "outputs": [
    {
     "name": "stdout",
     "output_type": "stream",
     "text": [
      "   A  B  C\n",
      "2  4  5  6\n"
     ]
    }
   ],
   "source": [
    "print(ary_df.iloc[1:2])"
   ]
  },
  {
   "cell_type": "code",
   "execution_count": 43,
   "id": "0a23b52e-99a4-4cca-b386-47431e7d3ec8",
   "metadata": {
    "tags": []
   },
   "outputs": [
    {
     "name": "stdout",
     "output_type": "stream",
     "text": [
      "   A  B  C\n",
      "2  4  5  6\n"
     ]
    }
   ],
   "source": [
    "print(ary_df[1:2])"
   ]
  },
  {
   "cell_type": "code",
   "execution_count": 44,
   "id": "fd8e2faf-5615-41cf-90ed-d08ec80e33e2",
   "metadata": {},
   "outputs": [
    {
     "name": "stdout",
     "output_type": "stream",
     "text": [
      "      mpg  cylinders  displacement horsepower  weight\n",
      "0    18.0          8         307.0        130    3504\n",
      "1    15.0          8         350.0        165    3693\n",
      "..    ...        ...           ...        ...     ...\n",
      "396  28.0          4         120.0         79    2625\n",
      "397  31.0          4         119.0         82    2720\n",
      "\n",
      "[398 rows x 5 columns]\n"
     ]
    }
   ],
   "source": [
    "#슬라이싱 [ ] 안에서 row에 대해 먼저 지정해줘야!!\n",
    "print(csv_df.loc[:,'mpg':'weight'])"
   ]
  },
  {
   "cell_type": "code",
   "execution_count": 45,
   "id": "74dc5c72-b7f7-45dd-92d8-e1542f73894b",
   "metadata": {
    "tags": []
   },
   "outputs": [
    {
     "name": "stdout",
     "output_type": "stream",
     "text": [
      "   A  B\n",
      "1  1  2\n",
      "2  4  5\n"
     ]
    }
   ],
   "source": [
    "print(ary_df.iloc[:,:2])"
   ]
  },
  {
   "cell_type": "code",
   "execution_count": 46,
   "id": "9e92c66e-2f27-42bd-8456-00c9add5a4e5",
   "metadata": {
    "tags": []
   },
   "outputs": [
    {
     "name": "stdout",
     "output_type": "stream",
     "text": [
      "      A   B   C\n",
      "1st  11  12  13\n",
      "2nd  21  22  23\n"
     ]
    }
   ],
   "source": [
    "#.loc[ col_bool_condition , 인덱싱 OR 슬라이싱 ]\n",
    "df = pd.DataFrame({'A':[11,21,31], 'B':[12,22,32], 'C':[13,23,33]}, index=['1st','2nd','3rd'])\n",
    "print(df[df.C<30])"
   ]
  },
  {
   "cell_type": "code",
   "execution_count": 47,
   "id": "96820700-94fb-404a-91b4-21e3f4898259",
   "metadata": {
    "tags": []
   },
   "outputs": [
    {
     "name": "stdout",
     "output_type": "stream",
     "text": [
      "      A   B   C\n",
      "1st  11  12  13\n",
      "2nd  21  22  23\n"
     ]
    }
   ],
   "source": [
    "print(df.loc[lambda x: x.C<30])"
   ]
  },
  {
   "cell_type": "code",
   "execution_count": 48,
   "id": "7231fba5-0687-4715-a2c5-b565f984a64a",
   "metadata": {
    "tags": []
   },
   "outputs": [
    {
     "name": "stdout",
     "output_type": "stream",
     "text": [
      "     cylinders  displacement horsepower  weight\n",
      "53           4          71.0         65    1773\n",
      "54           4          72.0         69    1613\n",
      "..         ...           ...        ...     ...\n",
      "395          4         135.0         84    2295\n",
      "397          4         119.0         82    2720\n",
      "\n",
      "[85 rows x 4 columns]\n"
     ]
    }
   ],
   "source": [
    "print(csv_df.loc[csv_df['mpg']>30, 'cylinders':'weight'])"
   ]
  },
  {
   "cell_type": "markdown",
   "id": "9cb3828f-b478-44b9-9845-88e8e89910c6",
   "metadata": {
    "tags": []
   },
   "source": [
    "#### # Filter; col/row_name을 문자열로 접근해 추출, default:axis=1"
   ]
  },
  {
   "cell_type": "code",
   "execution_count": 49,
   "id": "43e665fb-6193-4a70-9d11-88465894d5d1",
   "metadata": {
    "tags": []
   },
   "outputs": [
    {
     "name": "stdout",
     "output_type": "stream",
     "text": [
      "     abc  bcd  abd\n",
      "1st    1    2    3\n",
      "2nd    4    5    6\n",
      "3rd    7    8    9\n"
     ]
    }
   ],
   "source": [
    "df = pd.DataFrame({'abc':[1,4,7], 'bcd':[2,5,8], 'abd':[3,6,9]}, index=['1st','2nd','3rd'])\n",
    "print(df)"
   ]
  },
  {
   "cell_type": "code",
   "execution_count": 50,
   "id": "d4ec29fe-5652-4168-a0b1-fdf6aa77160f",
   "metadata": {
    "tags": []
   },
   "outputs": [
    {
     "name": "stdout",
     "output_type": "stream",
     "text": [
      "     bcd  abd\n",
      "1st    2    3\n",
      "2nd    5    6\n",
      "3rd    8    9\n"
     ]
    }
   ],
   "source": [
    "# 동일한 이름의 특정 열/행; items= [ 'col/row_name' ]\n",
    "print(df.filter(items=['bcd','abd']))"
   ]
  },
  {
   "cell_type": "code",
   "execution_count": 51,
   "id": "e2064d60-91a1-477d-97e3-f59444ce0d39",
   "metadata": {
    "tags": []
   },
   "outputs": [
    {
     "name": "stdout",
     "output_type": "stream",
     "text": [
      "     abc  abd\n",
      "1st    1    3\n",
      "2nd    4    6\n",
      "3rd    7    9\n"
     ]
    }
   ],
   "source": [
    "# 해당 글자에 대한 정규표현식: regex= '  ^ [] $  '\n",
    "print(df.filter(regex='^a')) #'a'로 시작하는 문자열을 가진 col추출"
   ]
  },
  {
   "cell_type": "code",
   "execution_count": 52,
   "id": "0a1e4b3b-f70b-4df1-9150-c4da37b33d3c",
   "metadata": {
    "tags": []
   },
   "outputs": [
    {
     "name": "stdout",
     "output_type": "stream",
     "text": [
      "     abc  bcd  abd\n",
      "1st    1    2    3\n",
      "2nd    4    5    6\n",
      "3rd    7    8    9\n"
     ]
    }
   ],
   "source": [
    "print(df.filter(regex='[bc]')) #'b'또는'c'가 포함되어 있는 문자열을 가진 col추출"
   ]
  },
  {
   "cell_type": "code",
   "execution_count": 53,
   "id": "9ff4276a-5917-4f71-96e1-0a0663e02863",
   "metadata": {
    "tags": []
   },
   "outputs": [
    {
     "name": "stdout",
     "output_type": "stream",
     "text": [
      "     abc  bcd  abd\n",
      "2nd    4    5    6\n",
      "3rd    7    8    9\n"
     ]
    }
   ],
   "source": [
    "print(df.filter(regex='d$',axis=0)) #'d'로 끝나는 문자열을 가진 row추출"
   ]
  },
  {
   "cell_type": "code",
   "execution_count": 54,
   "id": "58195574-7790-44e2-aca0-357e0335a44b",
   "metadata": {
    "tags": []
   },
   "outputs": [
    {
     "name": "stdout",
     "output_type": "stream",
     "text": [
      "     abc  abd\n",
      "1st    1    3\n",
      "2nd    4    6\n",
      "3rd    7    9\n"
     ]
    }
   ],
   "source": [
    "# 해당 문자열이 포함되어있는 열/행: like= ' 특정 문자열 '\n",
    "print(df.filter(like='ab')) #'ab'가 포함되어 있는 문자열을 가진 col추출"
   ]
  },
  {
   "cell_type": "markdown",
   "id": "1d55fb5f-370f-4f2f-9bb9-5da2873a7f66",
   "metadata": {
    "tags": []
   },
   "source": [
    "#### # Query; col_name을 포함한 bool_condition을 문자열로 접근해 추출"
   ]
  },
  {
   "cell_type": "code",
   "execution_count": 55,
   "id": "1ca0c211-29ae-4939-ae77-3c34af95de5d",
   "metadata": {
    "tags": []
   },
   "outputs": [
    {
     "data": {
      "text/html": [
       "<div>\n",
       "<style scoped>\n",
       "    .dataframe tbody tr th:only-of-type {\n",
       "        vertical-align: middle;\n",
       "    }\n",
       "\n",
       "    .dataframe tbody tr th {\n",
       "        vertical-align: top;\n",
       "    }\n",
       "\n",
       "    .dataframe thead th {\n",
       "        text-align: right;\n",
       "    }\n",
       "</style>\n",
       "<table border=\"1\" class=\"dataframe\">\n",
       "  <thead>\n",
       "    <tr style=\"text-align: right;\">\n",
       "      <th></th>\n",
       "      <th>abc</th>\n",
       "      <th>bcd</th>\n",
       "      <th>abd</th>\n",
       "    </tr>\n",
       "  </thead>\n",
       "  <tbody>\n",
       "    <tr>\n",
       "      <th>2nd</th>\n",
       "      <td>4</td>\n",
       "      <td>5</td>\n",
       "      <td>6</td>\n",
       "    </tr>\n",
       "    <tr>\n",
       "      <th>3rd</th>\n",
       "      <td>7</td>\n",
       "      <td>8</td>\n",
       "      <td>9</td>\n",
       "    </tr>\n",
       "  </tbody>\n",
       "</table>\n",
       "</div>"
      ],
      "text/plain": [
       "     abc  bcd  abd\n",
       "2nd    4    5    6\n",
       "3rd    7    8    9"
      ]
     },
     "execution_count": 55,
     "metadata": {},
     "output_type": "execute_result"
    }
   ],
   "source": [
    "df.query('abc > 3') #속도가 느리지만.."
   ]
  },
  {
   "cell_type": "code",
   "execution_count": 56,
   "id": "a1275b44-c612-444b-acc7-b521cc26bf25",
   "metadata": {
    "tags": []
   },
   "outputs": [
    {
     "data": {
      "text/html": [
       "<div>\n",
       "<style scoped>\n",
       "    .dataframe tbody tr th:only-of-type {\n",
       "        vertical-align: middle;\n",
       "    }\n",
       "\n",
       "    .dataframe tbody tr th {\n",
       "        vertical-align: top;\n",
       "    }\n",
       "\n",
       "    .dataframe thead th {\n",
       "        text-align: right;\n",
       "    }\n",
       "</style>\n",
       "<table border=\"1\" class=\"dataframe\">\n",
       "  <thead>\n",
       "    <tr style=\"text-align: right;\">\n",
       "      <th></th>\n",
       "      <th>abc</th>\n",
       "      <th>bcd</th>\n",
       "      <th>abd</th>\n",
       "    </tr>\n",
       "  </thead>\n",
       "  <tbody>\n",
       "    <tr>\n",
       "      <th>1st</th>\n",
       "      <td>1</td>\n",
       "      <td>2</td>\n",
       "      <td>3</td>\n",
       "    </tr>\n",
       "    <tr>\n",
       "      <th>2nd</th>\n",
       "      <td>4</td>\n",
       "      <td>5</td>\n",
       "      <td>6</td>\n",
       "    </tr>\n",
       "  </tbody>\n",
       "</table>\n",
       "</div>"
      ],
      "text/plain": [
       "     abc  bcd  abd\n",
       "1st    1    2    3\n",
       "2nd    4    5    6"
      ]
     },
     "execution_count": 56,
     "metadata": {},
     "output_type": "execute_result"
    }
   ],
   "source": [
    "abc_max=df.max()['abc'] \n",
    "df.query('abd < @abc_max') #외부 값을 @로 참조가능하다!!"
   ]
  },
  {
   "cell_type": "markdown",
   "id": "e737337b-8ab2-49f7-97c5-6099d68b77cb",
   "metadata": {
    "tags": []
   },
   "source": [
    "#### (5) 연산; 연산자 OR 메소드"
   ]
  },
  {
   "cell_type": "code",
   "execution_count": 57,
   "id": "ec1c7572-fcb0-45b9-8038-57b2af7deeed",
   "metadata": {
    "tags": []
   },
   "outputs": [
    {
     "name": "stdout",
     "output_type": "stream",
     "text": [
      "      A   B   C\n",
      "1st  11  12  13\n",
      "2nd  21  22  23\n",
      "3rd  31  32  33\n",
      "\n",
      "      A   B   E\n",
      "1st  11  12  14\n",
      "2nd  21  22  24\n",
      "4th  41  42  44\n"
     ]
    }
   ],
   "source": [
    "df1 = pd.DataFrame({'A':[11,21,31], 'B':[12,22,32], 'C':[13,23,33]}, index=['1st','2nd','3rd'])\n",
    "df2 = pd.DataFrame({'A':[11,21,41], 'B':[12,22,42], 'E':[14,24,44]}, index=['1st','2nd','4th'])\n",
    "print(df1,end='\\n'*2)\n",
    "print(df2)"
   ]
  },
  {
   "cell_type": "code",
   "execution_count": 58,
   "id": "3ae25d97-04b6-4fef-84ff-b7da30109c96",
   "metadata": {
    "tags": []
   },
   "outputs": [
    {
     "name": "stdout",
     "output_type": "stream",
     "text": [
      "        A     B   C   E\n",
      "1st  22.0  24.0 NaN NaN\n",
      "2nd  42.0  44.0 NaN NaN\n",
      "3rd   NaN   NaN NaN NaN\n",
      "4th   NaN   NaN NaN NaN\n"
     ]
    }
   ],
   "source": [
    "# 연산자: DataFrame의 shape은 합집합, 행/열이 모두 같은 원소끼리만 연산, 빈 곳은 NaN\n",
    "print(df1+df2)"
   ]
  },
  {
   "cell_type": "code",
   "execution_count": 59,
   "id": "eb9cb28a-6ecd-4f7d-b8aa-5158066a7082",
   "metadata": {
    "tags": []
   },
   "outputs": [
    {
     "name": "stdout",
     "output_type": "stream",
     "text": [
      "        A     B     C     E\n",
      "1st  22.0  24.0  13.0  14.0\n",
      "2nd  42.0  44.0  23.0  24.0\n",
      "3rd  31.0  32.0  33.0   NaN\n",
      "4th  41.0  42.0   NaN  44.0\n"
     ]
    }
   ],
   "source": [
    "# 메소드: DataFrame 자체를 합집합, 빈 곳은 NaN\n",
    "# fill_value= (교집합이 아닌 곳에서의) NULL를 대체할 값\n",
    "print(df1.add(df2, fill_value=0))"
   ]
  },
  {
   "cell_type": "code",
   "execution_count": 60,
   "id": "7d6afb54-216d-4d8e-a552-776372df0fbc",
   "metadata": {
    "tags": []
   },
   "outputs": [
    {
     "name": "stdout",
     "output_type": "stream",
     "text": [
      "         A      B     C     E\n",
      "1st  121.0  144.0  13.0  14.0\n",
      "2nd  441.0  484.0  23.0  24.0\n",
      "3rd   31.0   32.0  33.0   NaN\n",
      "4th   41.0   42.0   NaN  44.0\n"
     ]
    }
   ],
   "source": [
    "print(df1.mul(df2, fill_value=1))"
   ]
  },
  {
   "cell_type": "markdown",
   "id": "49823eae-029c-4174-8da2-ae50ce77947f",
   "metadata": {
    "tags": []
   },
   "source": [
    "#### (6) 정렬; 값 OR abs_idx 으로"
   ]
  },
  {
   "cell_type": "code",
   "execution_count": 61,
   "id": "59f2b669-c427-4655-aae2-d36004aee2fc",
   "metadata": {
    "tags": []
   },
   "outputs": [
    {
     "name": "stdout",
     "output_type": "stream",
     "text": [
      "      A   B   C\n",
      "1st  11  12  33\n",
      "2nd  21  22  32\n",
      "3rd  31  32  31\n"
     ]
    }
   ],
   "source": [
    "df = pd.DataFrame({'A':[11,21,31], 'B':[12,22,32], 'C':[33,32,31]}, index=['1st','2nd','3rd'])\n",
    "print(df)"
   ]
  },
  {
   "cell_type": "code",
   "execution_count": 62,
   "id": "144c01bc-2b15-418e-92a7-af46112f38fa",
   "metadata": {
    "tags": []
   },
   "outputs": [
    {
     "data": {
      "text/html": [
       "<div>\n",
       "<style scoped>\n",
       "    .dataframe tbody tr th:only-of-type {\n",
       "        vertical-align: middle;\n",
       "    }\n",
       "\n",
       "    .dataframe tbody tr th {\n",
       "        vertical-align: top;\n",
       "    }\n",
       "\n",
       "    .dataframe thead th {\n",
       "        text-align: right;\n",
       "    }\n",
       "</style>\n",
       "<table border=\"1\" class=\"dataframe\">\n",
       "  <thead>\n",
       "    <tr style=\"text-align: right;\">\n",
       "      <th></th>\n",
       "      <th>A</th>\n",
       "      <th>B</th>\n",
       "      <th>C</th>\n",
       "    </tr>\n",
       "  </thead>\n",
       "  <tbody>\n",
       "    <tr>\n",
       "      <th>3rd</th>\n",
       "      <td>31</td>\n",
       "      <td>32</td>\n",
       "      <td>31</td>\n",
       "    </tr>\n",
       "    <tr>\n",
       "      <th>2nd</th>\n",
       "      <td>21</td>\n",
       "      <td>22</td>\n",
       "      <td>32</td>\n",
       "    </tr>\n",
       "    <tr>\n",
       "      <th>1st</th>\n",
       "      <td>11</td>\n",
       "      <td>12</td>\n",
       "      <td>33</td>\n",
       "    </tr>\n",
       "  </tbody>\n",
       "</table>\n",
       "</div>"
      ],
      "text/plain": [
       "      A   B   C\n",
       "3rd  31  32  31\n",
       "2nd  21  22  32\n",
       "1st  11  12  33"
      ]
     },
     "execution_count": 62,
     "metadata": {},
     "output_type": "execute_result"
    }
   ],
   "source": [
    "df.sort_values(by='A', ascending=False)"
   ]
  },
  {
   "cell_type": "code",
   "execution_count": 63,
   "id": "51795487-9b7b-4388-9b95-c81004017889",
   "metadata": {
    "tags": []
   },
   "outputs": [
    {
     "data": {
      "text/html": [
       "<div>\n",
       "<style scoped>\n",
       "    .dataframe tbody tr th:only-of-type {\n",
       "        vertical-align: middle;\n",
       "    }\n",
       "\n",
       "    .dataframe tbody tr th {\n",
       "        vertical-align: top;\n",
       "    }\n",
       "\n",
       "    .dataframe thead th {\n",
       "        text-align: right;\n",
       "    }\n",
       "</style>\n",
       "<table border=\"1\" class=\"dataframe\">\n",
       "  <thead>\n",
       "    <tr style=\"text-align: right;\">\n",
       "      <th></th>\n",
       "      <th>A</th>\n",
       "      <th>B</th>\n",
       "      <th>C</th>\n",
       "    </tr>\n",
       "  </thead>\n",
       "  <tbody>\n",
       "    <tr>\n",
       "      <th>1st</th>\n",
       "      <td>11</td>\n",
       "      <td>12</td>\n",
       "      <td>33</td>\n",
       "    </tr>\n",
       "    <tr>\n",
       "      <th>2nd</th>\n",
       "      <td>21</td>\n",
       "      <td>22</td>\n",
       "      <td>32</td>\n",
       "    </tr>\n",
       "    <tr>\n",
       "      <th>3rd</th>\n",
       "      <td>31</td>\n",
       "      <td>32</td>\n",
       "      <td>31</td>\n",
       "    </tr>\n",
       "  </tbody>\n",
       "</table>\n",
       "</div>"
      ],
      "text/plain": [
       "      A   B   C\n",
       "1st  11  12  33\n",
       "2nd  21  22  32\n",
       "3rd  31  32  31"
      ]
     },
     "execution_count": 63,
     "metadata": {},
     "output_type": "execute_result"
    }
   ],
   "source": [
    "df.sort_index()"
   ]
  },
  {
   "cell_type": "code",
   "execution_count": 64,
   "id": "4db9d249-50c6-4259-81d1-6720f1e41ca5",
   "metadata": {
    "tags": []
   },
   "outputs": [
    {
     "data": {
      "text/html": [
       "<div>\n",
       "<style scoped>\n",
       "    .dataframe tbody tr th:only-of-type {\n",
       "        vertical-align: middle;\n",
       "    }\n",
       "\n",
       "    .dataframe tbody tr th {\n",
       "        vertical-align: top;\n",
       "    }\n",
       "\n",
       "    .dataframe thead th {\n",
       "        text-align: right;\n",
       "    }\n",
       "</style>\n",
       "<table border=\"1\" class=\"dataframe\">\n",
       "  <thead>\n",
       "    <tr style=\"text-align: right;\">\n",
       "      <th></th>\n",
       "      <th>A</th>\n",
       "      <th>B</th>\n",
       "      <th>C</th>\n",
       "    </tr>\n",
       "  </thead>\n",
       "  <tbody>\n",
       "    <tr>\n",
       "      <th>1st</th>\n",
       "      <td>3.0</td>\n",
       "      <td>3.0</td>\n",
       "      <td>1.0</td>\n",
       "    </tr>\n",
       "    <tr>\n",
       "      <th>2nd</th>\n",
       "      <td>2.0</td>\n",
       "      <td>2.0</td>\n",
       "      <td>2.0</td>\n",
       "    </tr>\n",
       "    <tr>\n",
       "      <th>3rd</th>\n",
       "      <td>1.0</td>\n",
       "      <td>1.0</td>\n",
       "      <td>3.0</td>\n",
       "    </tr>\n",
       "  </tbody>\n",
       "</table>\n",
       "</div>"
      ],
      "text/plain": [
       "       A    B    C\n",
       "1st  3.0  3.0  1.0\n",
       "2nd  2.0  2.0  2.0\n",
       "3rd  1.0  1.0  3.0"
      ]
     },
     "execution_count": 64,
     "metadata": {},
     "output_type": "execute_result"
    }
   ],
   "source": [
    "df.rank(axis=0, ascending=False)"
   ]
  },
  {
   "cell_type": "markdown",
   "id": "04570165-1e6a-4ee5-877e-9bef1106db52",
   "metadata": {
    "tags": []
   },
   "source": [
    "#### # apply"
   ]
  },
  {
   "cell_type": "code",
   "execution_count": 65,
   "id": "d8ed836b-b35e-4284-9e1c-3875c965f5ef",
   "metadata": {
    "tags": []
   },
   "outputs": [
    {
     "name": "stdout",
     "output_type": "stream",
     "text": [
      "   scale location  sales\n",
      "0  small     east     10\n",
      "1  large     east     20\n",
      "2  small    south     30\n",
      "3  large    south     40\n"
     ]
    }
   ],
   "source": [
    "df = pd.DataFrame({'scale':['small','large','small','large'], 'location':['east','east','south','south'], 'sales':[10,20,30,40]})\n",
    "print(df)"
   ]
  },
  {
   "cell_type": "code",
   "execution_count": 66,
   "id": "9fc4fde1-2a65-4e49-bcc5-8dcf184336d7",
   "metadata": {},
   "outputs": [
    {
     "name": "stdout",
     "output_type": "stream",
     "text": [
      "0     100\n",
      "1     400\n",
      "2     900\n",
      "3    1600\n",
      "Name: sales, dtype: int64\n"
     ]
    }
   ],
   "source": [
    "print(df.sales.apply(lambda x: x**2))"
   ]
  },
  {
   "cell_type": "code",
   "execution_count": 67,
   "id": "64363d21-c914-4b9e-998d-b48efbb7592e",
   "metadata": {
    "tags": []
   },
   "outputs": [
    {
     "name": "stdout",
     "output_type": "stream",
     "text": [
      "[100, 400, 900, 1600]\n"
     ]
    }
   ],
   "source": [
    "# VS map\n",
    "print(list(map(lambda x: x**2, df.sales)))"
   ]
  },
  {
   "cell_type": "markdown",
   "id": "7dd316a9-72df-430f-b0e7-edc9cc14bc45",
   "metadata": {
    "tags": []
   },
   "source": [
    "#### # groupby; 범주형value를 가지는 col를 기준으로 그룹화(+Series로 변환됨)"
   ]
  },
  {
   "cell_type": "code",
   "execution_count": 68,
   "id": "077f706e-f09b-4819-be2d-b2674cebddda",
   "metadata": {
    "tags": []
   },
   "outputs": [
    {
     "name": "stdout",
     "output_type": "stream",
     "text": [
      "   scale location  sales\n",
      "0  small     east     10\n",
      "1  large     east     20\n",
      "2  small    south     30\n",
      "3  large    south     40\n"
     ]
    }
   ],
   "source": [
    "df = pd.DataFrame({'scale':['small','large','small','large'], 'location':['east','east','south','south'], 'sales':[10,20,30,40]})\n",
    "print(df)"
   ]
  },
  {
   "cell_type": "code",
   "execution_count": 69,
   "id": "7e5c5c38-82a3-4a03-a67c-a86630ad590a",
   "metadata": {
    "tags": []
   },
   "outputs": [
    {
     "name": "stdout",
     "output_type": "stream",
     "text": [
      "scale\n",
      "large    60\n",
      "small    40\n",
      "Name: sales, dtype: int64\n",
      "\n",
      "<class 'pandas.core.series.Series'>\n",
      "\n",
      "Index(['large', 'small'], dtype='object', name='scale')\n",
      "\n",
      "[60 40]\n"
     ]
    }
   ],
   "source": [
    "dfgb1 = df.groupby(by='scale')['sales'].sum()\n",
    "print(dfgb1, end='\\n'*2)\n",
    "print(type(dfgb1),end='\\n'*2)\n",
    "print(dfgb1.index,end='\\n'*2)\n",
    "print(dfgb1.values)"
   ]
  },
  {
   "cell_type": "code",
   "execution_count": 70,
   "id": "58fe1008-0002-4a6f-9ded-9ce012a5c105",
   "metadata": {
    "tags": []
   },
   "outputs": [
    {
     "name": "stdout",
     "output_type": "stream",
     "text": [
      "location  scale\n",
      "east      large    20.0\n",
      "          small    10.0\n",
      "south     large    40.0\n",
      "          small    30.0\n",
      "Name: sales, dtype: float64\n",
      "\n",
      "<class 'pandas.core.series.Series'>\n",
      "\n",
      "MultiIndex([( 'east', 'large'),\n",
      "            ( 'east', 'small'),\n",
      "            ('south', 'large'),\n",
      "            ('south', 'small')],\n",
      "           names=['location', 'scale'])\n",
      "\n",
      "[20. 10. 40. 30.]\n"
     ]
    }
   ],
   "source": [
    "dfgb2 = df.groupby(by=['location', 'scale'])['sales'].mean()\n",
    "print(dfgb2, end='\\n'*2)\n",
    "print(type(dfgb2),end='\\n'*2)\n",
    "print(dfgb2.index, end='\\n'*2) #기준col이 2개이상 ⇒ multiindex\n",
    "print(dfgb2.values)"
   ]
  },
  {
   "cell_type": "markdown",
   "id": "8da1ebc3-693b-4f7c-b3f8-de889bf02fb3",
   "metadata": {
    "tags": []
   },
   "source": [
    "#### (7) 재구조화; pd.melt, pd.concat, pd.merge.."
   ]
  },
  {
   "cell_type": "code",
   "execution_count": 71,
   "id": "070198e1-b089-4a2e-9cc5-8bb5dbe98ee9",
   "metadata": {
    "tags": []
   },
   "outputs": [
    {
     "name": "stdout",
     "output_type": "stream",
     "text": [
      "   Name  Height  Weight\n",
      "0  John     160      55\n",
      "1  Kate     155      47\n",
      "2  Eric     170      63\n",
      "3  Mike     180      70\n"
     ]
    }
   ],
   "source": [
    "df=pd.DataFrame({'Name':['John','Kate','Eric','Mike'],'Height':[160,155,170,180],'Weight':[55,47,63,70]})\n",
    "print(df)"
   ]
  },
  {
   "cell_type": "markdown",
   "id": "366cc3f4-0c55-4cee-8b9c-3f8b27fccdfc",
   "metadata": {
    "tags": []
   },
   "source": [
    "#### # melt; column중심에서 value중심으로 변화"
   ]
  },
  {
   "cell_type": "code",
   "execution_count": 72,
   "id": "a666d51b-5122-436d-bc9b-5fdfd9b4d059",
   "metadata": {
    "tags": []
   },
   "outputs": [
    {
     "data": {
      "text/html": [
       "<div>\n",
       "<style scoped>\n",
       "    .dataframe tbody tr th:only-of-type {\n",
       "        vertical-align: middle;\n",
       "    }\n",
       "\n",
       "    .dataframe tbody tr th {\n",
       "        vertical-align: top;\n",
       "    }\n",
       "\n",
       "    .dataframe thead th {\n",
       "        text-align: right;\n",
       "    }\n",
       "</style>\n",
       "<table border=\"1\" class=\"dataframe\">\n",
       "  <thead>\n",
       "    <tr style=\"text-align: right;\">\n",
       "      <th></th>\n",
       "      <th>Name</th>\n",
       "      <th>indicator</th>\n",
       "      <th>measurements</th>\n",
       "    </tr>\n",
       "  </thead>\n",
       "  <tbody>\n",
       "    <tr>\n",
       "      <th>0</th>\n",
       "      <td>John</td>\n",
       "      <td>Height</td>\n",
       "      <td>160</td>\n",
       "    </tr>\n",
       "    <tr>\n",
       "      <th>1</th>\n",
       "      <td>Kate</td>\n",
       "      <td>Height</td>\n",
       "      <td>155</td>\n",
       "    </tr>\n",
       "    <tr>\n",
       "      <th>2</th>\n",
       "      <td>Eric</td>\n",
       "      <td>Height</td>\n",
       "      <td>170</td>\n",
       "    </tr>\n",
       "    <tr>\n",
       "      <th>3</th>\n",
       "      <td>Mike</td>\n",
       "      <td>Height</td>\n",
       "      <td>180</td>\n",
       "    </tr>\n",
       "    <tr>\n",
       "      <th>4</th>\n",
       "      <td>John</td>\n",
       "      <td>Weight</td>\n",
       "      <td>55</td>\n",
       "    </tr>\n",
       "    <tr>\n",
       "      <th>5</th>\n",
       "      <td>Kate</td>\n",
       "      <td>Weight</td>\n",
       "      <td>47</td>\n",
       "    </tr>\n",
       "    <tr>\n",
       "      <th>6</th>\n",
       "      <td>Eric</td>\n",
       "      <td>Weight</td>\n",
       "      <td>63</td>\n",
       "    </tr>\n",
       "    <tr>\n",
       "      <th>7</th>\n",
       "      <td>Mike</td>\n",
       "      <td>Weight</td>\n",
       "      <td>70</td>\n",
       "    </tr>\n",
       "  </tbody>\n",
       "</table>\n",
       "</div>"
      ],
      "text/plain": [
       "   Name indicator  measurements\n",
       "0  John    Height           160\n",
       "1  Kate    Height           155\n",
       "2  Eric    Height           170\n",
       "3  Mike    Height           180\n",
       "4  John    Weight            55\n",
       "5  Kate    Weight            47\n",
       "6  Eric    Weight            63\n",
       "7  Mike    Weight            70"
      ]
     },
     "execution_count": 72,
     "metadata": {},
     "output_type": "execute_result"
    }
   ],
   "source": [
    "#pd.melt( id_vars= 기준column , value_vars= 중심column_default:기준column여집합 \n",
    "#, var_name= 변화 후 value_vars의 이름 , value_name= 변화 후 value들의 이름\n",
    "#, col_level= multiindex인 경우에 지정해줘야!!_기준column과 중심column의 level이 동일해야!! )\n",
    "df_melted=pd.melt(df, id_vars='Name', value_vars=['Height','Weight'], var_name='indicator', value_name='measurements')\n",
    "df_melted"
   ]
  },
  {
   "cell_type": "code",
   "execution_count": 73,
   "id": "d54954df-a155-4bf1-b7b6-03e87eef66af",
   "metadata": {
    "tags": []
   },
   "outputs": [
    {
     "name": "stdout",
     "output_type": "stream",
     "text": [
      "    id name\n",
      "0  1st  홍길동\n",
      "1  2nd  임꺽정\n",
      "2  3rd  김홍익\n",
      "\n",
      "    id address\n",
      "0  2nd      서울\n",
      "1  3rd     강원도\n",
      "2  4th     경기도\n"
     ]
    }
   ],
   "source": [
    "df1 = pd.DataFrame({'id':['1st','2nd','3rd'], 'name': ['홍길동', '임꺽정', '김홍익']})\n",
    "df2 = pd.DataFrame({'id':['2nd','3rd','4th'], 'address': ['서울', '강원도', '경기도']})\n",
    "print(df1,end='\\n'*2)\n",
    "print(df2)"
   ]
  },
  {
   "cell_type": "markdown",
   "id": "24fed235-3005-491c-8873-1f8d0419b96f",
   "metadata": {},
   "source": [
    "#### # concat; 교집합은 상관쓰지 말고, 그대로 붙이기(axis주의!!)"
   ]
  },
  {
   "cell_type": "code",
   "execution_count": 74,
   "id": "b87bb1aa-8fb2-4f08-b80a-37a7439edb78",
   "metadata": {
    "tags": []
   },
   "outputs": [
    {
     "name": "stdout",
     "output_type": "stream",
     "text": [
      "행으로 합침: \n",
      "     id name address\n",
      "0  1st  홍길동     NaN\n",
      "1  2nd  임꺽정     NaN\n",
      "2  3rd  김홍익     NaN\n",
      "0  2nd  NaN      서울\n",
      "1  3rd  NaN     강원도\n",
      "2  4th  NaN     경기도\n",
      "\n",
      "열로 합침: \n",
      "     id name   id address\n",
      "0  1st  홍길동  2nd      서울\n",
      "1  2nd  임꺽정  3rd     강원도\n",
      "2  3rd  김홍익  4th     경기도\n"
     ]
    }
   ],
   "source": [
    "concat_row = pd.concat([df1,df2], axis = 0)\n",
    "concat_col = pd.concat([df1,df2], axis = 1)\n",
    "\n",
    "print('행으로 합침: \\n', concat_row,end='\\n'*2)\n",
    "print('열로 합침: \\n', concat_col)"
   ]
  },
  {
   "cell_type": "markdown",
   "id": "28d15693-e850-40e1-8099-5e3e4346f1a7",
   "metadata": {},
   "source": [
    "#### # merge; on= '기준col_name' , how=교집합, 합집합..."
   ]
  },
  {
   "cell_type": "code",
   "execution_count": 75,
   "id": "e9c63e1e-f115-4ec5-bc33-c7aac52c7c00",
   "metadata": {
    "tags": []
   },
   "outputs": [
    {
     "name": "stdout",
     "output_type": "stream",
     "text": [
      "inner: \n",
      "     id name address\n",
      "0  2nd  임꺽정      서울\n",
      "1  3rd  김홍익     강원도\n",
      "\n",
      "outer: \n",
      "     id name address\n",
      "0  1st  홍길동     NaN\n",
      "1  2nd  임꺽정      서울\n",
      "2  3rd  김홍익     강원도\n",
      "3  4th  NaN     경기도\n"
     ]
    }
   ],
   "source": [
    "# on= ' 공통으로 가지고 있어 기준(식별)col_name '\n",
    "inner_join = pd.merge(df1, df2, on='id', how='inner') # 기준col_value 으로 교집합\n",
    "outer_join = pd.merge(df1, df2, on='id', how='outer') # 기준col_value 으로 합집합\n",
    "print('inner: \\n', inner_join,end='\\n'*2)\n",
    "print('outer: \\n', outer_join)"
   ]
  },
  {
   "cell_type": "code",
   "execution_count": 76,
   "id": "3d348385-d9d2-4174-b6ed-4893e438827f",
   "metadata": {
    "tags": []
   },
   "outputs": [
    {
     "name": "stdout",
     "output_type": "stream",
     "text": [
      "left: \n",
      "     id name address\n",
      "0  1st  홍길동     NaN\n",
      "1  2nd  임꺽정      서울\n",
      "2  3rd  김홍익     강원도\n",
      "\n",
      "right: \n",
      "     id name address\n",
      "0  2nd  임꺽정      서울\n",
      "1  3rd  김홍익     강원도\n",
      "2  4th  NaN     경기도\n"
     ]
    }
   ],
   "source": [
    "left_join = pd.merge(df1, df2, on='id', how='left') # 기준col_value 으로 합집합의 왼쪽part만\n",
    "right_join = pd.merge(df1, df2, on='id', how='right') # 기준col_value 으로 합집합의 오른쪽part만\n",
    "print('left: \\n', left_join, end='\\n'*2)\n",
    "print('right: \\n', right_join)"
   ]
  },
  {
   "cell_type": "markdown",
   "id": "0e2e7389-6f7e-47d1-8737-44c577bd987d",
   "metadata": {
    "tags": []
   },
   "source": [
    "### ▣ Dataframe 정제; 중복되는 개체 및 결측치(NA, NaN), 수정본 저장X"
   ]
  },
  {
   "cell_type": "code",
   "execution_count": 77,
   "id": "ea39520c-2862-4910-9e22-84a65085bec5",
   "metadata": {
    "tags": []
   },
   "outputs": [
    {
     "name": "stdout",
     "output_type": "stream",
     "text": [
      "        A   B     C\n",
      "1st  11.0  12  13.0\n",
      "2nd  21.0  22   NaN\n",
      "3rd  31.0  32  33.0\n",
      "4th   NaN  42  43.0\n",
      "7th  31.0  32  33.0\n"
     ]
    }
   ],
   "source": [
    "df = pd.DataFrame({'A':[11,21,31,None,31], 'B':[12,22,32,42,32], 'C':[13,None,33,43,33]}\n",
    "                  , index=['1st','2nd','3rd','4th','7th'])\n",
    "print(df)"
   ]
  },
  {
   "cell_type": "code",
   "execution_count": 78,
   "id": "06a5f094-0923-4bad-b0c9-3bb4f8e8ea8a",
   "metadata": {
    "tags": []
   },
   "outputs": [
    {
     "data": {
      "text/html": [
       "<div>\n",
       "<style scoped>\n",
       "    .dataframe tbody tr th:only-of-type {\n",
       "        vertical-align: middle;\n",
       "    }\n",
       "\n",
       "    .dataframe tbody tr th {\n",
       "        vertical-align: top;\n",
       "    }\n",
       "\n",
       "    .dataframe thead th {\n",
       "        text-align: right;\n",
       "    }\n",
       "</style>\n",
       "<table border=\"1\" class=\"dataframe\">\n",
       "  <thead>\n",
       "    <tr style=\"text-align: right;\">\n",
       "      <th></th>\n",
       "      <th>A</th>\n",
       "      <th>B</th>\n",
       "      <th>C</th>\n",
       "    </tr>\n",
       "  </thead>\n",
       "  <tbody>\n",
       "    <tr>\n",
       "      <th>1st</th>\n",
       "      <td>11.0</td>\n",
       "      <td>12</td>\n",
       "      <td>13.0</td>\n",
       "    </tr>\n",
       "    <tr>\n",
       "      <th>2nd</th>\n",
       "      <td>21.0</td>\n",
       "      <td>22</td>\n",
       "      <td>NaN</td>\n",
       "    </tr>\n",
       "    <tr>\n",
       "      <th>3rd</th>\n",
       "      <td>31.0</td>\n",
       "      <td>32</td>\n",
       "      <td>33.0</td>\n",
       "    </tr>\n",
       "    <tr>\n",
       "      <th>4th</th>\n",
       "      <td>NaN</td>\n",
       "      <td>42</td>\n",
       "      <td>43.0</td>\n",
       "    </tr>\n",
       "  </tbody>\n",
       "</table>\n",
       "</div>"
      ],
      "text/plain": [
       "        A   B     C\n",
       "1st  11.0  12  13.0\n",
       "2nd  21.0  22   NaN\n",
       "3rd  31.0  32  33.0\n",
       "4th   NaN  42  43.0"
      ]
     },
     "execution_count": 78,
     "metadata": {},
     "output_type": "execute_result"
    }
   ],
   "source": [
    "#중복데이터(=row) 제거\n",
    "df.drop_duplicates()"
   ]
  },
  {
   "cell_type": "code",
   "execution_count": 79,
   "id": "3fb32a5d-87aa-4c40-932d-6276c8c6b924",
   "metadata": {
    "tags": []
   },
   "outputs": [
    {
     "data": {
      "text/html": [
       "<div>\n",
       "<style scoped>\n",
       "    .dataframe tbody tr th:only-of-type {\n",
       "        vertical-align: middle;\n",
       "    }\n",
       "\n",
       "    .dataframe tbody tr th {\n",
       "        vertical-align: top;\n",
       "    }\n",
       "\n",
       "    .dataframe thead th {\n",
       "        text-align: right;\n",
       "    }\n",
       "</style>\n",
       "<table border=\"1\" class=\"dataframe\">\n",
       "  <thead>\n",
       "    <tr style=\"text-align: right;\">\n",
       "      <th></th>\n",
       "      <th>A</th>\n",
       "      <th>B</th>\n",
       "      <th>C</th>\n",
       "    </tr>\n",
       "  </thead>\n",
       "  <tbody>\n",
       "    <tr>\n",
       "      <th>1st</th>\n",
       "      <td>11.0</td>\n",
       "      <td>12</td>\n",
       "      <td>13.0</td>\n",
       "    </tr>\n",
       "    <tr>\n",
       "      <th>3rd</th>\n",
       "      <td>31.0</td>\n",
       "      <td>32</td>\n",
       "      <td>33.0</td>\n",
       "    </tr>\n",
       "    <tr>\n",
       "      <th>7th</th>\n",
       "      <td>31.0</td>\n",
       "      <td>32</td>\n",
       "      <td>33.0</td>\n",
       "    </tr>\n",
       "  </tbody>\n",
       "</table>\n",
       "</div>"
      ],
      "text/plain": [
       "        A   B     C\n",
       "1st  11.0  12  13.0\n",
       "3rd  31.0  32  33.0\n",
       "7th  31.0  32  33.0"
      ]
     },
     "execution_count": 79,
     "metadata": {},
     "output_type": "execute_result"
    }
   ],
   "source": [
    "#결측치(NA) 제거\n",
    "df.dropna() #row_name이 살아있는 열벡터 기준으로, NA가 있는 row제거"
   ]
  },
  {
   "cell_type": "code",
   "execution_count": 80,
   "id": "22a3718e-d9a0-4bce-8f4b-a6b1f35aaffb",
   "metadata": {
    "tags": []
   },
   "outputs": [
    {
     "data": {
      "text/html": [
       "<div>\n",
       "<style scoped>\n",
       "    .dataframe tbody tr th:only-of-type {\n",
       "        vertical-align: middle;\n",
       "    }\n",
       "\n",
       "    .dataframe tbody tr th {\n",
       "        vertical-align: top;\n",
       "    }\n",
       "\n",
       "    .dataframe thead th {\n",
       "        text-align: right;\n",
       "    }\n",
       "</style>\n",
       "<table border=\"1\" class=\"dataframe\">\n",
       "  <thead>\n",
       "    <tr style=\"text-align: right;\">\n",
       "      <th></th>\n",
       "      <th>B</th>\n",
       "    </tr>\n",
       "  </thead>\n",
       "  <tbody>\n",
       "    <tr>\n",
       "      <th>1st</th>\n",
       "      <td>12</td>\n",
       "    </tr>\n",
       "    <tr>\n",
       "      <th>2nd</th>\n",
       "      <td>22</td>\n",
       "    </tr>\n",
       "    <tr>\n",
       "      <th>3rd</th>\n",
       "      <td>32</td>\n",
       "    </tr>\n",
       "    <tr>\n",
       "      <th>4th</th>\n",
       "      <td>42</td>\n",
       "    </tr>\n",
       "    <tr>\n",
       "      <th>7th</th>\n",
       "      <td>32</td>\n",
       "    </tr>\n",
       "  </tbody>\n",
       "</table>\n",
       "</div>"
      ],
      "text/plain": [
       "      B\n",
       "1st  12\n",
       "2nd  22\n",
       "3rd  32\n",
       "4th  42\n",
       "7th  32"
      ]
     },
     "execution_count": 80,
     "metadata": {},
     "output_type": "execute_result"
    }
   ],
   "source": [
    "df.dropna(axis=1) #col_name이 살아있는 행벡터 기준으로, NA가 있는 col제거"
   ]
  },
  {
   "cell_type": "code",
   "execution_count": 81,
   "id": "1dc21310-5c75-4051-974a-d24ea8b36d79",
   "metadata": {
    "tags": []
   },
   "outputs": [
    {
     "name": "stdout",
     "output_type": "stream",
     "text": [
      "        A   B     C\n",
      "1st  11.0  12  13.0\n",
      "2nd  21.0  22  13.0\n",
      "3rd  31.0  32  33.0\n",
      "4th  31.0  42  43.0\n",
      "7th  31.0  32  33.0\n",
      "\n",
      "        A     B     C\n",
      "1st  11.0  12.0  13.0\n",
      "2nd  21.0  22.0   NaN\n",
      "3rd  31.0  32.0  33.0\n",
      "4th  42.0  42.0  43.0\n",
      "7th  31.0  32.0  33.0\n"
     ]
    }
   ],
   "source": [
    "#결측치 대체\n",
    "#'ffill': 앞 행/열의 값으로 대체\n",
    "print(df.fillna(axis=0,method='ffill'), end='\\n'*2)\n",
    "#'bfill': 뒤 행/열의 값으로 대체\n",
    "print(df.fillna(axis=1,method='bfill'))"
   ]
  },
  {
   "cell_type": "code",
   "execution_count": 82,
   "id": "da2418dc-4101-433f-b62d-db7e6fa2c15c",
   "metadata": {
    "tags": []
   },
   "outputs": [
    {
     "data": {
      "text/html": [
       "<div>\n",
       "<style scoped>\n",
       "    .dataframe tbody tr th:only-of-type {\n",
       "        vertical-align: middle;\n",
       "    }\n",
       "\n",
       "    .dataframe tbody tr th {\n",
       "        vertical-align: top;\n",
       "    }\n",
       "\n",
       "    .dataframe thead th {\n",
       "        text-align: right;\n",
       "    }\n",
       "</style>\n",
       "<table border=\"1\" class=\"dataframe\">\n",
       "  <thead>\n",
       "    <tr style=\"text-align: right;\">\n",
       "      <th></th>\n",
       "      <th>A</th>\n",
       "      <th>B</th>\n",
       "      <th>C</th>\n",
       "    </tr>\n",
       "  </thead>\n",
       "  <tbody>\n",
       "    <tr>\n",
       "      <th>1st</th>\n",
       "      <td>11.0</td>\n",
       "      <td>12</td>\n",
       "      <td>13.0</td>\n",
       "    </tr>\n",
       "    <tr>\n",
       "      <th>2nd</th>\n",
       "      <td>21.0</td>\n",
       "      <td>22</td>\n",
       "      <td>30.5</td>\n",
       "    </tr>\n",
       "    <tr>\n",
       "      <th>3rd</th>\n",
       "      <td>31.0</td>\n",
       "      <td>32</td>\n",
       "      <td>33.0</td>\n",
       "    </tr>\n",
       "    <tr>\n",
       "      <th>4th</th>\n",
       "      <td>23.5</td>\n",
       "      <td>42</td>\n",
       "      <td>43.0</td>\n",
       "    </tr>\n",
       "    <tr>\n",
       "      <th>7th</th>\n",
       "      <td>31.0</td>\n",
       "      <td>32</td>\n",
       "      <td>33.0</td>\n",
       "    </tr>\n",
       "  </tbody>\n",
       "</table>\n",
       "</div>"
      ],
      "text/plain": [
       "        A   B     C\n",
       "1st  11.0  12  13.0\n",
       "2nd  21.0  22  30.5\n",
       "3rd  31.0  32  33.0\n",
       "4th  23.5  42  43.0\n",
       "7th  31.0  32  33.0"
      ]
     },
     "execution_count": 82,
     "metadata": {},
     "output_type": "execute_result"
    }
   ],
   "source": [
    "df.fillna(df.mean()) #해당 열의 평균 값으로 대체"
   ]
  },
  {
   "cell_type": "markdown",
   "id": "d861a56d-f7b5-4251-8dd1-1e32a00586dc",
   "metadata": {
    "tags": []
   },
   "source": [
    "### ▣ Dataframe 다루기"
   ]
  },
  {
   "cell_type": "code",
   "execution_count": 83,
   "id": "fe97f88e-be5d-49be-a538-53edbabfa971",
   "metadata": {
    "tags": []
   },
   "outputs": [
    {
     "name": "stdout",
     "output_type": "stream",
     "text": [
      "   name sex  age class\n",
      "0   Kim   M   20    DS\n",
      "1   Lee   F   25    DS\n",
      "2  Park   F   30    DS\n",
      "3   Kim   M   20    PP\n",
      "4   Lee   F   25    PP\n",
      "5   Kim   M   20    DV\n"
     ]
    }
   ],
   "source": [
    "df = pd.DataFrame({'name':['Kim','Lee','Park','Kim','Lee','Kim']\n",
    "                   , 'sex':['M','F','F','M','F','M']\n",
    "                   , 'age':[20,25,30,20,25,20]\n",
    "                   , 'class':['DS','DS','DS','PP','PP','DV']})\n",
    "print(df)"
   ]
  },
  {
   "cell_type": "code",
   "execution_count": 84,
   "id": "23f5865a-43b6-4646-a916-a42d0e6026a3",
   "metadata": {
    "tags": []
   },
   "outputs": [
    {
     "data": {
      "text/plain": [
       "class\n",
       "DS    3\n",
       "DV    1\n",
       "PP    2\n",
       "Name: name, dtype: int64"
      ]
     },
     "execution_count": 84,
     "metadata": {},
     "output_type": "execute_result"
    }
   ],
   "source": [
    "#class별 수강생 수\n",
    "df.groupby(by='class').name.count()"
   ]
  },
  {
   "cell_type": "code",
   "execution_count": 85,
   "id": "f628b0c5-004f-4139-8b94-9048f4b7dee6",
   "metadata": {
    "tags": []
   },
   "outputs": [
    {
     "data": {
      "text/plain": [
       "name  sex  age\n",
       "Kim   M    20     3\n",
       "Lee   F    25     2\n",
       "Park  F    30     1\n",
       "Name: class, dtype: int64"
      ]
     },
     "execution_count": 85,
     "metadata": {},
     "output_type": "execute_result"
    }
   ],
   "source": [
    "#학생별 수강과목 수\n",
    "df.groupby(by=list(df.columns[:3]))['class'].count()"
   ]
  },
  {
   "cell_type": "code",
   "execution_count": 86,
   "id": "392a824c-9af4-43b5-a6d6-5a08f2730b24",
   "metadata": {
    "tags": []
   },
   "outputs": [
    {
     "data": {
      "text/html": [
       "<div>\n",
       "<style scoped>\n",
       "    .dataframe tbody tr th:only-of-type {\n",
       "        vertical-align: middle;\n",
       "    }\n",
       "\n",
       "    .dataframe tbody tr th {\n",
       "        vertical-align: top;\n",
       "    }\n",
       "\n",
       "    .dataframe thead th {\n",
       "        text-align: right;\n",
       "    }\n",
       "</style>\n",
       "<table border=\"1\" class=\"dataframe\">\n",
       "  <thead>\n",
       "    <tr style=\"text-align: right;\">\n",
       "      <th></th>\n",
       "      <th></th>\n",
       "      <th></th>\n",
       "      <th>class</th>\n",
       "    </tr>\n",
       "    <tr>\n",
       "      <th>name</th>\n",
       "      <th>sex</th>\n",
       "      <th>age</th>\n",
       "      <th></th>\n",
       "    </tr>\n",
       "  </thead>\n",
       "  <tbody>\n",
       "    <tr>\n",
       "      <th>Kim</th>\n",
       "      <th>M</th>\n",
       "      <th>20</th>\n",
       "      <td>3</td>\n",
       "    </tr>\n",
       "    <tr>\n",
       "      <th>Lee</th>\n",
       "      <th>F</th>\n",
       "      <th>25</th>\n",
       "      <td>2</td>\n",
       "    </tr>\n",
       "  </tbody>\n",
       "</table>\n",
       "</div>"
      ],
      "text/plain": [
       "              class\n",
       "name sex age       \n",
       "Kim  M   20       3\n",
       "Lee  F   25       2"
      ]
     },
     "execution_count": 86,
     "metadata": {},
     "output_type": "execute_result"
    }
   ],
   "source": [
    "#학생별 수강과목이 2개이상\n",
    "df0=pd.DataFrame(df.groupby(by=list(df.columns[:3]))['class'].count())\n",
    "df0[df0['class']>1]"
   ]
  },
  {
   "cell_type": "code",
   "execution_count": 87,
   "id": "b5b99599-ebfb-4bc3-8484-9b4c3ab6b6e2",
   "metadata": {
    "tags": []
   },
   "outputs": [
    {
     "data": {
      "text/plain": [
       "array(['Kim', 'Lee'], dtype=object)"
      ]
     },
     "execution_count": 87,
     "metadata": {},
     "output_type": "execute_result"
    }
   ],
   "source": [
    "#2과목 이상 수강하는 학생 이름\n",
    "df.groupby(by=list(df.columns[:3])).filter(lambda x: len(x)>1)['name'].unique()"
   ]
  },
  {
   "cell_type": "code",
   "execution_count": 88,
   "id": "2ad84ee8-8816-4899-8ff2-bcefc2db542d",
   "metadata": {
    "tags": []
   },
   "outputs": [
    {
     "data": {
      "text/plain": [
       "22.5"
      ]
     },
     "execution_count": 88,
     "metadata": {},
     "output_type": "execute_result"
    }
   ],
   "source": [
    "#2과목 이상 수강하는 학생 평균 나이\n",
    "df.groupby(by=list(df.columns[:3])).filter(lambda x: len(x)>1)[list(df.columns[:3])].drop_duplicates()['age'].mean()"
   ]
  },
  {
   "cell_type": "markdown",
   "id": "f1648ebe-b44e-4af9-9bb4-7d320e8037ff",
   "metadata": {
    "tags": []
   },
   "source": [
    "### ▣ Pandas 시각화; kind= 그래프 종류"
   ]
  },
  {
   "cell_type": "code",
   "execution_count": 89,
   "id": "f49ce14a-a98e-4ec6-9101-5a5cea1ad6d8",
   "metadata": {
    "tags": []
   },
   "outputs": [
    {
     "name": "stdout",
     "output_type": "stream",
     "text": [
      "          0\n",
      "0  0.082184\n",
      "1  0.321684\n",
      "2  0.134022\n",
      "3  0.272140\n",
      "4  0.193817\n",
      "          0\n",
      "0  0.761407\n",
      "1  0.314470\n",
      "2  0.359672\n",
      "3  0.930257\n",
      "4  0.503278\n"
     ]
    }
   ],
   "source": [
    "df1 = pd.DataFrame(np.random.rand(5)) #난수 5개 만들기\n",
    "print(df1.head())\n",
    "\n",
    "df2 = pd.DataFrame(np.random.rand(5)) #난수 5개 만들기\n",
    "print(df2.head())"
   ]
  },
  {
   "cell_type": "code",
   "execution_count": 90,
   "id": "9f0094d5-7e18-494d-9468-c907a9800459",
   "metadata": {
    "tags": []
   },
   "outputs": [
    {
     "data": {
      "text/plain": [
       "<Axes: >"
      ]
     },
     "execution_count": 90,
     "metadata": {},
     "output_type": "execute_result"
    },
    {
     "data": {
      "image/png": "[encoded data removed]",
      "text/plain": [
       "<Figure size 640x480 with 1 Axes>"
      ]
     },
     "metadata": {},
     "output_type": "display_data"
    },
    {
     "data": {
      "image/png": "[encoded data removed]",
      "text/plain": [
       "<Figure size 640x480 with 1 Axes>"
      ]
     },
     "metadata": {},
     "output_type": "display_data"
    }
   ],
   "source": [
    "df1.plot(legend='df1')\n",
    "df2.plot(legend='df2',color='orange')"
   ]
  },
  {
   "cell_type": "code",
   "execution_count": 91,
   "id": "a6f7afe9-f6f0-4121-a674-b496f1f04d9d",
   "metadata": {
    "tags": []
   },
   "outputs": [
    {
     "name": "stdout",
     "output_type": "stream",
     "text": [
      "        df1       df2\n",
      "0  0.082184  0.761407\n",
      "1  0.321684  0.314470\n",
      "2  0.134022  0.359672\n",
      "3  0.272140  0.930257\n",
      "4  0.193817  0.503278\n"
     ]
    },
    {
     "data": {
      "text/plain": [
       "<Axes: >"
      ]
     },
     "execution_count": 91,
     "metadata": {},
     "output_type": "execute_result"
    },
    {
     "data": {
      "image/png": "[encoded data removed]",
      "text/plain": [
       "<Figure size 640x480 with 1 Axes>"
      ]
     },
     "metadata": {},
     "output_type": "display_data"
    }
   ],
   "source": [
    "df = pd.concat([df1,df2], axis=1) #행 방향으로 합치기\n",
    "df.columns = ['df1', 'df2'] #합쳐야 하나에 모든 \n",
    "print(df.head())\n",
    "df.plot() #꺽은선 그래프"
   ]
  },
  {
   "cell_type": "code",
   "execution_count": 92,
   "id": "c3aa4158-68d4-48a7-a83a-720632d2a185",
   "metadata": {
    "tags": []
   },
   "outputs": [
    {
     "data": {
      "text/plain": [
       "<Axes: >"
      ]
     },
     "execution_count": 92,
     "metadata": {},
     "output_type": "execute_result"
    },
    {
     "data": {
      "image/png": "[encoded data removed]",
      "text/plain": [
       "<Figure size 640x480 with 1 Axes>"
      ]
     },
     "metadata": {},
     "output_type": "display_data"
    }
   ],
   "source": [
    "df.plot(kind='barh') #막대 그래프"
   ]
  },
  {
   "cell_type": "code",
   "execution_count": 93,
   "id": "a7311db2-df75-422e-8075-95ba1767a03a",
   "metadata": {
    "tags": []
   },
   "outputs": [
    {
     "data": {
      "text/plain": [
       "<Axes: >"
      ]
     },
     "execution_count": 93,
     "metadata": {},
     "output_type": "execute_result"
    },
    {
     "data": {
      "image/png": "[encoded data removed]",
      "text/plain": [
       "<Figure size 640x480 with 1 Axes>"
      ]
     },
     "metadata": {},
     "output_type": "display_data"
    }
   ],
   "source": [
    "df.plot(kind='area')"
   ]
  },
  {
   "cell_type": "code",
   "execution_count": 94,
   "id": "1b12afa2-9205-420b-b860-96f00dd76165",
   "metadata": {
    "tags": []
   },
   "outputs": [
    {
     "data": {
      "text/plain": [
       "<Axes: xlabel='df1', ylabel='df2'>"
      ]
     },
     "execution_count": 94,
     "metadata": {},
     "output_type": "execute_result"
    },
    {
     "data": {
      "image/png": "[encoded data removed]",
      "text/plain": [
       "<Figure size 640x480 with 1 Axes>"
      ]
     },
     "metadata": {},
     "output_type": "display_data"
    }
   ],
   "source": [
    "df.plot(kind='scatter', x='df1', y='df2')"
   ]
  },
  {
   "cell_type": "code",
   "execution_count": null,
   "id": "45418f22-bcbf-4b78-a607-82ac98a50a9b",
   "metadata": {},
   "outputs": [],
   "source": []
  }
 ],
 "metadata": {
  "kernelspec": {
   "display_name": "Python 3 (ipykernel)",
   "language": "python",
   "name": "python3"
  },
  "language_info": {
   "codemirror_mode": {
    "name": "ipython",
    "version": 3
   },
   "file_extension": ".py",
   "mimetype": "text/x-python",
   "name": "python",
   "nbconvert_exporter": "python",
   "pygments_lexer": "ipython3",
   "version": "3.10.12"
  }
 },
 "nbformat": 4,
 "nbformat_minor": 5
}

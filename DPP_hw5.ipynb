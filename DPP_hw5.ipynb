{
 "cells": [
  {
   "cell_type": "code",
   "execution_count": 1,
   "id": "e586a0a8-6475-47b1-9f5b-17a366530466",
   "metadata": {},
   "outputs": [],
   "source": [
    "#[기본] 강의록 코드 \n",
    "#[학습] 함수 및 패키지에 대한 한 줄 정리 및 주석\n",
    "#[응용] 강의록 코드와 다르게 해결한 코드 또는 다른 dataset에 적용"
   ]
  },
  {
   "cell_type": "markdown",
   "id": "2f301a0a-307e-4a7f-9bb3-5e7c937812ce",
   "metadata": {},
   "source": [
    "### Feature Engineering; feature개수 줄이기"
   ]
  },
  {
   "cell_type": "markdown",
   "id": "a95c123b-1e6a-4338-895d-e5ae67930acf",
   "metadata": {},
   "source": [
    "#### 독립변수 ⇒(인과관계, 단방향)⇒ 종속변수\n",
    "\n",
    "#### -독립(입력)변수: feature, attribute, observation\n",
    "#### -종속(반응)변수: target, class, label\n",
    "\n",
    "#### *인과관계 = 상관관계(=공변성,양방향) + 선후관계(선 독립, 후 종속변수) + 비허위적관계(타 변수 개입X)*"
   ]
  },
  {
   "cell_type": "markdown",
   "id": "1026223f-02a8-4f8e-a9c6-561b7937b250",
   "metadata": {},
   "source": [
    "#### ㉠ Feature Extraction: feature 변형; 저차원으로의 사영"
   ]
  },
  {
   "cell_type": "code",
   "execution_count": 2,
   "id": "63534899-71f1-49cd-8e4d-10638e853b96",
   "metadata": {},
   "outputs": [],
   "source": [
    "from sklearn import datasets\n",
    "wine= datasets.load_wine()\n",
    "#seaborn이 아닌, sklearn에서 dataset!\n",
    "#따라서 dataframe이 아닌, class(data, target)로 출력됨"
   ]
  },
  {
   "cell_type": "code",
   "execution_count": 3,
   "id": "45031790-e518-498d-8757-ced3ae8aa787",
   "metadata": {},
   "outputs": [
    {
     "name": "stdout",
     "output_type": "stream",
     "text": [
      "X.shape = (178, 13), y.shape = (178,)\n",
      "target_names = ['class_0', 'class_1', 'class_2']\n"
     ]
    }
   ],
   "source": [
    "X = wine.data #.data =feature\n",
    "y = wine.target #.target =target\n",
    "target_names = list(wine.target_names) #.target_names: target값 종류파악\n",
    "\n",
    "print(f'{X.shape = }, {y.shape = }') # 150개 데이터, 4 features\n",
    "print(f'{target_names = }')  "
   ]
  },
  {
   "cell_type": "markdown",
   "id": "fc74c0b1-6558-4b4a-be06-64077f557a13",
   "metadata": {},
   "source": [
    "#### ㉠-1. PCA(Principal Component Analysis, 주성분분석)\n",
    "#### : [비지도] 독립변수의 분산을 최대화하면서 서로 직교하는 축 만들기"
   ]
  },
  {
   "cell_type": "code",
   "execution_count": 4,
   "id": "e353df06-633f-419b-bd59-51e51416f27c",
   "metadata": {
    "tags": []
   },
   "outputs": [],
   "source": [
    "#데이터의 '스케일'에 따라 '설명가능한 분산량'이 달라질 수 있기 때문에\n",
    "#표준화를 먼저 해줘야한다!!\n",
    "from sklearn.preprocessing import StandardScaler\n",
    "\n",
    "X = StandardScaler().fit_transform(X)"
   ]
  },
  {
   "cell_type": "code",
   "execution_count": 5,
   "id": "3f909c89-6ab6-4d7d-a1cc-15377aad4a12",
   "metadata": {},
   "outputs": [
    {
     "name": "stdout",
     "output_type": "stream",
     "text": [
      "pca_fitted.components_ = array([[ 0.1443294 , -0.24518758, -0.00205106, -0.23932041,  0.14199204,\n",
      "         0.39466085,  0.4229343 , -0.2985331 ,  0.31342949, -0.0886167 ,\n",
      "         0.29671456,  0.37616741,  0.28675223],\n",
      "       [-0.48365155, -0.22493093, -0.31606881,  0.0105905 , -0.299634  ,\n",
      "        -0.06503951,  0.00335981, -0.02877949, -0.03930172, -0.52999567,\n",
      "         0.27923515,  0.16449619, -0.36490283]])\n",
      "pca_fitted.explained_variance_ratio_ = array([0.36198848, 0.1920749 ])\n",
      "X_pca.shape = (178, 2)\n"
     ]
    }
   ],
   "source": [
    "from sklearn.decomposition import PCA\n",
    "\n",
    "# PCA의 객체를 생성, k차원으로 설정(현재는 4차원)\n",
    "pca = PCA(n_components=2) # n_components = k; feature k개로 축소\n",
    "\n",
    "\n",
    "# PCA는 y값이 필요 없는 '비지도 학습'\n",
    "pca_fitted = pca.fit(X)\n",
    "\n",
    "print(f'{pca_fitted.components_ = }')  # 주성분 벡터: .components_ \n",
    " #; array k개 中 i번째 성분 = x_i의 계수\n",
    "print(f'{pca_fitted.explained_variance_ratio_ = }')\n",
    "# PCA의 'x의 분산' 보존력 (%): .explained_variance_ratio_\n",
    "\n",
    "\n",
    "X_pca = pca_fitted.transform(X) # 주성분 벡터로 데이터를 변환\n",
    "print(f'{X_pca.shape = }')  # 4차원 데이터가 2차원 데이터로 변환"
   ]
  },
  {
   "cell_type": "markdown",
   "id": "accd7b56-9dda-490e-9920-739f0dfe328c",
   "metadata": {},
   "source": [
    "#### ㉠-2. LDA(Linear Discriminant Analysis, 선형판별분석)\n",
    "#### : [지도] 같은 class의 데이터끼리 분류될 수 있도록 그은 축 만들기"
   ]
  },
  {
   "cell_type": "code",
   "execution_count": 6,
   "id": "f5cbca4d-da8c-46ea-adac-f54a2ef5285b",
   "metadata": {},
   "outputs": [
    {
     "name": "stdout",
     "output_type": "stream",
     "text": [
      "lda_fitted.coef_=array([[ 2.85542117e+00, -4.89788666e-02,  5.23156990e+00,\n",
      "        -7.77422596e-01,  6.62170776e-03, -2.16976970e+00,\n",
      "         4.85310738e+00,  2.36037857e+00, -9.78422688e-01,\n",
      "        -7.86790206e-01,  2.35758911e-01,  4.04832027e+00,\n",
      "         1.40369442e-02],\n",
      "       [-2.12348259e+00, -7.68274072e-01, -5.77105386e+00,\n",
      "         3.49607787e-01,  1.31672488e-03,  3.03762476e-02,\n",
      "         1.34898232e+00,  4.15204322e+00,  7.48631160e-01,\n",
      "        -6.54459561e-01,  3.81286126e+00, -3.42724866e-02,\n",
      "        -6.83988909e-03],\n",
      "       [-3.68803859e-01,  1.19660859e+00,  2.10587916e+00,\n",
      "         4.38453756e-01, -1.00868380e-02,  2.62207706e+00,\n",
      "        -7.96064750e+00, -9.04286258e+00,  9.52942959e-02,\n",
      "         1.93515106e+00, -5.92964428e+00, -4.92536562e+00,\n",
      "        -7.13640797e-03]])\n",
      "lda_fitted.explained_variance_ratio_=array([0.68747889, 0.31252111])\n",
      "X_lda.shape = (178, 2)\n"
     ]
    }
   ],
   "source": [
    "X = wine.data #.data =feature\n",
    "\n",
    "from sklearn.discriminant_analysis import LinearDiscriminantAnalysis\n",
    "\n",
    "# LDA의 객체를 생성. k차원으로 설정(현재는 4차원)\n",
    "lda = LinearDiscriminantAnalysis(n_components=2) # n_components = k; feature k개로 축소\n",
    "\n",
    "\n",
    "# LDA는 target(=y)이 필요한 지도학습이므로\n",
    "lda_fitted = lda.fit(X, y)\n",
    "\n",
    "print(f'{lda_fitted.coef_=}') # LDA의 계수: .coef_\n",
    " #; array k개 中 i번째 성분 = x_i의 계수\n",
    "print(f'{lda_fitted.explained_variance_ratio_=}')\n",
    "# LDA의 분산 보존력(%): .explained_variance_ratio_\n",
    "\n",
    "\n",
    "X_lda = lda_fitted.transform(X)\n",
    "print(f'{X_lda.shape = }')  # 4차원 데이터가 2차원 데이터로 변환됨"
   ]
  },
  {
   "cell_type": "markdown",
   "id": "a9b1da2b-66a0-4ce4-8dcd-98aa27d29fdf",
   "metadata": {},
   "source": [
    "#### ㉠-#. PCA VS LDA"
   ]
  },
  {
   "cell_type": "code",
   "execution_count": 7,
   "id": "6ed29285-f1bb-4fda-b52c-362dd279251c",
   "metadata": {},
   "outputs": [
    {
     "data": {
      "image/png": "[encoded data removed]",
      "text/plain": [
       "<Figure size 1000x400 with 2 Axes>"
      ]
     },
     "metadata": {},
     "output_type": "display_data"
    }
   ],
   "source": [
    "# 시각화 하기\n",
    "import matplotlib.pyplot as plt\n",
    "import seaborn as sns\n",
    "import pandas as pd\n",
    "\n",
    "\n",
    "blank_dict={}\n",
    "for i in range(len(wine.target_names)):\n",
    "    blank_dict.update({i:wine.target_names[i]})\n",
    "\n",
    "    \n",
    "# Seaborn을 이용하기 위해 궁합이 좋은 dataframe으로 변환\n",
    "df_pca = pd.DataFrame(X_pca, columns=['PC1', 'PC2'])\n",
    "df_lda = pd.DataFrame(X_lda, columns=['LD1', 'LD2'])\n",
    "y = pd.Series(y).replace(blank_dict)\n",
    " # LDA을 통해 y는 array형(0,1,2) 로 표현되었음..\n",
    "\n",
    "    \n",
    "# subplot으로 시각화\n",
    "fig, ax = plt.subplots(1, 2, figsize=(10, 4))\n",
    "\n",
    "# ax: subplot에서의 위치\n",
    "# hue: 표시색깔_구분기준, style: 표시점모양_구분기준, palette: 색조range\n",
    "sns.scatterplot(df_pca, x='PC1', y='PC2', hue=y, style=y, ax=ax[0], palette='Set1')\n",
    "ax[0].set_title('PCA of IRIS dataset') #선형\n",
    "\n",
    "sns.scatterplot(df_lda, x='LD1', y='LD2', hue=y, style=y, ax=ax[1], palette='Set1')\n",
    "ax[1].set_title('LDA of IRIS dataset') #lD1축에 직교하는 선\n",
    "\n",
    "plt.show()  #첫 번째 축의 설명력이 항상 가장 높다!!"
   ]
  },
  {
   "cell_type": "markdown",
   "id": "608aa929-a737-4935-a5a5-7675f82eb57a",
   "metadata": {},
   "source": [
    "# --------------------------------------------------"
   ]
  },
  {
   "cell_type": "markdown",
   "id": "4fd69a3f-e872-4e7b-8dbb-0cb4737292c0",
   "metadata": {},
   "source": [
    "#### ㉡ Feature Selection: feature 선택; "
   ]
  },
  {
   "cell_type": "markdown",
   "id": "a9979a7e-4d29-4bb3-9b9c-d03917d8bdc6",
   "metadata": {},
   "source": [
    "#### ㉡-1. Filter: 통계적 방법으로 feature 선택"
   ]
  },
  {
   "cell_type": "markdown",
   "id": "0cba5755-52a9-4d7a-8f57-8a4640e12bab",
   "metadata": {},
   "source": [
    "#### _1. [비지도] 분산 기반 선택 (Variance-based Selection): 분산大 = 설명력高"
   ]
  },
  {
   "cell_type": "code",
   "execution_count": 8,
   "id": "1d0196d3-4390-45a5-b834-3194d309e4a2",
   "metadata": {},
   "outputs": [
    {
     "name": "stdout",
     "output_type": "stream",
     "text": [
      "vbs_fitted.variances_ = array([6.55359730e-01, 1.24100408e+00, 7.48418003e-02, 1.10900306e+01,\n",
      "       2.02843328e+02, 3.89489032e-01, 9.92113512e-01, 1.54016191e-02,\n",
      "       3.25754248e-01, 5.34425585e+00, 5.19514497e-02, 5.01254463e-01,\n",
      "       9.86096010e+04])\n",
      "X_vbs_names = ['alcohol', 'malic_acid', 'alcalinity_of_ash', 'magnesium', 'total_phenols', 'flavanoids', 'proanthocyanins', 'color_intensity', 'od280/od315_of_diluted_wines', 'proline']\n",
      "X_vbs[:5] = array([[1.423e+01, 1.710e+00, 1.560e+01, 1.270e+02, 2.800e+00, 3.060e+00,\n",
      "        2.290e+00, 5.640e+00, 3.920e+00, 1.065e+03],\n",
      "       [1.320e+01, 1.780e+00, 1.120e+01, 1.000e+02, 2.650e+00, 2.760e+00,\n",
      "        1.280e+00, 4.380e+00, 3.400e+00, 1.050e+03],\n",
      "       [1.316e+01, 2.360e+00, 1.860e+01, 1.010e+02, 2.800e+00, 3.240e+00,\n",
      "        2.810e+00, 5.680e+00, 3.170e+00, 1.185e+03],\n",
      "       [1.437e+01, 1.950e+00, 1.680e+01, 1.130e+02, 3.850e+00, 3.490e+00,\n",
      "        2.180e+00, 7.800e+00, 3.450e+00, 1.480e+03],\n",
      "       [1.324e+01, 2.590e+00, 2.100e+01, 1.180e+02, 2.800e+00, 2.690e+00,\n",
      "        1.820e+00, 4.320e+00, 2.930e+00, 7.350e+02]])\n"
     ]
    }
   ],
   "source": [
    "X = wine.data #.data =feature\n",
    "y = wine.target #.target =target\n",
    "X_names=wine.feature_names\n",
    "\n",
    "from sklearn.feature_selection import VarianceThreshold\n",
    "vbs = VarianceThreshold(threshold=0.2) # 분산 ≥ 0.2 인 feature 선택\n",
    "\n",
    "vbs_fitted= vbs.fit(X) \n",
    "print(f'{vbs_fitted.variances_ = }') # .variances_: (선택된) feature의 분산\n",
    "\n",
    "X_vbs_names = [X_names[i] for i in vbs_fitted.get_support(indices=True)]\n",
    " # 선택된 array성분의 idx(: .get_support(indices=True))을 통해 new feature naming\n",
    "\n",
    "X_vbs=vbs_fitted.transform(X)\n",
    "\n",
    "print(f'{X_vbs_names = }')\n",
    "print(f'{X_vbs[:5] = }') #행 단위로 묶여서 출력"
   ]
  },
  {
   "cell_type": "markdown",
   "id": "3a430cc3-6c9d-4ae9-992d-6f6010e971a3",
   "metadata": {},
   "source": [
    "#### _2. [지도] ANOVA F-value:  p-value小 = 설명력高"
   ]
  },
  {
   "cell_type": "code",
   "execution_count": 9,
   "id": "e201008f-c00e-416c-b0ac-51ba106c51ca",
   "metadata": {},
   "outputs": [
    {
     "name": "stdout",
     "output_type": "stream",
     "text": [
      "< f_classif > \n",
      "\n",
      "X_fc_names =['flavanoids', 'proline']\n",
      "fc_fitted.scores_ = array([135.07762424,  36.94342496,  13.3129012 ,  35.77163741,\n",
      "        12.42958434,  93.73300962, 233.92587268,  27.57541715,\n",
      "        30.27138317, 120.66401844, 101.31679539, 189.97232058,\n",
      "       207.9203739 ])\n",
      "fc_fitted.pvalues_ = array([3.31950380e-36, 4.12722880e-14, 4.14996797e-06, 9.44447294e-14,\n",
      "       8.96339544e-06, 2.13767002e-28, 3.59858583e-50, 3.88804090e-11,\n",
      "       5.12535874e-12, 1.16200802e-33, 5.91766222e-30, 1.39310496e-44,\n",
      "       5.78316836e-47])\n",
      "\n",
      "X_fc[:5] = array([[   3.06, 1065.  ],\n",
      "       [   2.76, 1050.  ],\n",
      "       [   3.24, 1185.  ],\n",
      "       [   3.49, 1480.  ],\n",
      "       [   2.69,  735.  ]])\n"
     ]
    }
   ],
   "source": [
    "from sklearn.feature_selection import SelectKBest # k개의 베스트 feature선택\n",
    "from sklearn.feature_selection import f_classif\n",
    "fc = SelectKBest(f_classif, k=2)\n",
    " #H0: X와 y는 서로 독립적이다.(=설명력, 관계X)\n",
    "    \n",
    "fc_fitted = fc.fit(X,y)\n",
    "\n",
    "X_fc_names = [X_names[i] for i in fc_fitted.get_support(indices=True)]\n",
    " # 선택된 array성분의 idx: .get_support(indices=True)\n",
    "\n",
    "X_fc=fc_fitted.transform(X)\n",
    "\n",
    "\n",
    "print('< f_classif > \\n')\n",
    "print(f'{X_fc_names =}') #선택된 feature 이름\n",
    "print(f'{fc_fitted.scores_ = }') #점수가 높을수록 y에 대한 설명력이 높은 feature\n",
    "print(f'{fc_fitted.pvalues_ = }') #pvalue가 작을수록 H0기각 정도가 커짐\n",
    "\n",
    "print(f'\\n{X_fc[:5] = }') #행 단위로 묶여서 출력"
   ]
  },
  {
   "cell_type": "markdown",
   "id": "b3b60537-88bd-4ee7-b90b-afe10e356de1",
   "metadata": {},
   "source": [
    "#### _3. [지도] F-value 회귀 로 선택"
   ]
  },
  {
   "cell_type": "code",
   "execution_count": 10,
   "id": "3aa95fde-b7a4-4394-9bef-f1e1d856ed78",
   "metadata": {},
   "outputs": [
    {
     "name": "stdout",
     "output_type": "stream",
     "text": [
      "< f_regression > \n",
      "\n",
      "fr_fitted.scores_ = array([2.12496324e+01, 4.17269323e+01, 4.34814672e-01, 6.44956586e+01,\n",
      "       8.05344576e+00, 1.88537094e+02, 4.48671871e+02, 5.53438805e+01,\n",
      "       5.83949501e+01, 1.33652594e+01, 1.08396065e+02, 2.88755043e+02,\n",
      "       1.18116155e+02])\n",
      "fr_fitted.pvalues_ = array([7.72325331e-06, 9.91770326e-10, 5.10497750e-01, 1.33539479e-13,\n",
      "       5.07541577e-03, 1.23405114e-29, 2.73665226e-50, 4.28673904e-12,\n",
      "       1.32725092e-12, 3.38241649e-04, 4.40539946e-20, 5.88616358e-39,\n",
      "       2.23131917e-21])\n",
      "X_fr_names =['flavanoids', 'od280/od315_of_diluted_wines']\n",
      "\n",
      "X_fr[:5] = array([[3.06, 3.92],\n",
      "       [2.76, 3.4 ],\n",
      "       [3.24, 3.17],\n",
      "       [3.49, 3.45],\n",
      "       [2.69, 2.93]])\n"
     ]
    }
   ],
   "source": [
    "from sklearn.feature_selection import SelectKBest # k개의 베스트 피쳐를 선택\n",
    "from sklearn.feature_selection import f_regression\n",
    "fr = SelectKBest(f_regression, k=2)\n",
    "\n",
    "\n",
    "fr_fitted = fr.fit(X,y)\n",
    "X_fr_names = [X_names[i] for i in fr_fitted.get_support(indices=True)]\n",
    " # 선택된 array성분의 idx: .get_support(indices=True)\n",
    "\n",
    "X_fr=fr_fitted.transform(X)\n",
    "\n",
    "print('< f_regression > \\n')\n",
    "print(f'{fr_fitted.scores_ = }') #점수가 높을수록 y에 대한 설명력이 높은 feature\n",
    "print(f'{fr_fitted.pvalues_ = }') #pvalue가 작을수록 H0기각 정도가 커짐\n",
    "print(f'{X_fr_names =}') #선택된 feature 이름\n",
    "\n",
    "print(f'\\n{X_fr[:5] = }') #행 단위로 묶여서 출력"
   ]
  },
  {
   "cell_type": "markdown",
   "id": "c4393fbb-8ac7-486b-8a59-c47b51fde0f0",
   "metadata": {},
   "source": [
    "#### _4. [지도] 카이제곱 으로 선택"
   ]
  },
  {
   "cell_type": "code",
   "execution_count": 11,
   "id": "6439cb73-2d48-4609-b69d-2587e3bc7b8d",
   "metadata": {},
   "outputs": [
    {
     "name": "stdout",
     "output_type": "stream",
     "text": [
      "< chi2 > \n",
      "\n",
      "c2_fitted.scores_ = array([5.44549882e+00, 2.80686046e+01, 7.43380598e-01, 2.93836955e+01,\n",
      "       4.50263809e+01, 1.56230759e+01, 6.33343081e+01, 1.81548480e+00,\n",
      "       9.36828307e+00, 1.09016647e+02, 5.18253981e+00, 2.33898834e+01,\n",
      "       1.65400671e+04])\n",
      "c2_fitted.pvalues_ = array([6.56938863e-02, 8.03489047e-07, 6.89567769e-01, 4.16304971e-07,\n",
      "       1.66972759e-10, 4.05034646e-04, 1.76656548e-14, 4.03433989e-01,\n",
      "       9.24066398e-03, 2.12488671e-24, 7.49248322e-02, 8.33587826e-06,\n",
      "       0.00000000e+00])\n",
      "X_c2_names =['color_intensity', 'proline']\n",
      "\n",
      "X_c2[:5] = array([[   5.64, 1065.  ],\n",
      "       [   4.38, 1050.  ],\n",
      "       [   5.68, 1185.  ],\n",
      "       [   7.8 , 1480.  ],\n",
      "       [   4.32,  735.  ]])\n"
     ]
    }
   ],
   "source": [
    "from sklearn.feature_selection import SelectKBest # k개의 베스트 피쳐를 선택\n",
    "from sklearn.feature_selection import chi2\n",
    "c2 = SelectKBest(chi2, k=2)\n",
    "\n",
    "c2_fitted = c2.fit(X,y)\n",
    "X_c2_names = [X_names[i] for i in c2_fitted.get_support(indices=True)]\n",
    " # 선택된 array성분의 idx: .get_support(indices=True)\n",
    "\n",
    "X_c2=c2_fitted.transform(X)\n",
    "\n",
    "print('< chi2 > \\n')\n",
    "print(f'{c2_fitted.scores_ = }') #점수가 높을수록 y에 대한 설명력이 높은 feature\n",
    "print(f'{c2_fitted.pvalues_ = }') #pvalue가 작을수록 H0기각 정도가 커짐\n",
    "print(f'{X_c2_names =}') #선택된 feature 이름\n",
    "\n",
    "print(f'\\n{X_c2[:5] = }') #행 단위로 묶여서 출력"
   ]
  },
  {
   "cell_type": "markdown",
   "id": "aea7bced-9f9d-4ffb-af6e-672c9564d0c2",
   "metadata": {},
   "source": [
    "#### ㉡-2. Wrapper: algorithm으로 feature 선택"
   ]
  },
  {
   "cell_type": "markdown",
   "id": "ca303915-f649-4180-8184-65d55eeb1e0b",
   "metadata": {},
   "source": [
    "#### _1.[지도] RFE(Recursive Feature Elimination): SVM(SVR/SVC) ~ .ranking=1"
   ]
  },
  {
   "cell_type": "code",
   "execution_count": 12,
   "id": "b3aae7b5-ea1b-4693-b42c-7b04d9d16be8",
   "metadata": {},
   "outputs": [
    {
     "name": "stdout",
     "output_type": "stream",
     "text": [
      "RFE Rank:  [ 4  9  6  7 11  5  1  2 10  8  1  3 12]\n",
      "X_rfe_names = ['flavanoids', 'hue']\n",
      "X_rfe[:5] = array([[3.06, 1.04],\n",
      "       [2.76, 1.05],\n",
      "       [3.24, 1.03],\n",
      "       [3.49, 0.86],\n",
      "       [2.69, 1.04]])\n"
     ]
    }
   ],
   "source": [
    "#SVM_SVR\n",
    "\n",
    "from sklearn.feature_selection import RFE, RFECV\n",
    "from sklearn.svm import SVC, SVR\n",
    "svc = SVR(kernel=\"linear\", C=len(wine.target_names))\n",
    " # SVR: 오차=margin밖, 선형분류\n",
    "rfe = RFE(estimator=svc, n_features_to_select=2, step=1)\n",
    " # n_features_to_select =선택할 feature개수\n",
    " # step =한 번에 제거할 feature 개수 \n",
    "\n",
    "rfe_fitted=rfe.fit(X,y)\n",
    "print('RFE Rank: ', rfe_fitted.ranking_) # rank=1인 feature를 선택해, transform됨\n",
    "\n",
    "X_rfe = rfe_fitted.transform(X) \n",
    "X_rfe_names = [X_names[i] for i in rfe_fitted.get_support(indices=True)]\n",
    " # 선택된 array성분의 idx: .get_support(indices=True)\n",
    "\n",
    "print(f'{X_rfe_names = }')\n",
    "print(f'{X_rfe[:5] = }')"
   ]
  },
  {
   "cell_type": "code",
   "execution_count": 13,
   "id": "e26a40a0-4316-4868-8495-5e5c7b10621f",
   "metadata": {
    "tags": []
   },
   "outputs": [
    {
     "name": "stdout",
     "output_type": "stream",
     "text": [
      "RFE Rank:  [ 4  9  6  7 11  5  1  2 10  8  1  3 12]\n",
      "X_rfe_names = ['flavanoids', 'hue']\n",
      "X_rfe[:5] = array([[3.06, 1.04],\n",
      "       [2.76, 1.05],\n",
      "       [3.24, 1.03],\n",
      "       [3.49, 0.86],\n",
      "       [2.69, 1.04]])\n"
     ]
    }
   ],
   "source": [
    "#SVM_SVC\n",
    "\n",
    "from sklearn.feature_selection import RFE\n",
    "from sklearn.svm import SVC, SVR\n",
    "svc = SVR(kernel=\"linear\", C=len(wine.target_names))\n",
    " # SVC: 오차=margin안, 선형분류\n",
    "rfe = RFE(estimator=svc, n_features_to_select=2, step=1)\n",
    " # n_features_to_select =선택할 feature개수\n",
    " # step =한 번에 제거할 feature 개수 \n",
    "\n",
    "rfe_fitted=rfe.fit(X,y)\n",
    "print('RFE Rank: ', rfe_fitted.ranking_) # rank=1인 feature를 선택해, transform됨\n",
    "\n",
    "X_rfe = rfe_fitted.transform(X) \n",
    "X_rfe_names = [X_names[i] for i in rfe_fitted.get_support(indices=True)]\n",
    " # 선택된 array성분의 idx: .get_support(indices=True)\n",
    "\n",
    "print(f'{X_rfe_names = }')\n",
    "print(f'{X_rfe[:5] = }')"
   ]
  },
  {
   "cell_type": "markdown",
   "id": "8149d331-9426-48de-a540-26e8e39b2be3",
   "metadata": {},
   "source": [
    "##### ∴ SVR 이나 SVC나 rank=1인 feature는 동일했다."
   ]
  },
  {
   "cell_type": "markdown",
   "id": "1ff2e48a-8bc1-43d0-99bb-b36b7bf3cf16",
   "metadata": {},
   "source": [
    "#### _2.[지도] RFECV(RFE with Cross Validation); 최종 선택될 최적의 feature개수 파악"
   ]
  },
  {
   "cell_type": "code",
   "execution_count": 14,
   "id": "fc6ea911-9063-4ce2-afc7-0780c94c98e3",
   "metadata": {},
   "outputs": [
    {
     "name": "stdout",
     "output_type": "stream",
     "text": [
      "RFECV Rank:  [1 1 1 1 1 1 1 1 1 1 1 1 1]\n",
      "X_rfecv_names = ['alcohol', 'malic_acid', 'ash', 'alcalinity_of_ash', 'magnesium', 'total_phenols', 'flavanoids', 'nonflavanoid_phenols', 'proanthocyanins', 'color_intensity', 'hue', 'od280/od315_of_diluted_wines', 'proline']\n",
      "X_rfecv[:5] = array([[1.423e+01, 1.710e+00, 2.430e+00, 1.560e+01, 1.270e+02, 2.800e+00,\n",
      "        3.060e+00, 2.800e-01, 2.290e+00, 5.640e+00, 1.040e+00, 3.920e+00,\n",
      "        1.065e+03],\n",
      "       [1.320e+01, 1.780e+00, 2.140e+00, 1.120e+01, 1.000e+02, 2.650e+00,\n",
      "        2.760e+00, 2.600e-01, 1.280e+00, 4.380e+00, 1.050e+00, 3.400e+00,\n",
      "        1.050e+03],\n",
      "       [1.316e+01, 2.360e+00, 2.670e+00, 1.860e+01, 1.010e+02, 2.800e+00,\n",
      "        3.240e+00, 3.000e-01, 2.810e+00, 5.680e+00, 1.030e+00, 3.170e+00,\n",
      "        1.185e+03],\n",
      "       [1.437e+01, 1.950e+00, 2.500e+00, 1.680e+01, 1.130e+02, 3.850e+00,\n",
      "        3.490e+00, 2.400e-01, 2.180e+00, 7.800e+00, 8.600e-01, 3.450e+00,\n",
      "        1.480e+03],\n",
      "       [1.324e+01, 2.590e+00, 2.870e+00, 2.100e+01, 1.180e+02, 2.800e+00,\n",
      "        2.690e+00, 3.900e-01, 1.820e+00, 4.320e+00, 1.040e+00, 2.930e+00,\n",
      "        7.350e+02]])\n"
     ]
    }
   ],
   "source": [
    "from sklearn.feature_selection import RFECV\n",
    "from sklearn.svm import SVC, SVR\n",
    "rfecv = RFECV(estimator=svc, step=1, cv=3) \n",
    " # step =한 반에 제거할 feature개수\n",
    " # cv = 교차검증횟수; 교차검증의 목적: 최종 선택될 최적의 feature개수 파악\n",
    "\n",
    "rfecv_fitted=rfecv.fit(X, y)\n",
    "print('RFECV Rank: ', rfecv_fitted.ranking_) # rank=1인 feature를 선택해, transform됨\n",
    "\n",
    "X_rfecv = rfecv_fitted.transform(X) \n",
    "X_rfecv_names = [X_names[i] for i in rfecv_fitted.get_support(indices=True)] \n",
    " # 선택된 array성분의 idx: .get_support(indices=True)\n",
    "\n",
    "print(f'{X_rfecv_names = }')\n",
    "print(f'{X_rfecv[:5] = }')"
   ]
  },
  {
   "cell_type": "markdown",
   "id": "6237d7bd-5894-4828-9b7d-4e06b7647690",
   "metadata": {},
   "source": [
    "#### _3.[지도] SFS(Sequential Feature Selector): 전진선택, 후진제거 ; KNN이용"
   ]
  },
  {
   "cell_type": "code",
   "execution_count": 15,
   "id": "0ba8dada-99e8-4459-8ab5-216b80428c98",
   "metadata": {},
   "outputs": [
    {
     "name": "stdout",
     "output_type": "stream",
     "text": [
      "X_sfs_names = ['flavanoids', 'color_intensity']\n",
      "X_sfs[:5] = array([[3.06, 5.64],\n",
      "       [2.76, 4.38],\n",
      "       [3.24, 5.68],\n",
      "       [3.49, 7.8 ],\n",
      "       [2.69, 4.32]])\n"
     ]
    }
   ],
   "source": [
    "from sklearn.feature_selection import SequentialFeatureSelector\n",
    "from sklearn.neighbors import KNeighborsClassifier\n",
    "knn = KNeighborsClassifier(n_neighbors=3)\n",
    " #n_neighbors =판단기준이 되는, 관찰 이웃데이터 개수\n",
    "sfs = SequentialFeatureSelector(estimator=knn,\n",
    "                                n_features_to_select=2, direction='backward')\n",
    " # n_features_to_select =선택할 feature개수\n",
    " # direction = {'forward', 'backward'}: 전진선택, 후진제거\n",
    "\n",
    "\n",
    "sfs_fitted=sfs.fit(X, y)\n",
    "\n",
    "X_sfs = sfs_fitted.transform(X) \n",
    "X_sfs_names = [X_names[i] for i in sfs_fitted.get_support(indices=True)]\n",
    " # 선택된 array성분의 idx: .get_support(indices=True)\n",
    "\n",
    "print(f'{X_sfs_names = }')\n",
    "print(f'{X_sfs[:5] = }')"
   ]
  },
  {
   "cell_type": "markdown",
   "id": "08bbb864-920d-430a-abce-ea412a9ccaca",
   "metadata": {},
   "source": [
    "#### ㉡-3. Embedded: algorithm에 모든 feature를 넣은 후 선택"
   ]
  },
  {
   "cell_type": "markdown",
   "id": "9cf6edda-2f83-4e7f-aa66-bdf6717ab4cf",
   "metadata": {},
   "source": [
    "#### _1. [지도] '의사결정나무 기반 알고리즘'"
   ]
  },
  {
   "cell_type": "code",
   "execution_count": 16,
   "id": "b630a6e7-6bf9-4557-a403-70c7e235a605",
   "metadata": {},
   "outputs": [
    {
     "name": "stdout",
     "output_type": "stream",
     "text": [
      "SFM threshold:  0.07692307692307693\n"
     ]
    },
    {
     "data": {
      "text/html": [
       "<div>\n",
       "<style scoped>\n",
       "    .dataframe tbody tr th:only-of-type {\n",
       "        vertical-align: middle;\n",
       "    }\n",
       "\n",
       "    .dataframe tbody tr th {\n",
       "        vertical-align: top;\n",
       "    }\n",
       "\n",
       "    .dataframe thead th {\n",
       "        text-align: right;\n",
       "    }\n",
       "</style>\n",
       "<table border=\"1\" class=\"dataframe\">\n",
       "  <thead>\n",
       "    <tr style=\"text-align: right;\">\n",
       "      <th></th>\n",
       "      <th>flavanoids</th>\n",
       "      <th>od280/od315_of_diluted_wines</th>\n",
       "      <th>proline</th>\n",
       "    </tr>\n",
       "  </thead>\n",
       "  <tbody>\n",
       "    <tr>\n",
       "      <th>0</th>\n",
       "      <td>3.06</td>\n",
       "      <td>3.92</td>\n",
       "      <td>1065.0</td>\n",
       "    </tr>\n",
       "    <tr>\n",
       "      <th>1</th>\n",
       "      <td>2.76</td>\n",
       "      <td>3.40</td>\n",
       "      <td>1050.0</td>\n",
       "    </tr>\n",
       "    <tr>\n",
       "      <th>2</th>\n",
       "      <td>3.24</td>\n",
       "      <td>3.17</td>\n",
       "      <td>1185.0</td>\n",
       "    </tr>\n",
       "    <tr>\n",
       "      <th>3</th>\n",
       "      <td>3.49</td>\n",
       "      <td>3.45</td>\n",
       "      <td>1480.0</td>\n",
       "    </tr>\n",
       "    <tr>\n",
       "      <th>4</th>\n",
       "      <td>2.69</td>\n",
       "      <td>2.93</td>\n",
       "      <td>735.0</td>\n",
       "    </tr>\n",
       "  </tbody>\n",
       "</table>\n",
       "</div>"
      ],
      "text/plain": [
       "   flavanoids  od280/od315_of_diluted_wines  proline\n",
       "0        3.06                          3.92   1065.0\n",
       "1        2.76                          3.40   1050.0\n",
       "2        3.24                          3.17   1185.0\n",
       "3        3.49                          3.45   1480.0\n",
       "4        2.69                          2.93    735.0"
      ]
     },
     "execution_count": 16,
     "metadata": {},
     "output_type": "execute_result"
    }
   ],
   "source": [
    "from sklearn.feature_selection import SelectFromModel\n",
    "from sklearn import tree\n",
    "clf = tree.DecisionTreeClassifier(max_depth=3) # criterion_default: gini\n",
    "sfm = SelectFromModel(estimator=clf)\n",
    "\n",
    "sfm.set_output(transform='pandas') # 모형 구조 확인 및 출력을 pandas로 설정\n",
    "\n",
    "sfm_fitted=sfm.fit(X, y)\n",
    "print('SFM threshold: ', sfm_fitted.threshold_) #.threshold_: 중앙값 or 평균\n",
    "\n",
    "X_sfm = sfm.transform(X) \n",
    "X_sfm.columns = [X_names[i] for i in sfm.get_support(indices=True)]\n",
    " # 선택된 피쳐들의 이름\n",
    "\n",
    "X_sfm.head()"
   ]
  },
  {
   "cell_type": "markdown",
   "id": "aff86396-4d48-4e1a-8410-4992568fe214",
   "metadata": {},
   "source": [
    "##### ※ 의사결정나무는 파라미터, 특히 max_depth에 따라 변화가 크다.."
   ]
  },
  {
   "cell_type": "markdown",
   "id": "0b4bf57f-d12b-4360-bb30-dbbeeac464f8",
   "metadata": {},
   "source": [
    "# =============================="
   ]
  },
  {
   "cell_type": "markdown",
   "id": "2fe20d22-1db7-4209-8352-a1847333c453",
   "metadata": {},
   "source": [
    "### Pipeline: 하나의 처리과정으로 통합"
   ]
  },
  {
   "cell_type": "markdown",
   "id": "c79d5490-db56-4448-a603-662ed07ba38b",
   "metadata": {},
   "source": [
    "#### ; 여러 개의 추정기(estimator)를 하나의 추정기처럼 사용\n",
    "\n",
    "#### - 편리함과 캡슐화: fit 과 predict 한 번만 적용하면 됨\n",
    "#### - 통합된 hyper-parameter: grid search로 한 번에 최적화 가능\n",
    "#### - 안전성: 일관성유지; 교차검증시 랜덤성에 의한 데이터의 통계적 특성 변화 방지"
   ]
  },
  {
   "cell_type": "code",
   "execution_count": 17,
   "id": "b9868e7f-dd25-4fb1-a3d0-d4d6250355bb",
   "metadata": {},
   "outputs": [
    {
     "name": "stdout",
     "output_type": "stream",
     "text": [
      "Standard Scaled: \n",
      " [[ 1.51861254 -0.5622498   0.23205254 -1.16959318  1.91390522  0.80899739\n",
      "   1.03481896 -0.65956311  1.22488398  0.25171685  0.36217728  1.84791957\n",
      "   1.01300893]\n",
      " [ 0.24628963 -0.49941338 -0.82799632 -2.49084714  0.01814502  0.56864766\n",
      "   0.73362894 -0.82071924 -0.54472099 -0.29332133  0.40605066  1.1134493\n",
      "   0.96524152]\n",
      " [ 0.19687903  0.02123125  1.10933436 -0.2687382   0.08835836  0.80899739\n",
      "   1.21553297 -0.49840699  2.13596773  0.26901965  0.31830389  0.78858745\n",
      "   1.39514818]\n",
      " [ 1.69154964 -0.34681064  0.4879264  -0.80925118  0.93091845  2.49144552\n",
      "   1.46652465 -0.98187536  1.03215473  1.18606801 -0.42754369  1.18407144\n",
      "   2.33457383]\n",
      " [ 0.29570023  0.22769377  1.84040254  0.45194578  1.28198515  0.80899739\n",
      "   0.66335127  0.22679555  0.40140444 -0.31927553  0.36217728  0.44960118\n",
      "  -0.03787401]]\n",
      "Selected features: ['x6' 'x12']\n",
      "Estimate :  [0 0 0]\n",
      "Accuracy :  0.9269662921348315\n"
     ]
    }
   ],
   "source": [
    "X=wine.data\n",
    "y=wine.target\n",
    "\n",
    "#파이프라인X\n",
    "from sklearn.feature_selection import SelectKBest, f_classif # feature선택\n",
    "from sklearn.preprocessing import StandardScaler # 표준화\n",
    "from sklearn.tree import DecisionTreeClassifier # 의사결정나무\n",
    " \n",
    "# 1)표준화\n",
    "scaler = StandardScaler()\n",
    "X=scaler.fit_transform(X)\n",
    "print('Standard Scaled: \\n', X[:5, :])\n",
    "    \n",
    "# 2) feature선택 \n",
    "fc= SelectKBest(f_classif, k=2) #2차원으로 축소\n",
    "fc_fitted = fc.fit(X, y)\n",
    "X_fc=fc_fitted.transform(X)\n",
    "print('Selected features:', fc_fitted.get_feature_names_out())\n",
    " #.get_feature_names_out(): 선택된 feature; Xi\n",
    "\n",
    "# 3) 모델 학습\n",
    "clf = DecisionTreeClassifier(max_depth=3)\n",
    "clf_fitted=clf.fit(X_fc, y)\n",
    "print('Estimate : ', clf_fitted.predict(X_fc)[:3]) #예측치\n",
    "print('Accuracy : ', clf_fitted.score(X_fc, y)) #정확도"
   ]
  },
  {
   "cell_type": "markdown",
   "id": "aee570f8-f09d-4b8d-8741-52a3462b41ed",
   "metadata": {},
   "source": [
    "#### # Pipeline"
   ]
  },
  {
   "cell_type": "code",
   "execution_count": 18,
   "id": "adde7149-b5dd-42d4-b3ce-a3c5d64c3763",
   "metadata": {},
   "outputs": [
    {
     "data": {
      "text/html": [
       "<style>#sk-container-id-1 {color: black;}#sk-container-id-1 pre{padding: 0;}#sk-container-id-1 div.sk-toggleable {background-color: white;}#sk-container-id-1 label.sk-toggleable__label {cursor: pointer;display: block;width: 100%;margin-bottom: 0;padding: 0.3em;box-sizing: border-box;text-align: center;}#sk-container-id-1 label.sk-toggleable__label-arrow:before {content: \"▸\";float: left;margin-right: 0.25em;color: #696969;}#sk-container-id-1 label.sk-toggleable__label-arrow:hover:before {color: black;}#sk-container-id-1 div.sk-estimator:hover label.sk-toggleable__label-arrow:before {color: black;}#sk-container-id-1 div.sk-toggleable__content {max-height: 0;max-width: 0;overflow: hidden;text-align: left;background-color: #f0f8ff;}#sk-container-id-1 div.sk-toggleable__content pre {margin: 0.2em;color: black;border-radius: 0.25em;background-color: #f0f8ff;}#sk-container-id-1 input.sk-toggleable__control:checked~div.sk-toggleable__content {max-height: 200px;max-width: 100%;overflow: auto;}#sk-container-id-1 input.sk-toggleable__control:checked~label.sk-toggleable__label-arrow:before {content: \"▾\";}#sk-container-id-1 div.sk-estimator input.sk-toggleable__control:checked~label.sk-toggleable__label {background-color: #d4ebff;}#sk-container-id-1 div.sk-label input.sk-toggleable__control:checked~label.sk-toggleable__label {background-color: #d4ebff;}#sk-container-id-1 input.sk-hidden--visually {border: 0;clip: rect(1px 1px 1px 1px);clip: rect(1px, 1px, 1px, 1px);height: 1px;margin: -1px;overflow: hidden;padding: 0;position: absolute;width: 1px;}#sk-container-id-1 div.sk-estimator {font-family: monospace;background-color: #f0f8ff;border: 1px dotted black;border-radius: 0.25em;box-sizing: border-box;margin-bottom: 0.5em;}#sk-container-id-1 div.sk-estimator:hover {background-color: #d4ebff;}#sk-container-id-1 div.sk-parallel-item::after {content: \"\";width: 100%;border-bottom: 1px solid gray;flex-grow: 1;}#sk-container-id-1 div.sk-label:hover label.sk-toggleable__label {background-color: #d4ebff;}#sk-container-id-1 div.sk-serial::before {content: \"\";position: absolute;border-left: 1px solid gray;box-sizing: border-box;top: 0;bottom: 0;left: 50%;z-index: 0;}#sk-container-id-1 div.sk-serial {display: flex;flex-direction: column;align-items: center;background-color: white;padding-right: 0.2em;padding-left: 0.2em;position: relative;}#sk-container-id-1 div.sk-item {position: relative;z-index: 1;}#sk-container-id-1 div.sk-parallel {display: flex;align-items: stretch;justify-content: center;background-color: white;position: relative;}#sk-container-id-1 div.sk-item::before, #sk-container-id-1 div.sk-parallel-item::before {content: \"\";position: absolute;border-left: 1px solid gray;box-sizing: border-box;top: 0;bottom: 0;left: 50%;z-index: -1;}#sk-container-id-1 div.sk-parallel-item {display: flex;flex-direction: column;z-index: 1;position: relative;background-color: white;}#sk-container-id-1 div.sk-parallel-item:first-child::after {align-self: flex-end;width: 50%;}#sk-container-id-1 div.sk-parallel-item:last-child::after {align-self: flex-start;width: 50%;}#sk-container-id-1 div.sk-parallel-item:only-child::after {width: 0;}#sk-container-id-1 div.sk-dashed-wrapped {border: 1px dashed gray;margin: 0 0.4em 0.5em 0.4em;box-sizing: border-box;padding-bottom: 0.4em;background-color: white;}#sk-container-id-1 div.sk-label label {font-family: monospace;font-weight: bold;display: inline-block;line-height: 1.2em;}#sk-container-id-1 div.sk-label-container {text-align: center;}#sk-container-id-1 div.sk-container {/* jupyter's `normalize.less` sets `[hidden] { display: none; }` but bootstrap.min.css set `[hidden] { display: none !important; }` so we also need the `!important` here to be able to override the default hidden behavior on the sphinx rendered scikit-learn.org. See: https://github.com/scikit-learn/scikit-learn/issues/21755 */display: inline-block !important;position: relative;}#sk-container-id-1 div.sk-text-repr-fallback {display: none;}</style><div id=\"sk-container-id-1\" class=\"sk-top-container\"><div class=\"sk-text-repr-fallback\"><pre>Pipeline(steps=[(&#x27;Standardization&#x27;, StandardScaler()),\n",
       "                (&#x27;Feature_Selection&#x27;, SelectKBest(k=2)),\n",
       "                (&#x27;Decision_Tree&#x27;, DecisionTreeClassifier(max_depth=3))])</pre><b>In a Jupyter environment, please rerun this cell to show the HTML representation or trust the notebook. <br />On GitHub, the HTML representation is unable to render, please try loading this page with nbviewer.org.</b></div><div class=\"sk-container\" hidden><div class=\"sk-item sk-dashed-wrapped\"><div class=\"sk-label-container\"><div class=\"sk-label sk-toggleable\"><input class=\"sk-toggleable__control sk-hidden--visually\" id=\"sk-estimator-id-1\" type=\"checkbox\" ><label for=\"sk-estimator-id-1\" class=\"sk-toggleable__label sk-toggleable__label-arrow\">Pipeline</label><div class=\"sk-toggleable__content\"><pre>Pipeline(steps=[(&#x27;Standardization&#x27;, StandardScaler()),\n",
       "                (&#x27;Feature_Selection&#x27;, SelectKBest(k=2)),\n",
       "                (&#x27;Decision_Tree&#x27;, DecisionTreeClassifier(max_depth=3))])</pre></div></div></div><div class=\"sk-serial\"><div class=\"sk-item\"><div class=\"sk-estimator sk-toggleable\"><input class=\"sk-toggleable__control sk-hidden--visually\" id=\"sk-estimator-id-2\" type=\"checkbox\" ><label for=\"sk-estimator-id-2\" class=\"sk-toggleable__label sk-toggleable__label-arrow\">StandardScaler</label><div class=\"sk-toggleable__content\"><pre>StandardScaler()</pre></div></div></div><div class=\"sk-item\"><div class=\"sk-estimator sk-toggleable\"><input class=\"sk-toggleable__control sk-hidden--visually\" id=\"sk-estimator-id-3\" type=\"checkbox\" ><label for=\"sk-estimator-id-3\" class=\"sk-toggleable__label sk-toggleable__label-arrow\">SelectKBest</label><div class=\"sk-toggleable__content\"><pre>SelectKBest(k=2)</pre></div></div></div><div class=\"sk-item\"><div class=\"sk-estimator sk-toggleable\"><input class=\"sk-toggleable__control sk-hidden--visually\" id=\"sk-estimator-id-4\" type=\"checkbox\" ><label for=\"sk-estimator-id-4\" class=\"sk-toggleable__label sk-toggleable__label-arrow\">DecisionTreeClassifier</label><div class=\"sk-toggleable__content\"><pre>DecisionTreeClassifier(max_depth=3)</pre></div></div></div></div></div></div></div>"
      ],
      "text/plain": [
       "Pipeline(steps=[('Standardization', StandardScaler()),\n",
       "                ('Feature_Selection', SelectKBest(k=2)),\n",
       "                ('Decision_Tree', DecisionTreeClassifier(max_depth=3))])"
      ]
     },
     "metadata": {},
     "output_type": "display_data"
    },
    {
     "name": "stdout",
     "output_type": "stream",
     "text": [
      "Estimate :  [0 0 0]\n",
      "Accuracy :  0.9269662921348315\n"
     ]
    }
   ],
   "source": [
    "#파이프라인O\n",
    "from sklearn.pipeline import Pipeline # 파이프라인!!\n",
    "\n",
    "from sklearn.feature_selection import SelectKBest, f_classif # feature선택\n",
    "from sklearn.preprocessing import StandardScaler # 표준화\n",
    "from sklearn.tree import DecisionTreeClassifier # 의사결정나무\n",
    "\n",
    "\n",
    "# 0) pipeline 구축: ('단계 이름' : 메소드 )\n",
    "pipeline = Pipeline([ #실행순서대로 차례로 지정해줘야!!\n",
    "    ('Standardization', StandardScaler()), ## 1)\n",
    "    ('Feature_Selection', SelectKBest(f_classif, k=2)), ## 2)\n",
    "    ('Decision_Tree', DecisionTreeClassifier(max_depth=3)) ## 3)\n",
    "])\n",
    "display(pipeline) # 파이프라인 그래프로 구성 확인\n",
    "\n",
    "\n",
    "# 원본data를 그대로 넣어주면 된다..\n",
    "pipeline.fit(X, y) ## 모형 학습\n",
    "print('Estimate : ', pipeline.predict(X)[:3]) # 예측치\n",
    "print('Accuracy : ', pipeline.score(X, y)) # 정확도"
   ]
  },
  {
   "cell_type": "markdown",
   "id": "5813a0e6-7b51-454d-9943-87e561914329",
   "metadata": {},
   "source": [
    "#### # make_pipeline"
   ]
  },
  {
   "cell_type": "code",
   "execution_count": 19,
   "id": "dec39625-ba05-4958-ac43-a6dfbbdd7e04",
   "metadata": {},
   "outputs": [
    {
     "data": {
      "text/html": [
       "<style>#sk-container-id-2 {color: black;}#sk-container-id-2 pre{padding: 0;}#sk-container-id-2 div.sk-toggleable {background-color: white;}#sk-container-id-2 label.sk-toggleable__label {cursor: pointer;display: block;width: 100%;margin-bottom: 0;padding: 0.3em;box-sizing: border-box;text-align: center;}#sk-container-id-2 label.sk-toggleable__label-arrow:before {content: \"▸\";float: left;margin-right: 0.25em;color: #696969;}#sk-container-id-2 label.sk-toggleable__label-arrow:hover:before {color: black;}#sk-container-id-2 div.sk-estimator:hover label.sk-toggleable__label-arrow:before {color: black;}#sk-container-id-2 div.sk-toggleable__content {max-height: 0;max-width: 0;overflow: hidden;text-align: left;background-color: #f0f8ff;}#sk-container-id-2 div.sk-toggleable__content pre {margin: 0.2em;color: black;border-radius: 0.25em;background-color: #f0f8ff;}#sk-container-id-2 input.sk-toggleable__control:checked~div.sk-toggleable__content {max-height: 200px;max-width: 100%;overflow: auto;}#sk-container-id-2 input.sk-toggleable__control:checked~label.sk-toggleable__label-arrow:before {content: \"▾\";}#sk-container-id-2 div.sk-estimator input.sk-toggleable__control:checked~label.sk-toggleable__label {background-color: #d4ebff;}#sk-container-id-2 div.sk-label input.sk-toggleable__control:checked~label.sk-toggleable__label {background-color: #d4ebff;}#sk-container-id-2 input.sk-hidden--visually {border: 0;clip: rect(1px 1px 1px 1px);clip: rect(1px, 1px, 1px, 1px);height: 1px;margin: -1px;overflow: hidden;padding: 0;position: absolute;width: 1px;}#sk-container-id-2 div.sk-estimator {font-family: monospace;background-color: #f0f8ff;border: 1px dotted black;border-radius: 0.25em;box-sizing: border-box;margin-bottom: 0.5em;}#sk-container-id-2 div.sk-estimator:hover {background-color: #d4ebff;}#sk-container-id-2 div.sk-parallel-item::after {content: \"\";width: 100%;border-bottom: 1px solid gray;flex-grow: 1;}#sk-container-id-2 div.sk-label:hover label.sk-toggleable__label {background-color: #d4ebff;}#sk-container-id-2 div.sk-serial::before {content: \"\";position: absolute;border-left: 1px solid gray;box-sizing: border-box;top: 0;bottom: 0;left: 50%;z-index: 0;}#sk-container-id-2 div.sk-serial {display: flex;flex-direction: column;align-items: center;background-color: white;padding-right: 0.2em;padding-left: 0.2em;position: relative;}#sk-container-id-2 div.sk-item {position: relative;z-index: 1;}#sk-container-id-2 div.sk-parallel {display: flex;align-items: stretch;justify-content: center;background-color: white;position: relative;}#sk-container-id-2 div.sk-item::before, #sk-container-id-2 div.sk-parallel-item::before {content: \"\";position: absolute;border-left: 1px solid gray;box-sizing: border-box;top: 0;bottom: 0;left: 50%;z-index: -1;}#sk-container-id-2 div.sk-parallel-item {display: flex;flex-direction: column;z-index: 1;position: relative;background-color: white;}#sk-container-id-2 div.sk-parallel-item:first-child::after {align-self: flex-end;width: 50%;}#sk-container-id-2 div.sk-parallel-item:last-child::after {align-self: flex-start;width: 50%;}#sk-container-id-2 div.sk-parallel-item:only-child::after {width: 0;}#sk-container-id-2 div.sk-dashed-wrapped {border: 1px dashed gray;margin: 0 0.4em 0.5em 0.4em;box-sizing: border-box;padding-bottom: 0.4em;background-color: white;}#sk-container-id-2 div.sk-label label {font-family: monospace;font-weight: bold;display: inline-block;line-height: 1.2em;}#sk-container-id-2 div.sk-label-container {text-align: center;}#sk-container-id-2 div.sk-container {/* jupyter's `normalize.less` sets `[hidden] { display: none; }` but bootstrap.min.css set `[hidden] { display: none !important; }` so we also need the `!important` here to be able to override the default hidden behavior on the sphinx rendered scikit-learn.org. See: https://github.com/scikit-learn/scikit-learn/issues/21755 */display: inline-block !important;position: relative;}#sk-container-id-2 div.sk-text-repr-fallback {display: none;}</style><div id=\"sk-container-id-2\" class=\"sk-top-container\"><div class=\"sk-text-repr-fallback\"><pre>Pipeline(steps=[(&#x27;standardscaler&#x27;, StandardScaler()),\n",
       "                (&#x27;selectkbest&#x27;, SelectKBest(k=2)),\n",
       "                (&#x27;decisiontreeclassifier&#x27;,\n",
       "                 DecisionTreeClassifier(max_depth=3))])</pre><b>In a Jupyter environment, please rerun this cell to show the HTML representation or trust the notebook. <br />On GitHub, the HTML representation is unable to render, please try loading this page with nbviewer.org.</b></div><div class=\"sk-container\" hidden><div class=\"sk-item sk-dashed-wrapped\"><div class=\"sk-label-container\"><div class=\"sk-label sk-toggleable\"><input class=\"sk-toggleable__control sk-hidden--visually\" id=\"sk-estimator-id-5\" type=\"checkbox\" ><label for=\"sk-estimator-id-5\" class=\"sk-toggleable__label sk-toggleable__label-arrow\">Pipeline</label><div class=\"sk-toggleable__content\"><pre>Pipeline(steps=[(&#x27;standardscaler&#x27;, StandardScaler()),\n",
       "                (&#x27;selectkbest&#x27;, SelectKBest(k=2)),\n",
       "                (&#x27;decisiontreeclassifier&#x27;,\n",
       "                 DecisionTreeClassifier(max_depth=3))])</pre></div></div></div><div class=\"sk-serial\"><div class=\"sk-item\"><div class=\"sk-estimator sk-toggleable\"><input class=\"sk-toggleable__control sk-hidden--visually\" id=\"sk-estimator-id-6\" type=\"checkbox\" ><label for=\"sk-estimator-id-6\" class=\"sk-toggleable__label sk-toggleable__label-arrow\">StandardScaler</label><div class=\"sk-toggleable__content\"><pre>StandardScaler()</pre></div></div></div><div class=\"sk-item\"><div class=\"sk-estimator sk-toggleable\"><input class=\"sk-toggleable__control sk-hidden--visually\" id=\"sk-estimator-id-7\" type=\"checkbox\" ><label for=\"sk-estimator-id-7\" class=\"sk-toggleable__label sk-toggleable__label-arrow\">SelectKBest</label><div class=\"sk-toggleable__content\"><pre>SelectKBest(k=2)</pre></div></div></div><div class=\"sk-item\"><div class=\"sk-estimator sk-toggleable\"><input class=\"sk-toggleable__control sk-hidden--visually\" id=\"sk-estimator-id-8\" type=\"checkbox\" ><label for=\"sk-estimator-id-8\" class=\"sk-toggleable__label sk-toggleable__label-arrow\">DecisionTreeClassifier</label><div class=\"sk-toggleable__content\"><pre>DecisionTreeClassifier(max_depth=3)</pre></div></div></div></div></div></div></div>"
      ],
      "text/plain": [
       "Pipeline(steps=[('standardscaler', StandardScaler()),\n",
       "                ('selectkbest', SelectKBest(k=2)),\n",
       "                ('decisiontreeclassifier',\n",
       "                 DecisionTreeClassifier(max_depth=3))])"
      ]
     },
     "metadata": {},
     "output_type": "display_data"
    }
   ],
   "source": [
    "#make_pipeline: 파이프라인의 이름 자동 생성(=사용자지정 불가)\n",
    "from sklearn.pipeline import make_pipeline # 파이프라인!!\n",
    "\n",
    "pipeline_auto = make_pipeline( #Pipeline과 다르게, [ list ] 형식으로 구성하지 않음!!\n",
    "    StandardScaler(),                   #단계_abs_idx=0          \n",
    "    SelectKBest(f_classif, k=2),        #단계_abs_idx=1\n",
    "    DecisionTreeClassifier(max_depth=3) #단계_abs_idx=2\n",
    ")\n",
    "display(pipeline_auto) # 파이프라인 그래프로 구성 확인"
   ]
  },
  {
   "cell_type": "markdown",
   "id": "14d01ac4-41e9-460e-9675-219d90b344de",
   "metadata": {},
   "source": [
    "#### < pipeline의 내부 결과 확인 >: 2가지 방법!!\n",
    "##### 1) pipeline.named_steps[' 단계이름 ']: 해당 단계에서 fit된 객체 반환\n",
    "##### 2) pipeline[ 단계순서_abs_idx ]: 해당 단계에서 fit된 객체 반환"
   ]
  },
  {
   "cell_type": "code",
   "execution_count": 20,
   "id": "d180f2e8-0bee-45f9-8a67-b87fd4c7308b",
   "metadata": {},
   "outputs": [
    {
     "name": "stdout",
     "output_type": "stream",
     "text": [
      "Selected features: ['x6' 'x12']\n"
     ]
    }
   ],
   "source": [
    "# 아래처럼 'list'로 처리하는 것은 지양하자..\n",
    "# pipeline.named_steps['Feature_Selection'] == pipeline[0]\n",
    "\n",
    "print('Selected features:',\n",
    "      pipeline.named_steps['Feature_Selection'].get_feature_names_out())\n",
    " # 1) pipeline.named_steps[' 단계이름 ']: 해당 단계에서 fit된 객체 반환\n",
    " # 2) pipeline[ 단계순서_abs_idx ]: 해당 단계에서 fit된 객체 반환"
   ]
  },
  {
   "cell_type": "markdown",
   "id": "83b9d59d-55e2-49fc-9f61-4bc0ef2a6cd6",
   "metadata": {},
   "source": [
    "#### # Pipeline_example"
   ]
  },
  {
   "cell_type": "code",
   "execution_count": 21,
   "id": "13ab8c69-8a08-4066-aeb9-b1d257e29892",
   "metadata": {},
   "outputs": [
    {
     "name": "stdout",
     "output_type": "stream",
     "text": [
      "<class 'pandas.core.frame.DataFrame'>\n",
      "RangeIndex: 53940 entries, 0 to 53939\n",
      "Data columns (total 10 columns):\n",
      " #   Column   Non-Null Count  Dtype   \n",
      "---  ------   --------------  -----   \n",
      " 0   carat    53940 non-null  float64 \n",
      " 1   cut      53940 non-null  category\n",
      " 2   color    53940 non-null  category\n",
      " 3   clarity  53940 non-null  category\n",
      " 4   depth    53940 non-null  float64 \n",
      " 5   table    53940 non-null  float64 \n",
      " 6   price    53940 non-null  int64   \n",
      " 7   x        53940 non-null  float64 \n",
      " 8   y        53940 non-null  float64 \n",
      " 9   z        53940 non-null  float64 \n",
      "dtypes: category(3), float64(6), int64(1)\n",
      "memory usage: 3.0 MB\n"
     ]
    }
   ],
   "source": [
    "import seaborn as sns\n",
    "import pandas as pd\n",
    "\n",
    "dia = sns.load_dataset('diamonds')\n",
    "dia.info()\n",
    "\n",
    "X = dia.drop('price', axis=1) # feature\n",
    "y = dia['price']  # target"
   ]
  },
  {
   "cell_type": "code",
   "execution_count": 22,
   "id": "e9dd90d5-f33c-4f15-901b-7ca0bb0de506",
   "metadata": {},
   "outputs": [
    {
     "name": "stdout",
     "output_type": "stream",
     "text": [
      "numeric_col: ['carat', 'depth', 'table', 'x', 'y', 'z']\n",
      "category_col: ['cut', 'color', 'clarity']\n"
     ]
    }
   ],
   "source": [
    "# feature를 dtype에 따라 분리\n",
    "num_col = list(X.select_dtypes(exclude='category').columns)\n",
    "cat_col = list(X.select_dtypes(include='category').columns)\n",
    "\n",
    "print(f'numeric_col: {num_col}')\n",
    "print(f'category_col: {cat_col}')"
   ]
  },
  {
   "cell_type": "code",
   "execution_count": 23,
   "id": "1db91afe-3a82-4220-9833-a7d228875660",
   "metadata": {},
   "outputs": [
    {
     "data": {
      "text/html": [
       "<style>#sk-container-id-3 {color: black;}#sk-container-id-3 pre{padding: 0;}#sk-container-id-3 div.sk-toggleable {background-color: white;}#sk-container-id-3 label.sk-toggleable__label {cursor: pointer;display: block;width: 100%;margin-bottom: 0;padding: 0.3em;box-sizing: border-box;text-align: center;}#sk-container-id-3 label.sk-toggleable__label-arrow:before {content: \"▸\";float: left;margin-right: 0.25em;color: #696969;}#sk-container-id-3 label.sk-toggleable__label-arrow:hover:before {color: black;}#sk-container-id-3 div.sk-estimator:hover label.sk-toggleable__label-arrow:before {color: black;}#sk-container-id-3 div.sk-toggleable__content {max-height: 0;max-width: 0;overflow: hidden;text-align: left;background-color: #f0f8ff;}#sk-container-id-3 div.sk-toggleable__content pre {margin: 0.2em;color: black;border-radius: 0.25em;background-color: #f0f8ff;}#sk-container-id-3 input.sk-toggleable__control:checked~div.sk-toggleable__content {max-height: 200px;max-width: 100%;overflow: auto;}#sk-container-id-3 input.sk-toggleable__control:checked~label.sk-toggleable__label-arrow:before {content: \"▾\";}#sk-container-id-3 div.sk-estimator input.sk-toggleable__control:checked~label.sk-toggleable__label {background-color: #d4ebff;}#sk-container-id-3 div.sk-label input.sk-toggleable__control:checked~label.sk-toggleable__label {background-color: #d4ebff;}#sk-container-id-3 input.sk-hidden--visually {border: 0;clip: rect(1px 1px 1px 1px);clip: rect(1px, 1px, 1px, 1px);height: 1px;margin: -1px;overflow: hidden;padding: 0;position: absolute;width: 1px;}#sk-container-id-3 div.sk-estimator {font-family: monospace;background-color: #f0f8ff;border: 1px dotted black;border-radius: 0.25em;box-sizing: border-box;margin-bottom: 0.5em;}#sk-container-id-3 div.sk-estimator:hover {background-color: #d4ebff;}#sk-container-id-3 div.sk-parallel-item::after {content: \"\";width: 100%;border-bottom: 1px solid gray;flex-grow: 1;}#sk-container-id-3 div.sk-label:hover label.sk-toggleable__label {background-color: #d4ebff;}#sk-container-id-3 div.sk-serial::before {content: \"\";position: absolute;border-left: 1px solid gray;box-sizing: border-box;top: 0;bottom: 0;left: 50%;z-index: 0;}#sk-container-id-3 div.sk-serial {display: flex;flex-direction: column;align-items: center;background-color: white;padding-right: 0.2em;padding-left: 0.2em;position: relative;}#sk-container-id-3 div.sk-item {position: relative;z-index: 1;}#sk-container-id-3 div.sk-parallel {display: flex;align-items: stretch;justify-content: center;background-color: white;position: relative;}#sk-container-id-3 div.sk-item::before, #sk-container-id-3 div.sk-parallel-item::before {content: \"\";position: absolute;border-left: 1px solid gray;box-sizing: border-box;top: 0;bottom: 0;left: 50%;z-index: -1;}#sk-container-id-3 div.sk-parallel-item {display: flex;flex-direction: column;z-index: 1;position: relative;background-color: white;}#sk-container-id-3 div.sk-parallel-item:first-child::after {align-self: flex-end;width: 50%;}#sk-container-id-3 div.sk-parallel-item:last-child::after {align-self: flex-start;width: 50%;}#sk-container-id-3 div.sk-parallel-item:only-child::after {width: 0;}#sk-container-id-3 div.sk-dashed-wrapped {border: 1px dashed gray;margin: 0 0.4em 0.5em 0.4em;box-sizing: border-box;padding-bottom: 0.4em;background-color: white;}#sk-container-id-3 div.sk-label label {font-family: monospace;font-weight: bold;display: inline-block;line-height: 1.2em;}#sk-container-id-3 div.sk-label-container {text-align: center;}#sk-container-id-3 div.sk-container {/* jupyter's `normalize.less` sets `[hidden] { display: none; }` but bootstrap.min.css set `[hidden] { display: none !important; }` so we also need the `!important` here to be able to override the default hidden behavior on the sphinx rendered scikit-learn.org. See: https://github.com/scikit-learn/scikit-learn/issues/21755 */display: inline-block !important;position: relative;}#sk-container-id-3 div.sk-text-repr-fallback {display: none;}</style><div id=\"sk-container-id-3\" class=\"sk-top-container\"><div class=\"sk-text-repr-fallback\"><pre>Pipeline(steps=[(&#x27;imputer&#x27;, SimpleImputer()), (&#x27;scaler&#x27;, StandardScaler())])</pre><b>In a Jupyter environment, please rerun this cell to show the HTML representation or trust the notebook. <br />On GitHub, the HTML representation is unable to render, please try loading this page with nbviewer.org.</b></div><div class=\"sk-container\" hidden><div class=\"sk-item sk-dashed-wrapped\"><div class=\"sk-label-container\"><div class=\"sk-label sk-toggleable\"><input class=\"sk-toggleable__control sk-hidden--visually\" id=\"sk-estimator-id-9\" type=\"checkbox\" ><label for=\"sk-estimator-id-9\" class=\"sk-toggleable__label sk-toggleable__label-arrow\">Pipeline</label><div class=\"sk-toggleable__content\"><pre>Pipeline(steps=[(&#x27;imputer&#x27;, SimpleImputer()), (&#x27;scaler&#x27;, StandardScaler())])</pre></div></div></div><div class=\"sk-serial\"><div class=\"sk-item\"><div class=\"sk-estimator sk-toggleable\"><input class=\"sk-toggleable__control sk-hidden--visually\" id=\"sk-estimator-id-10\" type=\"checkbox\" ><label for=\"sk-estimator-id-10\" class=\"sk-toggleable__label sk-toggleable__label-arrow\">SimpleImputer</label><div class=\"sk-toggleable__content\"><pre>SimpleImputer()</pre></div></div></div><div class=\"sk-item\"><div class=\"sk-estimator sk-toggleable\"><input class=\"sk-toggleable__control sk-hidden--visually\" id=\"sk-estimator-id-11\" type=\"checkbox\" ><label for=\"sk-estimator-id-11\" class=\"sk-toggleable__label sk-toggleable__label-arrow\">StandardScaler</label><div class=\"sk-toggleable__content\"><pre>StandardScaler()</pre></div></div></div></div></div></div></div>"
      ],
      "text/plain": [
       "Pipeline(steps=[('imputer', SimpleImputer()), ('scaler', StandardScaler())])"
      ]
     },
     "metadata": {},
     "output_type": "display_data"
    },
    {
     "data": {
      "text/html": [
       "<div>\n",
       "<style scoped>\n",
       "    .dataframe tbody tr th:only-of-type {\n",
       "        vertical-align: middle;\n",
       "    }\n",
       "\n",
       "    .dataframe tbody tr th {\n",
       "        vertical-align: top;\n",
       "    }\n",
       "\n",
       "    .dataframe thead th {\n",
       "        text-align: right;\n",
       "    }\n",
       "</style>\n",
       "<table border=\"1\" class=\"dataframe\">\n",
       "  <thead>\n",
       "    <tr style=\"text-align: right;\">\n",
       "      <th></th>\n",
       "      <th>carat</th>\n",
       "      <th>depth</th>\n",
       "      <th>table</th>\n",
       "      <th>x</th>\n",
       "      <th>y</th>\n",
       "      <th>z</th>\n",
       "    </tr>\n",
       "  </thead>\n",
       "  <tbody>\n",
       "    <tr>\n",
       "      <th>0</th>\n",
       "      <td>-1.198168</td>\n",
       "      <td>-0.174092</td>\n",
       "      <td>-1.099672</td>\n",
       "      <td>-1.587837</td>\n",
       "      <td>-1.536196</td>\n",
       "      <td>-1.571129</td>\n",
       "    </tr>\n",
       "    <tr>\n",
       "      <th>1</th>\n",
       "      <td>-1.240361</td>\n",
       "      <td>-1.360738</td>\n",
       "      <td>1.585529</td>\n",
       "      <td>-1.641325</td>\n",
       "      <td>-1.658774</td>\n",
       "      <td>-1.741175</td>\n",
       "    </tr>\n",
       "    <tr>\n",
       "      <th>2</th>\n",
       "      <td>-1.198168</td>\n",
       "      <td>-3.385019</td>\n",
       "      <td>3.375663</td>\n",
       "      <td>-1.498691</td>\n",
       "      <td>-1.457395</td>\n",
       "      <td>-1.741175</td>\n",
       "    </tr>\n",
       "    <tr>\n",
       "      <th>3</th>\n",
       "      <td>-1.071587</td>\n",
       "      <td>0.454133</td>\n",
       "      <td>0.242928</td>\n",
       "      <td>-1.364971</td>\n",
       "      <td>-1.317305</td>\n",
       "      <td>-1.287720</td>\n",
       "    </tr>\n",
       "    <tr>\n",
       "      <th>4</th>\n",
       "      <td>-1.029394</td>\n",
       "      <td>1.082358</td>\n",
       "      <td>0.242928</td>\n",
       "      <td>-1.240167</td>\n",
       "      <td>-1.212238</td>\n",
       "      <td>-1.117674</td>\n",
       "    </tr>\n",
       "  </tbody>\n",
       "</table>\n",
       "</div>"
      ],
      "text/plain": [
       "      carat     depth     table         x         y         z\n",
       "0 -1.198168 -0.174092 -1.099672 -1.587837 -1.536196 -1.571129\n",
       "1 -1.240361 -1.360738  1.585529 -1.641325 -1.658774 -1.741175\n",
       "2 -1.198168 -3.385019  3.375663 -1.498691 -1.457395 -1.741175\n",
       "3 -1.071587  0.454133  0.242928 -1.364971 -1.317305 -1.287720\n",
       "4 -1.029394  1.082358  0.242928 -1.240167 -1.212238 -1.117674"
      ]
     },
     "execution_count": 23,
     "metadata": {},
     "output_type": "execute_result"
    }
   ],
   "source": [
    "from sklearn.pipeline import Pipeline\n",
    "from sklearn.preprocessing import StandardScaler\n",
    "from sklearn.impute import SimpleImputer\n",
    "\n",
    "# 수치형 data 파이프라인 구축\n",
    "num_pipeline = Pipeline([\n",
    "        ('imputer', SimpleImputer(strategy='mean')), # 1) 평균값으로 결측치 대체\n",
    "        ('scaler', StandardScaler()) # 2) 표준화\n",
    "])\n",
    "display(num_pipeline) # 파이프라인 그래프로 구성 확인\n",
    "\n",
    "# 파이프라인 학습\n",
    "num_piped = num_pipeline.fit_transform(X[num_col])\n",
    "pd.DataFrame(num_piped, columns=num_col).head()"
   ]
  },
  {
   "cell_type": "code",
   "execution_count": 24,
   "id": "a21e3bfc-0311-4a75-a0ab-5077f4a177f0",
   "metadata": {},
   "outputs": [
    {
     "data": {
      "text/html": [
       "<style>#sk-container-id-4 {color: black;}#sk-container-id-4 pre{padding: 0;}#sk-container-id-4 div.sk-toggleable {background-color: white;}#sk-container-id-4 label.sk-toggleable__label {cursor: pointer;display: block;width: 100%;margin-bottom: 0;padding: 0.3em;box-sizing: border-box;text-align: center;}#sk-container-id-4 label.sk-toggleable__label-arrow:before {content: \"▸\";float: left;margin-right: 0.25em;color: #696969;}#sk-container-id-4 label.sk-toggleable__label-arrow:hover:before {color: black;}#sk-container-id-4 div.sk-estimator:hover label.sk-toggleable__label-arrow:before {color: black;}#sk-container-id-4 div.sk-toggleable__content {max-height: 0;max-width: 0;overflow: hidden;text-align: left;background-color: #f0f8ff;}#sk-container-id-4 div.sk-toggleable__content pre {margin: 0.2em;color: black;border-radius: 0.25em;background-color: #f0f8ff;}#sk-container-id-4 input.sk-toggleable__control:checked~div.sk-toggleable__content {max-height: 200px;max-width: 100%;overflow: auto;}#sk-container-id-4 input.sk-toggleable__control:checked~label.sk-toggleable__label-arrow:before {content: \"▾\";}#sk-container-id-4 div.sk-estimator input.sk-toggleable__control:checked~label.sk-toggleable__label {background-color: #d4ebff;}#sk-container-id-4 div.sk-label input.sk-toggleable__control:checked~label.sk-toggleable__label {background-color: #d4ebff;}#sk-container-id-4 input.sk-hidden--visually {border: 0;clip: rect(1px 1px 1px 1px);clip: rect(1px, 1px, 1px, 1px);height: 1px;margin: -1px;overflow: hidden;padding: 0;position: absolute;width: 1px;}#sk-container-id-4 div.sk-estimator {font-family: monospace;background-color: #f0f8ff;border: 1px dotted black;border-radius: 0.25em;box-sizing: border-box;margin-bottom: 0.5em;}#sk-container-id-4 div.sk-estimator:hover {background-color: #d4ebff;}#sk-container-id-4 div.sk-parallel-item::after {content: \"\";width: 100%;border-bottom: 1px solid gray;flex-grow: 1;}#sk-container-id-4 div.sk-label:hover label.sk-toggleable__label {background-color: #d4ebff;}#sk-container-id-4 div.sk-serial::before {content: \"\";position: absolute;border-left: 1px solid gray;box-sizing: border-box;top: 0;bottom: 0;left: 50%;z-index: 0;}#sk-container-id-4 div.sk-serial {display: flex;flex-direction: column;align-items: center;background-color: white;padding-right: 0.2em;padding-left: 0.2em;position: relative;}#sk-container-id-4 div.sk-item {position: relative;z-index: 1;}#sk-container-id-4 div.sk-parallel {display: flex;align-items: stretch;justify-content: center;background-color: white;position: relative;}#sk-container-id-4 div.sk-item::before, #sk-container-id-4 div.sk-parallel-item::before {content: \"\";position: absolute;border-left: 1px solid gray;box-sizing: border-box;top: 0;bottom: 0;left: 50%;z-index: -1;}#sk-container-id-4 div.sk-parallel-item {display: flex;flex-direction: column;z-index: 1;position: relative;background-color: white;}#sk-container-id-4 div.sk-parallel-item:first-child::after {align-self: flex-end;width: 50%;}#sk-container-id-4 div.sk-parallel-item:last-child::after {align-self: flex-start;width: 50%;}#sk-container-id-4 div.sk-parallel-item:only-child::after {width: 0;}#sk-container-id-4 div.sk-dashed-wrapped {border: 1px dashed gray;margin: 0 0.4em 0.5em 0.4em;box-sizing: border-box;padding-bottom: 0.4em;background-color: white;}#sk-container-id-4 div.sk-label label {font-family: monospace;font-weight: bold;display: inline-block;line-height: 1.2em;}#sk-container-id-4 div.sk-label-container {text-align: center;}#sk-container-id-4 div.sk-container {/* jupyter's `normalize.less` sets `[hidden] { display: none; }` but bootstrap.min.css set `[hidden] { display: none !important; }` so we also need the `!important` here to be able to override the default hidden behavior on the sphinx rendered scikit-learn.org. See: https://github.com/scikit-learn/scikit-learn/issues/21755 */display: inline-block !important;position: relative;}#sk-container-id-4 div.sk-text-repr-fallback {display: none;}</style><div id=\"sk-container-id-4\" class=\"sk-top-container\"><div class=\"sk-text-repr-fallback\"><pre>Pipeline(steps=[(&#x27;imputer&#x27;,\n",
       "                 SimpleImputer(fill_value=&#x27;missing&#x27;, strategy=&#x27;constant&#x27;)),\n",
       "                (&#x27;onehot&#x27;, OneHotEncoder(sparse_output=False))])</pre><b>In a Jupyter environment, please rerun this cell to show the HTML representation or trust the notebook. <br />On GitHub, the HTML representation is unable to render, please try loading this page with nbviewer.org.</b></div><div class=\"sk-container\" hidden><div class=\"sk-item sk-dashed-wrapped\"><div class=\"sk-label-container\"><div class=\"sk-label sk-toggleable\"><input class=\"sk-toggleable__control sk-hidden--visually\" id=\"sk-estimator-id-12\" type=\"checkbox\" ><label for=\"sk-estimator-id-12\" class=\"sk-toggleable__label sk-toggleable__label-arrow\">Pipeline</label><div class=\"sk-toggleable__content\"><pre>Pipeline(steps=[(&#x27;imputer&#x27;,\n",
       "                 SimpleImputer(fill_value=&#x27;missing&#x27;, strategy=&#x27;constant&#x27;)),\n",
       "                (&#x27;onehot&#x27;, OneHotEncoder(sparse_output=False))])</pre></div></div></div><div class=\"sk-serial\"><div class=\"sk-item\"><div class=\"sk-estimator sk-toggleable\"><input class=\"sk-toggleable__control sk-hidden--visually\" id=\"sk-estimator-id-13\" type=\"checkbox\" ><label for=\"sk-estimator-id-13\" class=\"sk-toggleable__label sk-toggleable__label-arrow\">SimpleImputer</label><div class=\"sk-toggleable__content\"><pre>SimpleImputer(fill_value=&#x27;missing&#x27;, strategy=&#x27;constant&#x27;)</pre></div></div></div><div class=\"sk-item\"><div class=\"sk-estimator sk-toggleable\"><input class=\"sk-toggleable__control sk-hidden--visually\" id=\"sk-estimator-id-14\" type=\"checkbox\" ><label for=\"sk-estimator-id-14\" class=\"sk-toggleable__label sk-toggleable__label-arrow\">OneHotEncoder</label><div class=\"sk-toggleable__content\"><pre>OneHotEncoder(sparse_output=False)</pre></div></div></div></div></div></div></div>"
      ],
      "text/plain": [
       "Pipeline(steps=[('imputer',\n",
       "                 SimpleImputer(fill_value='missing', strategy='constant')),\n",
       "                ('onehot', OneHotEncoder(sparse_output=False))])"
      ]
     },
     "metadata": {},
     "output_type": "display_data"
    },
    {
     "data": {
      "text/html": [
       "<div>\n",
       "<style scoped>\n",
       "    .dataframe tbody tr th:only-of-type {\n",
       "        vertical-align: middle;\n",
       "    }\n",
       "\n",
       "    .dataframe tbody tr th {\n",
       "        vertical-align: top;\n",
       "    }\n",
       "\n",
       "    .dataframe thead th {\n",
       "        text-align: right;\n",
       "    }\n",
       "</style>\n",
       "<table border=\"1\" class=\"dataframe\">\n",
       "  <thead>\n",
       "    <tr style=\"text-align: right;\">\n",
       "      <th></th>\n",
       "      <th>x0_Fair</th>\n",
       "      <th>x0_Good</th>\n",
       "      <th>x0_Ideal</th>\n",
       "      <th>x0_Premium</th>\n",
       "      <th>x0_Very Good</th>\n",
       "      <th>x1_D</th>\n",
       "      <th>x1_E</th>\n",
       "      <th>x1_F</th>\n",
       "      <th>x1_G</th>\n",
       "      <th>x1_H</th>\n",
       "      <th>x1_I</th>\n",
       "      <th>x1_J</th>\n",
       "      <th>x2_I1</th>\n",
       "      <th>x2_IF</th>\n",
       "      <th>x2_SI1</th>\n",
       "      <th>x2_SI2</th>\n",
       "      <th>x2_VS1</th>\n",
       "      <th>x2_VS2</th>\n",
       "      <th>x2_VVS1</th>\n",
       "      <th>x2_VVS2</th>\n",
       "    </tr>\n",
       "  </thead>\n",
       "  <tbody>\n",
       "    <tr>\n",
       "      <th>0</th>\n",
       "      <td>0.0</td>\n",
       "      <td>0.0</td>\n",
       "      <td>1.0</td>\n",
       "      <td>0.0</td>\n",
       "      <td>0.0</td>\n",
       "      <td>0.0</td>\n",
       "      <td>1.0</td>\n",
       "      <td>0.0</td>\n",
       "      <td>0.0</td>\n",
       "      <td>0.0</td>\n",
       "      <td>0.0</td>\n",
       "      <td>0.0</td>\n",
       "      <td>0.0</td>\n",
       "      <td>0.0</td>\n",
       "      <td>0.0</td>\n",
       "      <td>1.0</td>\n",
       "      <td>0.0</td>\n",
       "      <td>0.0</td>\n",
       "      <td>0.0</td>\n",
       "      <td>0.0</td>\n",
       "    </tr>\n",
       "    <tr>\n",
       "      <th>1</th>\n",
       "      <td>0.0</td>\n",
       "      <td>0.0</td>\n",
       "      <td>0.0</td>\n",
       "      <td>1.0</td>\n",
       "      <td>0.0</td>\n",
       "      <td>0.0</td>\n",
       "      <td>1.0</td>\n",
       "      <td>0.0</td>\n",
       "      <td>0.0</td>\n",
       "      <td>0.0</td>\n",
       "      <td>0.0</td>\n",
       "      <td>0.0</td>\n",
       "      <td>0.0</td>\n",
       "      <td>0.0</td>\n",
       "      <td>1.0</td>\n",
       "      <td>0.0</td>\n",
       "      <td>0.0</td>\n",
       "      <td>0.0</td>\n",
       "      <td>0.0</td>\n",
       "      <td>0.0</td>\n",
       "    </tr>\n",
       "    <tr>\n",
       "      <th>2</th>\n",
       "      <td>0.0</td>\n",
       "      <td>1.0</td>\n",
       "      <td>0.0</td>\n",
       "      <td>0.0</td>\n",
       "      <td>0.0</td>\n",
       "      <td>0.0</td>\n",
       "      <td>1.0</td>\n",
       "      <td>0.0</td>\n",
       "      <td>0.0</td>\n",
       "      <td>0.0</td>\n",
       "      <td>0.0</td>\n",
       "      <td>0.0</td>\n",
       "      <td>0.0</td>\n",
       "      <td>0.0</td>\n",
       "      <td>0.0</td>\n",
       "      <td>0.0</td>\n",
       "      <td>1.0</td>\n",
       "      <td>0.0</td>\n",
       "      <td>0.0</td>\n",
       "      <td>0.0</td>\n",
       "    </tr>\n",
       "    <tr>\n",
       "      <th>3</th>\n",
       "      <td>0.0</td>\n",
       "      <td>0.0</td>\n",
       "      <td>0.0</td>\n",
       "      <td>1.0</td>\n",
       "      <td>0.0</td>\n",
       "      <td>0.0</td>\n",
       "      <td>0.0</td>\n",
       "      <td>0.0</td>\n",
       "      <td>0.0</td>\n",
       "      <td>0.0</td>\n",
       "      <td>1.0</td>\n",
       "      <td>0.0</td>\n",
       "      <td>0.0</td>\n",
       "      <td>0.0</td>\n",
       "      <td>0.0</td>\n",
       "      <td>0.0</td>\n",
       "      <td>0.0</td>\n",
       "      <td>1.0</td>\n",
       "      <td>0.0</td>\n",
       "      <td>0.0</td>\n",
       "    </tr>\n",
       "    <tr>\n",
       "      <th>4</th>\n",
       "      <td>0.0</td>\n",
       "      <td>1.0</td>\n",
       "      <td>0.0</td>\n",
       "      <td>0.0</td>\n",
       "      <td>0.0</td>\n",
       "      <td>0.0</td>\n",
       "      <td>0.0</td>\n",
       "      <td>0.0</td>\n",
       "      <td>0.0</td>\n",
       "      <td>0.0</td>\n",
       "      <td>0.0</td>\n",
       "      <td>1.0</td>\n",
       "      <td>0.0</td>\n",
       "      <td>0.0</td>\n",
       "      <td>0.0</td>\n",
       "      <td>1.0</td>\n",
       "      <td>0.0</td>\n",
       "      <td>0.0</td>\n",
       "      <td>0.0</td>\n",
       "      <td>0.0</td>\n",
       "    </tr>\n",
       "  </tbody>\n",
       "</table>\n",
       "</div>"
      ],
      "text/plain": [
       "   x0_Fair  x0_Good  x0_Ideal  x0_Premium  x0_Very Good  x1_D  x1_E  x1_F  \\\n",
       "0      0.0      0.0       1.0         0.0           0.0   0.0   1.0   0.0   \n",
       "1      0.0      0.0       0.0         1.0           0.0   0.0   1.0   0.0   \n",
       "2      0.0      1.0       0.0         0.0           0.0   0.0   1.0   0.0   \n",
       "3      0.0      0.0       0.0         1.0           0.0   0.0   0.0   0.0   \n",
       "4      0.0      1.0       0.0         0.0           0.0   0.0   0.0   0.0   \n",
       "\n",
       "   x1_G  x1_H  x1_I  x1_J  x2_I1  x2_IF  x2_SI1  x2_SI2  x2_VS1  x2_VS2  \\\n",
       "0   0.0   0.0   0.0   0.0    0.0    0.0     0.0     1.0     0.0     0.0   \n",
       "1   0.0   0.0   0.0   0.0    0.0    0.0     1.0     0.0     0.0     0.0   \n",
       "2   0.0   0.0   0.0   0.0    0.0    0.0     0.0     0.0     1.0     0.0   \n",
       "3   0.0   0.0   1.0   0.0    0.0    0.0     0.0     0.0     0.0     1.0   \n",
       "4   0.0   0.0   0.0   1.0    0.0    0.0     0.0     1.0     0.0     0.0   \n",
       "\n",
       "   x2_VVS1  x2_VVS2  \n",
       "0      0.0      0.0  \n",
       "1      0.0      0.0  \n",
       "2      0.0      0.0  \n",
       "3      0.0      0.0  \n",
       "4      0.0      0.0  "
      ]
     },
     "execution_count": 24,
     "metadata": {},
     "output_type": "execute_result"
    }
   ],
   "source": [
    "from sklearn.pipeline import Pipeline\n",
    "from sklearn.impute import SimpleImputer\n",
    "from sklearn.preprocessing import OneHotEncoder\n",
    "\n",
    "#범주형 data 파이프라인 구축\n",
    "cat_pipeline = Pipeline([\n",
    "        ('imputer', SimpleImputer(strategy='constant', fill_value='missing')),\n",
    "          # 1) 'missing'으로 결측치 대체\n",
    "        ('onehot', OneHotEncoder(sparse_output=False)),\n",
    "         # 2) Onehotencoder; column개수 증가 주의!!\n",
    "])\n",
    "display(cat_pipeline) # 파이프라인 그래프로 구성 확인\n",
    "\n",
    "# 파이프라인 학습\n",
    "cat_piped = cat_pipeline.fit_transform(X[cat_col])\n",
    "\n",
    "# Onehotencoder의 컬럼명을 확인\n",
    "cat_colnames = cat_pipeline[1].get_feature_names_out()\n",
    "\n",
    "pd.DataFrame(cat_piped, columns=cat_colnames).head()"
   ]
  },
  {
   "cell_type": "code",
   "execution_count": 25,
   "id": "f149b414-8d62-4bf9-9ca2-b0728dc428bb",
   "metadata": {},
   "outputs": [
    {
     "data": {
      "text/html": [
       "<style>#sk-container-id-5 {color: black;}#sk-container-id-5 pre{padding: 0;}#sk-container-id-5 div.sk-toggleable {background-color: white;}#sk-container-id-5 label.sk-toggleable__label {cursor: pointer;display: block;width: 100%;margin-bottom: 0;padding: 0.3em;box-sizing: border-box;text-align: center;}#sk-container-id-5 label.sk-toggleable__label-arrow:before {content: \"▸\";float: left;margin-right: 0.25em;color: #696969;}#sk-container-id-5 label.sk-toggleable__label-arrow:hover:before {color: black;}#sk-container-id-5 div.sk-estimator:hover label.sk-toggleable__label-arrow:before {color: black;}#sk-container-id-5 div.sk-toggleable__content {max-height: 0;max-width: 0;overflow: hidden;text-align: left;background-color: #f0f8ff;}#sk-container-id-5 div.sk-toggleable__content pre {margin: 0.2em;color: black;border-radius: 0.25em;background-color: #f0f8ff;}#sk-container-id-5 input.sk-toggleable__control:checked~div.sk-toggleable__content {max-height: 200px;max-width: 100%;overflow: auto;}#sk-container-id-5 input.sk-toggleable__control:checked~label.sk-toggleable__label-arrow:before {content: \"▾\";}#sk-container-id-5 div.sk-estimator input.sk-toggleable__control:checked~label.sk-toggleable__label {background-color: #d4ebff;}#sk-container-id-5 div.sk-label input.sk-toggleable__control:checked~label.sk-toggleable__label {background-color: #d4ebff;}#sk-container-id-5 input.sk-hidden--visually {border: 0;clip: rect(1px 1px 1px 1px);clip: rect(1px, 1px, 1px, 1px);height: 1px;margin: -1px;overflow: hidden;padding: 0;position: absolute;width: 1px;}#sk-container-id-5 div.sk-estimator {font-family: monospace;background-color: #f0f8ff;border: 1px dotted black;border-radius: 0.25em;box-sizing: border-box;margin-bottom: 0.5em;}#sk-container-id-5 div.sk-estimator:hover {background-color: #d4ebff;}#sk-container-id-5 div.sk-parallel-item::after {content: \"\";width: 100%;border-bottom: 1px solid gray;flex-grow: 1;}#sk-container-id-5 div.sk-label:hover label.sk-toggleable__label {background-color: #d4ebff;}#sk-container-id-5 div.sk-serial::before {content: \"\";position: absolute;border-left: 1px solid gray;box-sizing: border-box;top: 0;bottom: 0;left: 50%;z-index: 0;}#sk-container-id-5 div.sk-serial {display: flex;flex-direction: column;align-items: center;background-color: white;padding-right: 0.2em;padding-left: 0.2em;position: relative;}#sk-container-id-5 div.sk-item {position: relative;z-index: 1;}#sk-container-id-5 div.sk-parallel {display: flex;align-items: stretch;justify-content: center;background-color: white;position: relative;}#sk-container-id-5 div.sk-item::before, #sk-container-id-5 div.sk-parallel-item::before {content: \"\";position: absolute;border-left: 1px solid gray;box-sizing: border-box;top: 0;bottom: 0;left: 50%;z-index: -1;}#sk-container-id-5 div.sk-parallel-item {display: flex;flex-direction: column;z-index: 1;position: relative;background-color: white;}#sk-container-id-5 div.sk-parallel-item:first-child::after {align-self: flex-end;width: 50%;}#sk-container-id-5 div.sk-parallel-item:last-child::after {align-self: flex-start;width: 50%;}#sk-container-id-5 div.sk-parallel-item:only-child::after {width: 0;}#sk-container-id-5 div.sk-dashed-wrapped {border: 1px dashed gray;margin: 0 0.4em 0.5em 0.4em;box-sizing: border-box;padding-bottom: 0.4em;background-color: white;}#sk-container-id-5 div.sk-label label {font-family: monospace;font-weight: bold;display: inline-block;line-height: 1.2em;}#sk-container-id-5 div.sk-label-container {text-align: center;}#sk-container-id-5 div.sk-container {/* jupyter's `normalize.less` sets `[hidden] { display: none; }` but bootstrap.min.css set `[hidden] { display: none !important; }` so we also need the `!important` here to be able to override the default hidden behavior on the sphinx rendered scikit-learn.org. See: https://github.com/scikit-learn/scikit-learn/issues/21755 */display: inline-block !important;position: relative;}#sk-container-id-5 div.sk-text-repr-fallback {display: none;}</style><div id=\"sk-container-id-5\" class=\"sk-top-container\"><div class=\"sk-text-repr-fallback\"><pre>Pipeline(steps=[(&#x27;columntransformer&#x27;,\n",
       "                 ColumnTransformer(transformers=[(&#x27;numeric&#x27;,\n",
       "                                                  Pipeline(steps=[(&#x27;imputer&#x27;,\n",
       "                                                                   SimpleImputer()),\n",
       "                                                                  (&#x27;scaler&#x27;,\n",
       "                                                                   StandardScaler())]),\n",
       "                                                  [&#x27;carat&#x27;, &#x27;depth&#x27;, &#x27;table&#x27;,\n",
       "                                                   &#x27;x&#x27;, &#x27;y&#x27;, &#x27;z&#x27;]),\n",
       "                                                 (&#x27;category&#x27;,\n",
       "                                                  Pipeline(steps=[(&#x27;imputer&#x27;,\n",
       "                                                                   SimpleImputer(fill_value=&#x27;missing&#x27;,\n",
       "                                                                                 strategy=&#x27;constant&#x27;)),\n",
       "                                                                  (&#x27;onehot&#x27;,\n",
       "                                                                   OneHotEncoder(sparse_output=False))]),\n",
       "                                                  [&#x27;cut&#x27;, &#x27;color&#x27;,\n",
       "                                                   &#x27;clarity&#x27;])])),\n",
       "                (&#x27;linearregression&#x27;, LinearRegression())])</pre><b>In a Jupyter environment, please rerun this cell to show the HTML representation or trust the notebook. <br />On GitHub, the HTML representation is unable to render, please try loading this page with nbviewer.org.</b></div><div class=\"sk-container\" hidden><div class=\"sk-item sk-dashed-wrapped\"><div class=\"sk-label-container\"><div class=\"sk-label sk-toggleable\"><input class=\"sk-toggleable__control sk-hidden--visually\" id=\"sk-estimator-id-15\" type=\"checkbox\" ><label for=\"sk-estimator-id-15\" class=\"sk-toggleable__label sk-toggleable__label-arrow\">Pipeline</label><div class=\"sk-toggleable__content\"><pre>Pipeline(steps=[(&#x27;columntransformer&#x27;,\n",
       "                 ColumnTransformer(transformers=[(&#x27;numeric&#x27;,\n",
       "                                                  Pipeline(steps=[(&#x27;imputer&#x27;,\n",
       "                                                                   SimpleImputer()),\n",
       "                                                                  (&#x27;scaler&#x27;,\n",
       "                                                                   StandardScaler())]),\n",
       "                                                  [&#x27;carat&#x27;, &#x27;depth&#x27;, &#x27;table&#x27;,\n",
       "                                                   &#x27;x&#x27;, &#x27;y&#x27;, &#x27;z&#x27;]),\n",
       "                                                 (&#x27;category&#x27;,\n",
       "                                                  Pipeline(steps=[(&#x27;imputer&#x27;,\n",
       "                                                                   SimpleImputer(fill_value=&#x27;missing&#x27;,\n",
       "                                                                                 strategy=&#x27;constant&#x27;)),\n",
       "                                                                  (&#x27;onehot&#x27;,\n",
       "                                                                   OneHotEncoder(sparse_output=False))]),\n",
       "                                                  [&#x27;cut&#x27;, &#x27;color&#x27;,\n",
       "                                                   &#x27;clarity&#x27;])])),\n",
       "                (&#x27;linearregression&#x27;, LinearRegression())])</pre></div></div></div><div class=\"sk-serial\"><div class=\"sk-item sk-dashed-wrapped\"><div class=\"sk-label-container\"><div class=\"sk-label sk-toggleable\"><input class=\"sk-toggleable__control sk-hidden--visually\" id=\"sk-estimator-id-16\" type=\"checkbox\" ><label for=\"sk-estimator-id-16\" class=\"sk-toggleable__label sk-toggleable__label-arrow\">columntransformer: ColumnTransformer</label><div class=\"sk-toggleable__content\"><pre>ColumnTransformer(transformers=[(&#x27;numeric&#x27;,\n",
       "                                 Pipeline(steps=[(&#x27;imputer&#x27;, SimpleImputer()),\n",
       "                                                 (&#x27;scaler&#x27;, StandardScaler())]),\n",
       "                                 [&#x27;carat&#x27;, &#x27;depth&#x27;, &#x27;table&#x27;, &#x27;x&#x27;, &#x27;y&#x27;, &#x27;z&#x27;]),\n",
       "                                (&#x27;category&#x27;,\n",
       "                                 Pipeline(steps=[(&#x27;imputer&#x27;,\n",
       "                                                  SimpleImputer(fill_value=&#x27;missing&#x27;,\n",
       "                                                                strategy=&#x27;constant&#x27;)),\n",
       "                                                 (&#x27;onehot&#x27;,\n",
       "                                                  OneHotEncoder(sparse_output=False))]),\n",
       "                                 [&#x27;cut&#x27;, &#x27;color&#x27;, &#x27;clarity&#x27;])])</pre></div></div></div><div class=\"sk-parallel\"><div class=\"sk-parallel-item\"><div class=\"sk-item\"><div class=\"sk-label-container\"><div class=\"sk-label sk-toggleable\"><input class=\"sk-toggleable__control sk-hidden--visually\" id=\"sk-estimator-id-17\" type=\"checkbox\" ><label for=\"sk-estimator-id-17\" class=\"sk-toggleable__label sk-toggleable__label-arrow\">numeric</label><div class=\"sk-toggleable__content\"><pre>[&#x27;carat&#x27;, &#x27;depth&#x27;, &#x27;table&#x27;, &#x27;x&#x27;, &#x27;y&#x27;, &#x27;z&#x27;]</pre></div></div></div><div class=\"sk-serial\"><div class=\"sk-item\"><div class=\"sk-serial\"><div class=\"sk-item\"><div class=\"sk-estimator sk-toggleable\"><input class=\"sk-toggleable__control sk-hidden--visually\" id=\"sk-estimator-id-18\" type=\"checkbox\" ><label for=\"sk-estimator-id-18\" class=\"sk-toggleable__label sk-toggleable__label-arrow\">SimpleImputer</label><div class=\"sk-toggleable__content\"><pre>SimpleImputer()</pre></div></div></div><div class=\"sk-item\"><div class=\"sk-estimator sk-toggleable\"><input class=\"sk-toggleable__control sk-hidden--visually\" id=\"sk-estimator-id-19\" type=\"checkbox\" ><label for=\"sk-estimator-id-19\" class=\"sk-toggleable__label sk-toggleable__label-arrow\">StandardScaler</label><div class=\"sk-toggleable__content\"><pre>StandardScaler()</pre></div></div></div></div></div></div></div></div><div class=\"sk-parallel-item\"><div class=\"sk-item\"><div class=\"sk-label-container\"><div class=\"sk-label sk-toggleable\"><input class=\"sk-toggleable__control sk-hidden--visually\" id=\"sk-estimator-id-20\" type=\"checkbox\" ><label for=\"sk-estimator-id-20\" class=\"sk-toggleable__label sk-toggleable__label-arrow\">category</label><div class=\"sk-toggleable__content\"><pre>[&#x27;cut&#x27;, &#x27;color&#x27;, &#x27;clarity&#x27;]</pre></div></div></div><div class=\"sk-serial\"><div class=\"sk-item\"><div class=\"sk-serial\"><div class=\"sk-item\"><div class=\"sk-estimator sk-toggleable\"><input class=\"sk-toggleable__control sk-hidden--visually\" id=\"sk-estimator-id-21\" type=\"checkbox\" ><label for=\"sk-estimator-id-21\" class=\"sk-toggleable__label sk-toggleable__label-arrow\">SimpleImputer</label><div class=\"sk-toggleable__content\"><pre>SimpleImputer(fill_value=&#x27;missing&#x27;, strategy=&#x27;constant&#x27;)</pre></div></div></div><div class=\"sk-item\"><div class=\"sk-estimator sk-toggleable\"><input class=\"sk-toggleable__control sk-hidden--visually\" id=\"sk-estimator-id-22\" type=\"checkbox\" ><label for=\"sk-estimator-id-22\" class=\"sk-toggleable__label sk-toggleable__label-arrow\">OneHotEncoder</label><div class=\"sk-toggleable__content\"><pre>OneHotEncoder(sparse_output=False)</pre></div></div></div></div></div></div></div></div></div></div><div class=\"sk-item\"><div class=\"sk-estimator sk-toggleable\"><input class=\"sk-toggleable__control sk-hidden--visually\" id=\"sk-estimator-id-23\" type=\"checkbox\" ><label for=\"sk-estimator-id-23\" class=\"sk-toggleable__label sk-toggleable__label-arrow\">LinearRegression</label><div class=\"sk-toggleable__content\"><pre>LinearRegression()</pre></div></div></div></div></div></div></div>"
      ],
      "text/plain": [
       "Pipeline(steps=[('columntransformer',\n",
       "                 ColumnTransformer(transformers=[('numeric',\n",
       "                                                  Pipeline(steps=[('imputer',\n",
       "                                                                   SimpleImputer()),\n",
       "                                                                  ('scaler',\n",
       "                                                                   StandardScaler())]),\n",
       "                                                  ['carat', 'depth', 'table',\n",
       "                                                   'x', 'y', 'z']),\n",
       "                                                 ('category',\n",
       "                                                  Pipeline(steps=[('imputer',\n",
       "                                                                   SimpleImputer(fill_value='missing',\n",
       "                                                                                 strategy='constant')),\n",
       "                                                                  ('onehot',\n",
       "                                                                   OneHotEncoder(sparse_output=False))]),\n",
       "                                                  ['cut', 'color',\n",
       "                                                   'clarity'])])),\n",
       "                ('linearregression', LinearRegression())])"
      ]
     },
     "metadata": {},
     "output_type": "display_data"
    },
    {
     "name": "stdout",
     "output_type": "stream",
     "text": [
      "Estimate :  [-1346.36428769  -664.59541111   211.10710617 ...  3030.54606309\n",
      "  2592.82921168  2733.70432005]\n",
      "Accuracy :  0.9197914950935594\n"
     ]
    }
   ],
   "source": [
    "#dtype 다른 파이프라인 결합: ColumnTransformer\n",
    "from sklearn.compose import ColumnTransformer\n",
    "\n",
    "from sklearn.linear_model import LinearRegression\n",
    "\n",
    "# 파이프라인 합치기: ( '기준이름', 적용pipeline, ['적용할 column명'] ) \n",
    "preprocessor = ColumnTransformer(\n",
    "    transformers=[\n",
    "        ('numeric', num_pipeline, num_col),\n",
    "        ('category', cat_pipeline, cat_col)\n",
    "    ])\n",
    "all_pipe = make_pipeline(\n",
    "    preprocessor,\n",
    "    LinearRegression() #dtype 상관없이 거쳐가는 마지막 단계\n",
    ")\n",
    "display(all_pipe) # 파이프라인 그래프로 구성 확인\n",
    "\n",
    "all_pipe.fit(X,y)\n",
    "print('Estimate : ', all_pipe.predict(X))\n",
    "print('Accuracy : ', all_pipe.score(X, y)) # =R-squared값 "
   ]
  },
  {
   "cell_type": "code",
   "execution_count": null,
   "id": "a3712f9e-5516-41ed-a811-9bfcc346b7bb",
   "metadata": {},
   "outputs": [],
   "source": []
  },
  {
   "cell_type": "code",
   "execution_count": null,
   "id": "c06f8f4e-9b67-461a-a14e-df5950ae41c7",
   "metadata": {},
   "outputs": [],
   "source": []
  }
 ],
 "metadata": {
  "kernelspec": {
   "display_name": "Python 3 (ipykernel)",
   "language": "python",
   "name": "python3"
  },
  "language_info": {
   "codemirror_mode": {
    "name": "ipython",
    "version": 3
   },
   "file_extension": ".py",
   "mimetype": "text/x-python",
   "name": "python",
   "nbconvert_exporter": "python",
   "pygments_lexer": "ipython3",
   "version": "3.10.12"
  }
 },
 "nbformat": 4,
 "nbformat_minor": 5
}
